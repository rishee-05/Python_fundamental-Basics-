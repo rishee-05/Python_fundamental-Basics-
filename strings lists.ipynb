{
  "cells": [
    {
      "cell_type": "markdown",
      "metadata": {
        "id": "iz0prYf-LiFB"
      },
      "source": [
        "Strings are sequence of Characters\n",
        "\n",
        "In Python specifically, strings are a sequence of Unicode Characters\n",
        "\n",
        "- Creating Strings\n",
        "- Accessing Strings\n",
        "- Adding Chars to Strings\n",
        "- Editing Strings\n",
        "- Deleting Strings\n",
        "- Operations on Strings\n",
        "- String Functions"
      ]
    },
    {
      "cell_type": "markdown",
      "metadata": {
        "id": "i75VO5hxL_4K"
      },
      "source": [
        "## Creating Stings"
      ]
    },
    {
      "cell_type": "code",
      "execution_count": 1,
      "metadata": {
        "colab": {
          "base_uri": "https://localhost:8080/"
        },
        "id": "FqMi90xxLotH",
        "outputId": "a4df54d5-c62e-4f3b-c012-955e8c9c6f28"
      },
      "outputs": [
        {
          "name": "stdout",
          "output_type": "stream",
          "text": [
            "hello\n"
          ]
        }
      ],
      "source": [
        "s = 'hello'\n",
        "s = \"hello\"\n",
        "# multiline strings\n",
        "s = '''hello'''\n",
        "s = \"\"\"hello\"\"\"\n",
        "s = str('hello')\n",
        "print(s)"
      ]
    },
    {
      "cell_type": "code",
      "execution_count": 1,
      "metadata": {
        "colab": {
          "base_uri": "https://localhost:8080/",
          "height": 36
        },
        "id": "NUEqGB84C1Vs",
        "outputId": "d36c8e49-bdc0-48c4-9d86-6aa39d9bf295"
      },
      "outputs": [
        {
          "data": {
            "text/plain": [
              "\"it's raining outside\""
            ]
          },
          "execution_count": 1,
          "metadata": {},
          "output_type": "execute_result"
        }
      ],
      "source": [
        "\"it's raining outside\""
      ]
    },
    {
      "cell_type": "markdown",
      "metadata": {
        "id": "24fOWaO_MCtn"
      },
      "source": [
        "## Accessing Substrings from a String:- either by indexing or slicing"
      ]
    },
    {
      "cell_type": "code",
      "execution_count": 3,
      "metadata": {
        "colab": {
          "base_uri": "https://localhost:8080/",
          "height": 204
        },
        "id": "es8p3f7FMGP1",
        "outputId": "bb82c5df-fd38-420d-dd57-0a362aa57c67"
      },
      "outputs": [
        {
          "name": "stdout",
          "output_type": "stream",
          "text": [
            "o\n"
          ]
        }
      ],
      "source": [
        "# Positive Indexing\n",
        "s = 'hello world'\n",
        "print(s[4])"
      ]
    },
    {
      "cell_type": "code",
      "execution_count": null,
      "metadata": {
        "colab": {
          "base_uri": "https://localhost:8080/"
        },
        "id": "_rdwDbNYD-lY",
        "outputId": "f45e7002-fabc-48ca-e337-8452cd545c5b"
      },
      "outputs": [
        {
          "name": "stdout",
          "output_type": "stream",
          "text": [
            "r\n"
          ]
        }
      ],
      "source": [
        "# Negative Indexing\n",
        "s = 'hello world'\n",
        "print(s[-3])"
      ]
    },
    {
      "cell_type": "code",
      "execution_count": null,
      "metadata": {
        "colab": {
          "base_uri": "https://localhost:8080/"
        },
        "id": "qWGgcTHpEcSC",
        "outputId": "f4e15e5f-7da1-4cf0-c311-f14a19b3b350"
      },
      "outputs": [
        {
          "name": "stdout",
          "output_type": "stream",
          "text": [
            "wol\n"
          ]
        }
      ],
      "source": [
        "# Slicing\n",
        "s = 'hello world'\n",
        "print(s[6:0:-2])"
      ]
    },
    {
      "cell_type": "code",
      "execution_count": null,
      "metadata": {
        "colab": {
          "base_uri": "https://localhost:8080/"
        },
        "id": "j8LMvRsRFr1S",
        "outputId": "7fcf9810-fceb-44a4-8371-8b3e2273c86a"
      },
      "outputs": [
        {
          "name": "stdout",
          "output_type": "stream",
          "text": [
            "dlrow olleh\n"
          ]
        }
      ],
      "source": [
        "print(s[::-1])"
      ]
    },
    {
      "cell_type": "code",
      "execution_count": null,
      "metadata": {
        "colab": {
          "base_uri": "https://localhost:8080/"
        },
        "id": "R06YO68eF0BU",
        "outputId": "20a4bebf-430f-4d32-a81d-29a82026b20d"
      },
      "outputs": [
        {
          "name": "stdout",
          "output_type": "stream",
          "text": [
            "dlrow\n"
          ]
        }
      ],
      "source": [
        "s = 'hello world'\n",
        "print(s[-1:-6:-1])"
      ]
    },
    {
      "cell_type": "code",
      "execution_count": 15,
      "metadata": {},
      "outputs": [
        {
          "name": "stdout",
          "output_type": "stream",
          "text": [
            "rishabh joshi\n",
            "hello python\n",
            "hello python\n",
            "True\n",
            "True\n",
            "hello python\n",
            "rishabh joshi\n",
            "rishabh joshi\n"
          ]
        }
      ],
      "source": [
        "str1 = \"rishabh joshi\"\n",
        "str2 = str1\n",
        "print(str2)\n",
        "str1 == str2\n",
        "str1 is str2\n",
        "\n",
        "\n",
        "obj1 = \"hello python\"\n",
        "obj2 = obj1[:]\n",
        "print(obj1)\n",
        "print(obj2)\n",
        "print(obj1 == obj2)\n",
        "print(obj1 is obj2)\n",
        "\n",
        "print(obj2)\n",
        "\n",
        "\n",
        "str1 = \"rishabh joshi\"\n",
        "print(str1[:])\n",
        "print(str1)"
      ]
    },
    {
      "cell_type": "markdown",
      "metadata": {
        "id": "g2VqMYWqMJSU"
      },
      "source": [
        "## Editing and Deleting in Strings"
      ]
    },
    {
      "cell_type": "code",
      "execution_count": null,
      "metadata": {
        "colab": {
          "base_uri": "https://localhost:8080/",
          "height": 187
        },
        "id": "j_jPqHHyMKGK",
        "outputId": "39bd3a6a-b332-4429-ba87-27ec22f152f9"
      },
      "outputs": [
        {
          "ename": "TypeError",
          "evalue": "ignored",
          "output_type": "error",
          "traceback": [
            "\u001b[0;31m---------------------------------------------------------------------------\u001b[0m",
            "\u001b[0;31mTypeError\u001b[0m                                 Traceback (most recent call last)",
            "\u001b[0;32m<ipython-input-80-0c8a824e3b73>\u001b[0m in \u001b[0;36m<module>\u001b[0;34m\u001b[0m\n\u001b[1;32m      1\u001b[0m \u001b[0ms\u001b[0m \u001b[0;34m=\u001b[0m \u001b[0;34m'hello world'\u001b[0m\u001b[0;34m\u001b[0m\u001b[0;34m\u001b[0m\u001b[0m\n\u001b[0;32m----> 2\u001b[0;31m \u001b[0ms\u001b[0m\u001b[0;34m[\u001b[0m\u001b[0;36m0\u001b[0m\u001b[0;34m]\u001b[0m \u001b[0;34m=\u001b[0m \u001b[0;34m'H'\u001b[0m\u001b[0;34m\u001b[0m\u001b[0;34m\u001b[0m\u001b[0m\n\u001b[0m",
            "\u001b[0;31mTypeError\u001b[0m: 'str' object does not support item assignment"
          ]
        }
      ],
      "source": [
        "s = 'hello world'\n",
        "s[0] = 'H'\n",
        "\n",
        "# Python strings are immutable"
      ]
    },
    {
      "cell_type": "code",
      "execution_count": 4,
      "metadata": {
        "colab": {
          "base_uri": "https://localhost:8080/",
          "height": 204
        },
        "id": "rF-XM6IOG8-0",
        "outputId": "e6223f5a-37bd-419f-8737-668115675fcd"
      },
      "outputs": [
        {
          "ename": "NameError",
          "evalue": "name 's' is not defined",
          "output_type": "error",
          "traceback": [
            "\u001b[1;31m---------------------------------------------------------------------------\u001b[0m",
            "\u001b[1;31mNameError\u001b[0m                                 Traceback (most recent call last)",
            "Cell \u001b[1;32mIn[4], line 3\u001b[0m\n\u001b[0;32m      1\u001b[0m s \u001b[38;5;241m=\u001b[39m \u001b[38;5;124m'\u001b[39m\u001b[38;5;124mhello world\u001b[39m\u001b[38;5;124m'\u001b[39m\n\u001b[0;32m      2\u001b[0m \u001b[38;5;28;01mdel\u001b[39;00m s\n\u001b[1;32m----> 3\u001b[0m \u001b[38;5;28mprint\u001b[39m(\u001b[43ms\u001b[49m)\n",
            "\u001b[1;31mNameError\u001b[0m: name 's' is not defined"
          ]
        }
      ],
      "source": [
        "s = 'hello world'\n",
        "del s\n",
        "print(s)"
      ]
    },
    {
      "cell_type": "code",
      "execution_count": 5,
      "metadata": {
        "colab": {
          "base_uri": "https://localhost:8080/",
          "height": 204
        },
        "id": "p72F5KruHO6x",
        "outputId": "365421c7-0bbe-4821-c0a5-d35d4fa80554"
      },
      "outputs": [
        {
          "ename": "TypeError",
          "evalue": "'str' object does not support item deletion",
          "output_type": "error",
          "traceback": [
            "\u001b[1;31m---------------------------------------------------------------------------\u001b[0m",
            "\u001b[1;31mTypeError\u001b[0m                                 Traceback (most recent call last)",
            "Cell \u001b[1;32mIn[5], line 2\u001b[0m\n\u001b[0;32m      1\u001b[0m s \u001b[38;5;241m=\u001b[39m \u001b[38;5;124m'\u001b[39m\u001b[38;5;124mhello world\u001b[39m\u001b[38;5;124m'\u001b[39m\n\u001b[1;32m----> 2\u001b[0m \u001b[38;5;28;01mdel\u001b[39;00m \u001b[43ms\u001b[49m\u001b[43m[\u001b[49m\u001b[38;5;241;43m-\u001b[39;49m\u001b[38;5;241;43m1\u001b[39;49m\u001b[43m:\u001b[49m\u001b[38;5;241;43m-\u001b[39;49m\u001b[38;5;241;43m5\u001b[39;49m\u001b[43m:\u001b[49m\u001b[38;5;241;43m2\u001b[39;49m\u001b[43m]\u001b[49m\n\u001b[0;32m      3\u001b[0m \u001b[38;5;28mprint\u001b[39m(s)\n",
            "\u001b[1;31mTypeError\u001b[0m: 'str' object does not support item deletion"
          ]
        }
      ],
      "source": [
        "s = 'hello world'\n",
        "del s[-1:-5:2]\n",
        "print(s)"
      ]
    },
    {
      "cell_type": "markdown",
      "metadata": {
        "id": "6icAp0UvMKsh"
      },
      "source": [
        "## Operations on Strings\n",
        "\n",
        "- Arithmetic Operations\n",
        "- Relational Operations\n",
        "- Logical Operations\n",
        "- Loops on Strings\n",
        "- Membership Operations"
      ]
    },
    {
      "cell_type": "code",
      "execution_count": null,
      "metadata": {
        "colab": {
          "base_uri": "https://localhost:8080/"
        },
        "id": "37rbhwLAMSt9",
        "outputId": "9ba3f855-375a-4355-8b94-21254da02eb0"
      },
      "outputs": [
        {
          "name": "stdout",
          "output_type": "stream",
          "text": [
            "delhi mumbai\n"
          ]
        }
      ],
      "source": [
        "print('delhi' + ' ' + 'mumbai')"
      ]
    },
    {
      "cell_type": "code",
      "execution_count": null,
      "metadata": {
        "colab": {
          "base_uri": "https://localhost:8080/"
        },
        "id": "cnTYYnv9HsIc",
        "outputId": "1bb37e5e-4328-4f3a-c7ad-5ae255fde2e1"
      },
      "outputs": [
        {
          "name": "stdout",
          "output_type": "stream",
          "text": [
            "delhidelhidelhidelhidelhi\n"
          ]
        }
      ],
      "source": [
        "print('delhi'*5)"
      ]
    },
    {
      "cell_type": "code",
      "execution_count": null,
      "metadata": {
        "colab": {
          "base_uri": "https://localhost:8080/"
        },
        "id": "OJM0LcTcHsQB",
        "outputId": "57e7a5c7-1dbb-4580-e6bf-c9e5da5f79df"
      },
      "outputs": [
        {
          "name": "stdout",
          "output_type": "stream",
          "text": [
            "**************************************************\n"
          ]
        }
      ],
      "source": [
        "print(\"*\"*50)"
      ]
    },
    {
      "cell_type": "code",
      "execution_count": null,
      "metadata": {
        "colab": {
          "base_uri": "https://localhost:8080/"
        },
        "id": "d5wx8XKeHsWP",
        "outputId": "477dc4a2-8676-46ba-cce2-2ed345fd2e5d"
      },
      "outputs": [
        {
          "data": {
            "text/plain": [
              "False"
            ]
          },
          "execution_count": 89,
          "metadata": {},
          "output_type": "execute_result"
        }
      ],
      "source": [
        "'delhi' != 'delhi'"
      ]
    },
    {
      "cell_type": "code",
      "execution_count": null,
      "metadata": {
        "colab": {
          "base_uri": "https://localhost:8080/"
        },
        "id": "G3byoyLNHsmo",
        "outputId": "1492fd4f-4329-4290-97f5-3f5ecee7b045"
      },
      "outputs": [
        {
          "data": {
            "text/plain": [
              "False"
            ]
          },
          "execution_count": 90,
          "metadata": {},
          "output_type": "execute_result"
        }
      ],
      "source": [
        "'mumbai' > 'pune'\n",
        "# lexiographically"
      ]
    },
    {
      "cell_type": "code",
      "execution_count": null,
      "metadata": {
        "colab": {
          "base_uri": "https://localhost:8080/"
        },
        "id": "qtZ0Zm-HHsry",
        "outputId": "c9d0bf38-795d-4888-8e09-7642b8a5e494"
      },
      "outputs": [
        {
          "data": {
            "text/plain": [
              "False"
            ]
          },
          "execution_count": 91,
          "metadata": {},
          "output_type": "execute_result"
        }
      ],
      "source": [
        "'Pune' > 'pune'"
      ]
    },
    {
      "cell_type": "code",
      "execution_count": null,
      "metadata": {
        "colab": {
          "base_uri": "https://localhost:8080/",
          "height": 36
        },
        "id": "pRj_nS6kHs00",
        "outputId": "c3ba2345-e53c-41ee-f257-89dc96c78435"
      },
      "outputs": [
        {
          "data": {
            "application/vnd.google.colaboratory.intrinsic+json": {
              "type": "string"
            },
            "text/plain": [
              "'world'"
            ]
          },
          "execution_count": 92,
          "metadata": {},
          "output_type": "execute_result"
        }
      ],
      "source": [
        "'hello' and 'world'"
      ]
    },
    {
      "cell_type": "code",
      "execution_count": null,
      "metadata": {
        "colab": {
          "base_uri": "https://localhost:8080/",
          "height": 36
        },
        "id": "KZhBwrGtJEFY",
        "outputId": "c5b891c8-e85e-4518-d3e8-874ffb0293b4"
      },
      "outputs": [
        {
          "data": {
            "application/vnd.google.colaboratory.intrinsic+json": {
              "type": "string"
            },
            "text/plain": [
              "'hello'"
            ]
          },
          "execution_count": 93,
          "metadata": {},
          "output_type": "execute_result"
        }
      ],
      "source": [
        "'hello' or 'world'"
      ]
    },
    {
      "cell_type": "code",
      "execution_count": null,
      "metadata": {
        "colab": {
          "base_uri": "https://localhost:8080/",
          "height": 36
        },
        "id": "d8W6QmDnJELj",
        "outputId": "a453a2e0-3502-49ac-d058-c69f6e248401"
      },
      "outputs": [
        {
          "data": {
            "application/vnd.google.colaboratory.intrinsic+json": {
              "type": "string"
            },
            "text/plain": [
              "''"
            ]
          },
          "execution_count": 94,
          "metadata": {},
          "output_type": "execute_result"
        }
      ],
      "source": [
        "'' and 'world'"
      ]
    },
    {
      "cell_type": "code",
      "execution_count": null,
      "metadata": {
        "colab": {
          "base_uri": "https://localhost:8080/",
          "height": 36
        },
        "id": "jTsHPpGQJESA",
        "outputId": "0512e1ce-47fe-4075-9b99-dc52a6cda55b"
      },
      "outputs": [
        {
          "data": {
            "application/vnd.google.colaboratory.intrinsic+json": {
              "type": "string"
            },
            "text/plain": [
              "'world'"
            ]
          },
          "execution_count": 95,
          "metadata": {},
          "output_type": "execute_result"
        }
      ],
      "source": [
        "'' or 'world'"
      ]
    },
    {
      "cell_type": "code",
      "execution_count": null,
      "metadata": {
        "colab": {
          "base_uri": "https://localhost:8080/",
          "height": 36
        },
        "id": "BvwdDf4PJmnz",
        "outputId": "d72174f5-64cc-42a1-bcbc-3c8790031df8"
      },
      "outputs": [
        {
          "data": {
            "application/vnd.google.colaboratory.intrinsic+json": {
              "type": "string"
            },
            "text/plain": [
              "'hello'"
            ]
          },
          "execution_count": 96,
          "metadata": {},
          "output_type": "execute_result"
        }
      ],
      "source": [
        "'hello' or 'world'"
      ]
    },
    {
      "cell_type": "code",
      "execution_count": null,
      "metadata": {
        "colab": {
          "base_uri": "https://localhost:8080/",
          "height": 36
        },
        "id": "pTRQabdQJnnV",
        "outputId": "5ab1851d-1203-45f1-989e-672b8ebe0f38"
      },
      "outputs": [
        {
          "data": {
            "application/vnd.google.colaboratory.intrinsic+json": {
              "type": "string"
            },
            "text/plain": [
              "'world'"
            ]
          },
          "execution_count": 97,
          "metadata": {},
          "output_type": "execute_result"
        }
      ],
      "source": [
        "'hello' and 'world'"
      ]
    },
    {
      "cell_type": "code",
      "execution_count": null,
      "metadata": {
        "colab": {
          "base_uri": "https://localhost:8080/"
        },
        "id": "jrf62do3J4VD",
        "outputId": "b7105118-adb0-4381-c9cd-102aa64d4c70"
      },
      "outputs": [
        {
          "data": {
            "text/plain": [
              "False"
            ]
          },
          "execution_count": 99,
          "metadata": {},
          "output_type": "execute_result"
        }
      ],
      "source": [
        "not 'hello'"
      ]
    },
    {
      "cell_type": "code",
      "execution_count": null,
      "metadata": {
        "colab": {
          "base_uri": "https://localhost:8080/"
        },
        "id": "i64jefPQKRtR",
        "outputId": "b9d5e844-fc1f-4403-862c-fdc845b39161"
      },
      "outputs": [
        {
          "ename": "SyntaxError",
          "evalue": "invalid syntax (876865332.py, line 1)",
          "output_type": "error",
          "traceback": [
            "\u001b[1;36m  Cell \u001b[1;32mIn[8], line 1\u001b[1;36m\u001b[0m\n\u001b[1;33m    [i+ \"!\" for i in 'hello']:\u001b[0m\n\u001b[1;37m                             ^\u001b[0m\n\u001b[1;31mSyntaxError\u001b[0m\u001b[1;31m:\u001b[0m invalid syntax\n"
          ]
        }
      ],
      "source": [
        "[i+ \"!\" for i in 'hello']:\n",
        "    print(i)\n",
        "  "
      ]
    },
    {
      "cell_type": "code",
      "execution_count": 14,
      "metadata": {},
      "outputs": [
        {
          "data": {
            "text/plain": [
              "['e! ', 'a! ', 'r! ', 't! ', 'h! ']"
            ]
          },
          "execution_count": 14,
          "metadata": {},
          "output_type": "execute_result"
        }
      ],
      "source": [
        "planet = 'earth'\n",
        "[char+'! ' for char in planet]\n"
      ]
    },
    {
      "cell_type": "code",
      "execution_count": null,
      "metadata": {
        "colab": {
          "base_uri": "https://localhost:8080/"
        },
        "id": "REKYlAzhKRzC",
        "outputId": "30920300-82b5-4406-b4eb-107c138d3ef4"
      },
      "outputs": [
        {
          "name": "stdout",
          "output_type": "stream",
          "text": [
            "pune\n",
            "pune\n",
            "pune\n",
            "pune\n",
            "pune\n"
          ]
        }
      ],
      "source": [
        "for i in 'delhi':\n",
        "  print('pune')"
      ]
    },
    {
      "cell_type": "code",
      "execution_count": null,
      "metadata": {
        "colab": {
          "base_uri": "https://localhost:8080/"
        },
        "id": "iaiPu9JKKR5K",
        "outputId": "db043779-a7f0-4d69-c1c0-2392891d6aa0"
      },
      "outputs": [
        {
          "data": {
            "text/plain": [
              "False"
            ]
          },
          "execution_count": 104,
          "metadata": {},
          "output_type": "execute_result"
        }
      ],
      "source": [
        "'D' in 'delhi'"
      ]
    },
    {
      "cell_type": "code",
      "execution_count": 7,
      "metadata": {
        "id": "ewWZeQyuKR_T"
      },
      "outputs": [
        {
          "name": "stdout",
          "output_type": "stream",
          "text": [
            "rishi\n",
            "rishi\n",
            "rishi\n",
            "rishi\n",
            "rishi\n",
            "rishi\n",
            "rishi\n"
          ]
        }
      ],
      "source": [
        "for i in \"Rishabh\":\n",
        "    print(\"rishi\")"
      ]
    },
    {
      "cell_type": "markdown",
      "metadata": {
        "id": "dE_jTrX5MYSV"
      },
      "source": [
        "## Common Functions\n",
        "- len\n",
        "- max :- function in Python returns the largest item in an iterable or the largest of two or more arguments. When used with strings, it compares the strings lexicographically\n",
        "- min:- function in Python returns the smallest item in an iterable or the smallest of two or more arguments. When used with strings, it compares the strings lexicographically\n",
        "- sorted\n",
        "- lexicographically :- strings are compared character by character based on their Unicode values. The comparison starts from the first character and proceeds to the next character only if the current characters are equal."
      ]
    },
    {
      "cell_type": "code",
      "execution_count": 3,
      "metadata": {
        "colab": {
          "base_uri": "https://localhost:8080/"
        },
        "id": "mIm1rHvIMcZ6",
        "outputId": "15ec3b75-9fd5-4345-b0fb-ec9a4be30281"
      },
      "outputs": [
        {
          "data": {
            "text/plain": [
              "11"
            ]
          },
          "execution_count": 3,
          "metadata": {},
          "output_type": "execute_result"
        }
      ],
      "source": [
        "len('hello world')"
      ]
    },
    {
      "cell_type": "code",
      "execution_count": null,
      "metadata": {
        "colab": {
          "base_uri": "https://localhost:8080/",
          "height": 36
        },
        "id": "kVpxwx3KLUlO",
        "outputId": "7dbad591-31cf-46a9-9126-1381f17cdbed"
      },
      "outputs": [
        {
          "data": {
            "application/vnd.google.colaboratory.intrinsic+json": {
              "type": "string"
            },
            "text/plain": [
              "'w'"
            ]
          },
          "execution_count": 106,
          "metadata": {},
          "output_type": "execute_result"
        }
      ],
      "source": [
        "max('hello world')"
      ]
    },
    {
      "cell_type": "code",
      "execution_count": 5,
      "metadata": {
        "colab": {
          "base_uri": "https://localhost:8080/",
          "height": 36
        },
        "id": "bWDAwg6TLUt-",
        "outputId": "1276ee22-52a1-4fb3-af5d-3c7030e063c8"
      },
      "outputs": [
        {
          "data": {
            "text/plain": [
              "' rishabh'"
            ]
          },
          "execution_count": 5,
          "metadata": {},
          "output_type": "execute_result"
        }
      ],
      "source": [
        "min('hello world',\" rishabh\", \"joshi\")\n",
        "# if there is space then space will be the minimum"
      ]
    },
    {
      "cell_type": "code",
      "execution_count": 8,
      "metadata": {
        "colab": {
          "base_uri": "https://localhost:8080/"
        },
        "id": "Z2dgEqi7LU1A",
        "outputId": "4decb050-6570-4974-b9a2-0aea95e081ca"
      },
      "outputs": [
        {
          "data": {
            "text/plain": [
              "[' ', 'd', 'e', 'h', 'l', 'l', 'l', 'o', 'o', 'r', 'w']"
            ]
          },
          "execution_count": 8,
          "metadata": {},
          "output_type": "execute_result"
        }
      ],
      "source": [
        "sorted('hello world',reverse=False)\n",
        "# true for descending order\n",
        "# false for ascending order    space comes first"
      ]
    },
    {
      "cell_type": "markdown",
      "metadata": {
        "id": "yHlmb_KxMf6f"
      },
      "source": [
        "### Capitalize/Title/Upper/Lower/Swapcase:- we do not need pass any argument in between argument"
      ]
    },
    {
      "cell_type": "code",
      "execution_count": null,
      "metadata": {
        "colab": {
          "base_uri": "https://localhost:8080/"
        },
        "id": "Ycqnmb-HMgyz",
        "outputId": "0a2bacaf-1c07-47b1-86e5-d5c386d40b7d"
      },
      "outputs": [
        {
          "name": "stdout",
          "output_type": "stream",
          "text": [
            "Hello world\n",
            "hello world\n"
          ]
        }
      ],
      "source": [
        "s = 'hello world'\n",
        "print(s.capitalize())\n",
        "print(s)"
      ]
    },
    {
      "cell_type": "code",
      "execution_count": null,
      "metadata": {
        "colab": {
          "base_uri": "https://localhost:8080/",
          "height": 36
        },
        "id": "KIBQhMj6L1iK",
        "outputId": "9ac3fa30-6744-4aea-89c0-0d1b3c986375"
      },
      "outputs": [
        {
          "data": {
            "application/vnd.google.colaboratory.intrinsic+json": {
              "type": "string"
            },
            "text/plain": [
              "'Hello World'"
            ]
          },
          "execution_count": 111,
          "metadata": {},
          "output_type": "execute_result"
        }
      ],
      "source": [
        "s.title()"
      ]
    },
    {
      "cell_type": "code",
      "execution_count": null,
      "metadata": {
        "colab": {
          "base_uri": "https://localhost:8080/",
          "height": 36
        },
        "id": "TPo-CYKWL25K",
        "outputId": "f6375733-fdf6-419f-8078-1ecb781aa9e3"
      },
      "outputs": [
        {
          "data": {
            "application/vnd.google.colaboratory.intrinsic+json": {
              "type": "string"
            },
            "text/plain": [
              "'HELLO WORLD'"
            ]
          },
          "execution_count": 112,
          "metadata": {},
          "output_type": "execute_result"
        }
      ],
      "source": [
        "s.upper()"
      ]
    },
    {
      "cell_type": "code",
      "execution_count": null,
      "metadata": {
        "colab": {
          "base_uri": "https://localhost:8080/",
          "height": 36
        },
        "id": "8ghClhVBL4Ed",
        "outputId": "bb407478-285c-4e88-ee16-093f50a6a9b3"
      },
      "outputs": [
        {
          "data": {
            "application/vnd.google.colaboratory.intrinsic+json": {
              "type": "string"
            },
            "text/plain": [
              "'hello wolrd'"
            ]
          },
          "execution_count": 113,
          "metadata": {},
          "output_type": "execute_result"
        }
      ],
      "source": [
        "'Hello Wolrd'.lower()"
      ]
    },
    {
      "cell_type": "code",
      "execution_count": null,
      "metadata": {
        "colab": {
          "base_uri": "https://localhost:8080/",
          "height": 36
        },
        "id": "Ac6I82JdL4bD",
        "outputId": "1034a753-bf8f-49aa-8139-27b11e8007b3"
      },
      "outputs": [
        {
          "data": {
            "application/vnd.google.colaboratory.intrinsic+json": {
              "type": "string"
            },
            "text/plain": [
              "'hElLo wORld'"
            ]
          },
          "execution_count": 114,
          "metadata": {},
          "output_type": "execute_result"
        }
      ],
      "source": [
        "'HeLlO WorLD'.swapcase()"
      ]
    },
    {
      "cell_type": "markdown",
      "metadata": {
        "id": "3iq5s2cnMhkE"
      },
      "source": [
        "## Count/Find/Index we need to pass argument here in the argument"
      ]
    },
    {
      "cell_type": "code",
      "execution_count": null,
      "metadata": {
        "colab": {
          "base_uri": "https://localhost:8080/"
        },
        "id": "puAH2DgBMmNd",
        "outputId": "8d4fbf2d-08f3-408c-9401-b40897e5ae2f"
      },
      "outputs": [
        {
          "data": {
            "text/plain": [
              "3"
            ]
          },
          "execution_count": 115,
          "metadata": {},
          "output_type": "execute_result"
        }
      ],
      "source": [
        "'my name is nitish'.count('i')"
      ]
    },
    {
      "cell_type": "code",
      "execution_count": null,
      "metadata": {
        "colab": {
          "base_uri": "https://localhost:8080/"
        },
        "id": "KK5lf-TyMbCR",
        "outputId": "3ef39fa4-db4a-4bca-e3a8-9cee6aefa6a9"
      },
      "outputs": [
        {
          "data": {
            "text/plain": [
              "-1"
            ]
          },
          "execution_count": 117,
          "metadata": {},
          "output_type": "execute_result"
        }
      ],
      "source": [
        "'my name is nitish'.find('x')"
      ]
    },
    {
      "cell_type": "code",
      "execution_count": 9,
      "metadata": {
        "colab": {
          "base_uri": "https://localhost:8080/",
          "height": 169
        },
        "id": "rkm5UBY3McKS",
        "outputId": "cb6a621b-5f30-4dbf-d5f4-433b79a4d1c4"
      },
      "outputs": [
        {
          "data": {
            "text/plain": [
              "8"
            ]
          },
          "execution_count": 9,
          "metadata": {},
          "output_type": "execute_result"
        }
      ],
      "source": [
        "'my name is nitish'.index('i')"
      ]
    },
    {
      "cell_type": "markdown",
      "metadata": {
        "id": "MrsT5bJuMmqs"
      },
      "source": [
        "## endswith/startswith"
      ]
    },
    {
      "cell_type": "code",
      "execution_count": 10,
      "metadata": {
        "colab": {
          "base_uri": "https://localhost:8080/"
        },
        "id": "TbyYTHMxMpbZ",
        "outputId": "2f76966f-8f4c-45d0-958d-979bf5d181a8"
      },
      "outputs": [
        {
          "data": {
            "text/plain": [
              "True"
            ]
          },
          "execution_count": 10,
          "metadata": {},
          "output_type": "execute_result"
        }
      ],
      "source": [
        "'my name is nitish'.endswith('nitish')"
      ]
    },
    {
      "cell_type": "code",
      "execution_count": 12,
      "metadata": {
        "colab": {
          "base_uri": "https://localhost:8080/"
        },
        "id": "gpR1WiKEM8Am",
        "outputId": "eb1e9b53-edd6-4185-96eb-ed39359b6dc0"
      },
      "outputs": [
        {
          "data": {
            "text/plain": [
              "True"
            ]
          },
          "execution_count": 12,
          "metadata": {},
          "output_type": "execute_result"
        }
      ],
      "source": [
        "'my name is nitish'.startswith('my')"
      ]
    },
    {
      "cell_type": "markdown",
      "metadata": {
        "id": "0A9eNV0YMqHg"
      },
      "source": [
        "## format"
      ]
    },
    {
      "cell_type": "code",
      "execution_count": 3,
      "metadata": {
        "colab": {
          "base_uri": "https://localhost:8080/",
          "height": 36
        },
        "id": "p9zAoUNjMtAC",
        "outputId": "e25d4cd5-22eb-4dde-9cd8-d80dd26524b9"
      },
      "outputs": [
        {
          "data": {
            "text/plain": [
              "'Hi my name is nitish and I am a male'"
            ]
          },
          "execution_count": 3,
          "metadata": {},
          "output_type": "execute_result"
        }
      ],
      "source": [
        "name = 'nitish'\n",
        "gender = 'male'\n",
        "\n",
        "'Hi my name is {1} and I am a {0}'.format(gender,name)"
      ]
    },
    {
      "cell_type": "markdown",
      "metadata": {
        "id": "vKc81z_fMvIn"
      },
      "source": [
        "## isalnum/ isalpha/ isdigit/ isidentifier"
      ]
    },
    {
      "cell_type": "code",
      "execution_count": null,
      "metadata": {
        "colab": {
          "base_uri": "https://localhost:8080/"
        },
        "id": "v2vFZEfCMv6c",
        "outputId": "72821996-f172-4dad-8ae1-d5a2d877eb4b"
      },
      "outputs": [
        {
          "data": {
            "text/plain": [
              "False"
            ]
          },
          "execution_count": 131,
          "metadata": {},
          "output_type": "execute_result"
        }
      ],
      "source": [
        "'nitish1234%'.isalnum()"
      ]
    },
    {
      "cell_type": "code",
      "execution_count": null,
      "metadata": {
        "colab": {
          "base_uri": "https://localhost:8080/"
        },
        "id": "_AJvibg9OT-K",
        "outputId": "65c06e50-18c9-41da-cfd0-89e8d00e7fa4"
      },
      "outputs": [
        {
          "data": {
            "text/plain": [
              "True"
            ]
          },
          "execution_count": 133,
          "metadata": {},
          "output_type": "execute_result"
        }
      ],
      "source": [
        "'nitish'.isalpha()"
      ]
    },
    {
      "cell_type": "code",
      "execution_count": null,
      "metadata": {
        "colab": {
          "base_uri": "https://localhost:8080/"
        },
        "id": "JLt0leaVOUGV",
        "outputId": "0ddcf634-5c80-4fc3-8136-2c5f5885ea93"
      },
      "outputs": [
        {
          "data": {
            "text/plain": [
              "False"
            ]
          },
          "execution_count": 135,
          "metadata": {},
          "output_type": "execute_result"
        }
      ],
      "source": [
        "'123abc'.isdigit()"
      ]
    },
    {
      "cell_type": "code",
      "execution_count": null,
      "metadata": {
        "colab": {
          "base_uri": "https://localhost:8080/"
        },
        "id": "V3NeoIviOUPa",
        "outputId": "cbd92200-d8d1-40bb-82bd-4a7cabe0745d"
      },
      "outputs": [
        {
          "data": {
            "text/plain": [
              "False"
            ]
          },
          "execution_count": 139,
          "metadata": {},
          "output_type": "execute_result"
        }
      ],
      "source": [
        "'first-name'.isidentifier()"
      ]
    },
    {
      "cell_type": "markdown",
      "metadata": {
        "id": "CkR9E0ywMyPE"
      },
      "source": [
        "## Split/Join"
      ]
    },
    {
      "cell_type": "code",
      "execution_count": 3,
      "metadata": {
        "colab": {
          "base_uri": "https://localhost:8080/"
        },
        "id": "82_UJMr7M0VC",
        "outputId": "f9fc2cd4-f718-4a72-fa56-24384f5a1337"
      },
      "outputs": [
        {
          "name": "stdout",
          "output_type": "stream",
          "text": [
            "5\n"
          ]
        }
      ],
      "source": [
        "x = 'hi my name is nitish'.split()\n",
        "# split function returns a list\n",
        "print(len(x))"
      ]
    },
    {
      "cell_type": "code",
      "execution_count": null,
      "metadata": {
        "colab": {
          "base_uri": "https://localhost:8080/",
          "height": 36
        },
        "id": "OmLemRVTO2Qq",
        "outputId": "9597fe72-5c6e-4216-db68-1aee43a8fe87"
      },
      "outputs": [
        {
          "data": {
            "application/vnd.google.colaboratory.intrinsic+json": {
              "type": "string"
            },
            "text/plain": [
              "'hi my name is nitish'"
            ]
          },
          "execution_count": 146,
          "metadata": {},
          "output_type": "execute_result"
        }
      ],
      "source": [
        "\" \".join(['hi', 'my', 'name', 'is', 'nitish'])\n",
        "# join function returns a string"
      ]
    },
    {
      "cell_type": "markdown",
      "metadata": {
        "id": "30p7nlw_M4M1"
      },
      "source": [
        "## Replace"
      ]
    },
    {
      "cell_type": "code",
      "execution_count": 2,
      "metadata": {
        "colab": {
          "base_uri": "https://localhost:8080/",
          "height": 36
        },
        "id": "vuobYzSTM5F-",
        "outputId": "31fc9c0a-80e1-42be-de9f-d8cb2ce800a8"
      },
      "outputs": [
        {
          "name": "stdout",
          "output_type": "stream",
          "text": [
            "hi my name is nitish\n",
            "hi my name is rishabh\n"
          ]
        }
      ],
      "source": [
        "nam = 'hi my name is rishabh'\n",
        "print(nam.replace('rishabh','nitish'))\n",
        "print(nam)    # the chabges are not reflected in the original string"
      ]
    },
    {
      "cell_type": "markdown",
      "metadata": {
        "id": "YqdGvSgFM5hW"
      },
      "source": [
        "## Strip:- built-in string method used to remove characters from the beginning and end of a string"
      ]
    },
    {
      "cell_type": "code",
      "execution_count": 23,
      "metadata": {
        "colab": {
          "base_uri": "https://localhost:8080/",
          "height": 36
        },
        "id": "AkWgOFpPM6wq",
        "outputId": "0d50c002-3615-44af-9a7a-74f1874d796c"
      },
      "outputs": [
        {
          "name": "stdout",
          "output_type": "stream",
          "text": [
            "nitish\n",
            " rishabh !!!!!!!!!!!!!\n",
            "!!!!!!!!!!! rishabh \n"
          ]
        }
      ],
      "source": [
        "print('!!!!!!!!!!!!nitish!!!!!!!!'.strip(\"!\"))\n",
        "print(\"!!!!!!!!!!! rishabh !!!!!!!!!!!!!\".lstrip('!'))\n",
        "print(\"!!!!!!!!!!! rishabh !!!!!!!!!!!!!\".rstrip('!'))\n"
      ]
    },
    {
      "cell_type": "markdown",
      "metadata": {},
      "source": [
        "### zip function:-used to combine elements from multiple iterables (like lists, tuples, or strings) into tuples"
      ]
    },
    {
      "cell_type": "code",
      "execution_count": 1,
      "metadata": {},
      "outputs": [
        {
          "name": "stdout",
          "output_type": "stream",
          "text": [
            "[('a', '1'), ('b', '2'), ('c', '3')]\n",
            "<class 'list'>\n",
            "[('a', '1'), ('b', '2')]\n"
          ]
        }
      ],
      "source": [
        "str1 = \"abc\"\n",
        "str2 = \"123\"\n",
        "\n",
        "# Using zip() to combine characters from str1 and str2\n",
        "zipped = zip(str1, str2)\n",
        "\n",
        "# Converting the zipped object to a list of tuples\n",
        "zipped_list = list(zipped)\n",
        "print(zipped_list)  # Output: [('a', '1'), ('b', '2'), ('c', '3')]\n",
        "print(type(zipped_list))\n",
        "\n",
        "\n",
        "str1 = \"abcd\"\n",
        "str2 = \"12\"\n",
        "# If the strings are of different lengths, zip() will stop creating pairs when the shortest input iterable is exhausted:\n",
        "# Using zip() to combine characters from str1 and str2\n",
        "zipped = zip(str1, str2)\n",
        "\n",
        "# Converting the zipped object to a list of tuples\n",
        "zipped_list = list(zipped)\n",
        "print(zipped_list)  # Output: [('a', '1'), ('b', '2')]"
      ]
    },
    {
      "cell_type": "markdown",
      "metadata": {
        "id": "YvVCKvEhNhie"
      },
      "source": [
        "## Example Programs"
      ]
    },
    {
      "cell_type": "code",
      "execution_count": null,
      "metadata": {
        "colab": {
          "base_uri": "https://localhost:8080/"
        },
        "id": "KKEdMynlM-_F",
        "outputId": "f7eccfbd-c7d3-4825-df4a-215b2a338aaa"
      },
      "outputs": [
        {
          "name": "stdout",
          "output_type": "stream",
          "text": [
            "enter the stringnitish\n",
            "length of string is 6\n"
          ]
        }
      ],
      "source": [
        "# Find the length of a given string without using the len() function\n",
        "\n",
        "s = input('enter the string')\n",
        "\n",
        "counter = 0\n",
        "\n",
        "for i in s:\n",
        "  counter += 1\n",
        "\n",
        "print('length of string is',counter)"
      ]
    },
    {
      "cell_type": "code",
      "execution_count": null,
      "metadata": {
        "colab": {
          "base_uri": "https://localhost:8080/"
        },
        "id": "2Db_x3upNzFo",
        "outputId": "db63c64d-3775-46c0-fbf6-a65ea0e96d5b"
      },
      "outputs": [
        {
          "name": "stdout",
          "output_type": "stream",
          "text": [
            "enter the emailsupport@campusx.in\n",
            "support\n"
          ]
        }
      ],
      "source": [
        "# Extract username from a given email.\n",
        "# Eg if the email is nitish24singh@gmail.com\n",
        "# then the username should be nitish24singh\n",
        "\n",
        "s = input('enter the email')\n",
        "\n",
        "pos = s.index('@')\n",
        "print(s[0:pos])\n",
        "\n"
      ]
    },
    {
      "cell_type": "code",
      "execution_count": null,
      "metadata": {
        "colab": {
          "base_uri": "https://localhost:8080/"
        },
        "id": "N7agO2bGN6ZH",
        "outputId": "744473ea-26a5-428e-dbd1-987a2c435967"
      },
      "outputs": [
        {
          "name": "stdout",
          "output_type": "stream",
          "text": [
            "enter the emailhi how are you\n",
            "what would like to search foro\n",
            "frequency 2\n"
          ]
        }
      ],
      "source": [
        "# Count the frequency of a particular character in a provided string.\n",
        "# Eg 'hello how are you' is the string, the frequency of h in this string is 2.\n",
        "\n",
        "s = input('enter the email')\n",
        "term = input('what would like to search for')\n",
        "\n",
        "counter = 0\n",
        "for i in s:\n",
        "  if i == term:\n",
        "    counter += 1\n",
        "\n",
        "print('frequency',counter)\n"
      ]
    },
    {
      "cell_type": "code",
      "execution_count": null,
      "metadata": {
        "colab": {
          "base_uri": "https://localhost:8080/"
        },
        "id": "5nnIm08wOAhP",
        "outputId": "b9db5f10-ec01-4539-ad92-9c6a7d6ff89c"
      },
      "outputs": [
        {
          "name": "stdout",
          "output_type": "stream",
          "text": [
            "enter the stringnitish\n",
            "what would like to removei\n",
            "ntsh\n"
          ]
        }
      ],
      "source": [
        "# Write a program which can remove a particular character from a string.\n",
        "s = input('enter the string')\n",
        "term = input('what would like to remove')\n",
        "\n",
        "result = ''\n",
        "\n",
        "for i in s:\n",
        "  if i != term:\n",
        "    result = result + i\n",
        "\n",
        "print(result)"
      ]
    },
    {
      "cell_type": "code",
      "execution_count": null,
      "metadata": {
        "colab": {
          "base_uri": "https://localhost:8080/"
        },
        "id": "OWLbKD8yOIL8",
        "outputId": "cd490de2-7bb3-49cb-a9a6-2227bca3e815"
      },
      "outputs": [
        {
          "name": "stdout",
          "output_type": "stream",
          "text": [
            "enter the stringpython\n",
            "Not a Palindrome\n"
          ]
        }
      ],
      "source": [
        "# Write a program that can check whether a given string is palindrome or not.\n",
        "# abba\n",
        "# malayalam\n",
        "\n",
        "s = input('enter the string')\n",
        "flag = True\n",
        "for i in range(0,len(s)//2):\n",
        "  if s[i] != s[len(s) - i -1]:\n",
        "    flag = False\n",
        "    print('Not a Palindrome')\n",
        "    break\n",
        "\n",
        "if flag:\n",
        "  print('Palindrome')\n",
        "\n"
      ]
    },
    {
      "cell_type": "code",
      "execution_count": null,
      "metadata": {
        "colab": {
          "base_uri": "https://localhost:8080/"
        },
        "id": "qBHUb5taOLdC",
        "outputId": "7d771c8a-9123-488b-8f63-06435638fb2e"
      },
      "outputs": [
        {
          "name": "stdout",
          "output_type": "stream",
          "text": [
            "enter the stringhi how are you\n",
            "['hi', 'how', 'are', 'you']\n"
          ]
        }
      ],
      "source": [
        "# Write a program to count the number of words in a string without split()\n",
        "\n",
        "s = input('enter the string')\n",
        "L = []\n",
        "temp = ''\n",
        "for i in s:\n",
        "\n",
        "  if i != ' ':\n",
        "    temp = temp + i\n",
        "  else:\n",
        "    L.append(temp)\n",
        "    temp = ''\n",
        "\n",
        "L.append(temp)\n",
        "print(L)\n",
        "\n"
      ]
    },
    {
      "cell_type": "code",
      "execution_count": null,
      "metadata": {
        "colab": {
          "base_uri": "https://localhost:8080/"
        },
        "id": "tz_DbyP-OO9z",
        "outputId": "218e781e-a930-4b85-a223-5de2212e0ed0"
      },
      "outputs": [
        {
          "name": "stdout",
          "output_type": "stream",
          "text": [
            "enter the stringhi my namE iS NitiSh\n",
            "Hi My Name Is Nitish\n"
          ]
        }
      ],
      "source": [
        "# Write a python program to convert a string to title case without using the title()\n",
        "s = input('enter the string')\n",
        "\n",
        "L = []\n",
        "for i in s.split():\n",
        "  L.append(i[0].upper() + i[1:].lower())\n",
        "\n",
        "print(\" \".join(L))"
      ]
    },
    {
      "cell_type": "code",
      "execution_count": null,
      "metadata": {
        "colab": {
          "base_uri": "https://localhost:8080/"
        },
        "id": "Gj-c2HctOibM",
        "outputId": "8c1c15a6-9f20-4de1-ddba-e9801122c973"
      },
      "outputs": [
        {
          "name": "stdout",
          "output_type": "stream",
          "text": [
            "enter the number345\n",
            "345\n",
            "<class 'str'>\n"
          ]
        }
      ],
      "source": [
        "# Write a program that can convert an integer to string.\n",
        "\n",
        "number = int(input('enter the number'))\n",
        "\n",
        "digits = '0123456789'\n",
        "result = ''\n",
        "while number != 0:\n",
        "  result = digits[number % 10] + result\n",
        "  number = number//10\n",
        "\n",
        "print(result)\n",
        "print(type(result))"
      ]
    },
    {
      "cell_type": "code",
      "execution_count": 33,
      "metadata": {
        "id": "hXeCKpMROj7e"
      },
      "outputs": [
        {
          "name": "stdout",
          "output_type": "stream",
          "text": [
            "y\n",
            "z\n",
            "a\n"
          ]
        }
      ],
      "source": [
        "alpha = \"abcdefghijklmnopqrstuvwxyz\"\n",
        "\n",
        "i = int (input(\"Enter the number here\"))\n",
        "\n",
        "print(alpha[i])\n",
        "print(alpha[i + 1])\n",
        "print(alpha[(i + 2)%26])\n"
      ]
    },
    {
      "cell_type": "code",
      "execution_count": 35,
      "metadata": {},
      "outputs": [
        {
          "name": "stdout",
          "output_type": "stream",
          "text": [
            "Grade C\n"
          ]
        }
      ],
      "source": [
        "marks = int(input(\"Enter the marks here\"))\n",
        "if marks >= 0 and marks <= 100:\n",
        "    if marks >= 90:\n",
        "        print(\"Grade A\")\n",
        "    elif marks >= 80:\n",
        "        print(\"Grade B\")\n",
        "    elif marks >= 70:\n",
        "        print(\"Grade C\")\n",
        "    elif marks >= 60:\n",
        "        print(\"Grade D\")\n",
        "    else:\n",
        "        print(\"Grade F\")\n",
        "else:\n",
        "    print (\"Invalid Marks\")"
      ]
    },
    {
      "cell_type": "markdown",
      "metadata": {},
      "source": [
        "## importing liabraries"
      ]
    },
    {
      "cell_type": "markdown",
      "metadata": {},
      "source": [
        "#### importing random liabraries"
      ]
    },
    {
      "cell_type": "markdown",
      "metadata": {},
      "source": [
        "#### random.random(): Generates a random floating-point number between 0.0 and 1.0.\n",
        "#### random.randint(a, b): Generates a random integer between a and b (inclusive).\n",
        "#### random.choice(seq): Returns a random element from the non-empty sequence seq.\n",
        "#### random.shuffle(seq): Shuffles the sequence seq in place.\n",
        "#### random.sample(seq, k): Returns a list of k unique elements chosen from the sequence seq."
      ]
    },
    {
      "cell_type": "code",
      "execution_count": 50,
      "metadata": {},
      "outputs": [
        {
          "name": "stdout",
          "output_type": "stream",
          "text": [
            "42\n"
          ]
        }
      ],
      "source": [
        "import random\n",
        "number = random.randint(1,100)\n",
        "print(number)"
      ]
    },
    {
      "cell_type": "code",
      "execution_count": 73,
      "metadata": {},
      "outputs": [
        {
          "name": "stdout",
          "output_type": "stream",
          "text": [
            "0.5606096650950325\n"
          ]
        }
      ],
      "source": [
        "# random.random() generates a random number between 0 and 1\n",
        "\n",
        "\n",
        "import random\n",
        "a = random.random()\n",
        "if a < 7 :\n",
        "    print(a)\n",
        "else :\n",
        "    print(\"invalid\")"
      ]
    },
    {
      "cell_type": "code",
      "execution_count": 94,
      "metadata": {},
      "outputs": [
        {
          "name": "stdout",
          "output_type": "stream",
          "text": [
            "[10, 6, 7, 3, 1, 8, 4, 2, 9, 5]\n"
          ]
        }
      ],
      "source": [
        "import random          # shuffle items in a list\n",
        "\n",
        "lst = [1, 2, 3, 4, 5, 6, 7, 8, 9, 10]\n",
        "random.shuffle(lst)\n",
        "print(lst)"
      ]
    },
    {
      "cell_type": "code",
      "execution_count": 98,
      "metadata": {},
      "outputs": [
        {
          "name": "stdout",
          "output_type": "stream",
          "text": [
            "[7, 9, 3, 4, 6]\n"
          ]
        }
      ],
      "source": [
        "y = random.sample(lst, 5)\n",
        "print(y)"
      ]
    },
    {
      "cell_type": "code",
      "execution_count": 107,
      "metadata": {},
      "outputs": [
        {
          "name": "stdout",
          "output_type": "stream",
          "text": [
            "8\n"
          ]
        }
      ],
      "source": [
        "z = random.choice(lst)\n",
        "print(z)"
      ]
    },
    {
      "cell_type": "code",
      "execution_count": 112,
      "metadata": {},
      "outputs": [
        {
          "name": "stdout",
          "output_type": "stream",
          "text": [
            "Help on built-in module math:\n",
            "\n",
            "NAME\n",
            "    math\n",
            "\n",
            "DESCRIPTION\n",
            "    This module provides access to the mathematical functions\n",
            "    defined by the C standard.\n",
            "\n",
            "FUNCTIONS\n",
            "    acos(x, /)\n",
            "        Return the arc cosine (measured in radians) of x.\n",
            "\n",
            "        The result is between 0 and pi.\n",
            "\n",
            "    acosh(x, /)\n",
            "        Return the inverse hyperbolic cosine of x.\n",
            "\n",
            "    asin(x, /)\n",
            "        Return the arc sine (measured in radians) of x.\n",
            "\n",
            "        The result is between -pi/2 and pi/2.\n",
            "\n",
            "    asinh(x, /)\n",
            "        Return the inverse hyperbolic sine of x.\n",
            "\n",
            "    atan(x, /)\n",
            "        Return the arc tangent (measured in radians) of x.\n",
            "\n",
            "        The result is between -pi/2 and pi/2.\n",
            "\n",
            "    atan2(y, x, /)\n",
            "        Return the arc tangent (measured in radians) of y/x.\n",
            "\n",
            "        Unlike atan(y/x), the signs of both x and y are considered.\n",
            "\n",
            "    atanh(x, /)\n",
            "        Return the inverse hyperbolic tangent of x.\n",
            "\n",
            "    cbrt(x, /)\n",
            "        Return the cube root of x.\n",
            "\n",
            "    ceil(x, /)\n",
            "        Return the ceiling of x as an Integral.\n",
            "\n",
            "        This is the smallest integer >= x.\n",
            "\n",
            "    comb(n, k, /)\n",
            "        Number of ways to choose k items from n items without repetition and without order.\n",
            "\n",
            "        Evaluates to n! / (k! * (n - k)!) when k <= n and evaluates\n",
            "        to zero when k > n.\n",
            "\n",
            "        Also called the binomial coefficient because it is equivalent\n",
            "        to the coefficient of k-th term in polynomial expansion of the\n",
            "        expression (1 + x)**n.\n",
            "\n",
            "        Raises TypeError if either of the arguments are not integers.\n",
            "        Raises ValueError if either of the arguments are negative.\n",
            "\n",
            "    copysign(x, y, /)\n",
            "        Return a float with the magnitude (absolute value) of x but the sign of y.\n",
            "\n",
            "        On platforms that support signed zeros, copysign(1.0, -0.0)\n",
            "        returns -1.0.\n",
            "\n",
            "    cos(x, /)\n",
            "        Return the cosine of x (measured in radians).\n",
            "\n",
            "    cosh(x, /)\n",
            "        Return the hyperbolic cosine of x.\n",
            "\n",
            "    degrees(x, /)\n",
            "        Convert angle x from radians to degrees.\n",
            "\n",
            "    dist(p, q, /)\n",
            "        Return the Euclidean distance between two points p and q.\n",
            "\n",
            "        The points should be specified as sequences (or iterables) of\n",
            "        coordinates.  Both inputs must have the same dimension.\n",
            "\n",
            "        Roughly equivalent to:\n",
            "            sqrt(sum((px - qx) ** 2.0 for px, qx in zip(p, q)))\n",
            "\n",
            "    erf(x, /)\n",
            "        Error function at x.\n",
            "\n",
            "    erfc(x, /)\n",
            "        Complementary error function at x.\n",
            "\n",
            "    exp(x, /)\n",
            "        Return e raised to the power of x.\n",
            "\n",
            "    exp2(x, /)\n",
            "        Return 2 raised to the power of x.\n",
            "\n",
            "    expm1(x, /)\n",
            "        Return exp(x)-1.\n",
            "\n",
            "        This function avoids the loss of precision involved in the direct evaluation of exp(x)-1 for small x.\n",
            "\n",
            "    fabs(x, /)\n",
            "        Return the absolute value of the float x.\n",
            "\n",
            "    factorial(n, /)\n",
            "        Find n!.\n",
            "\n",
            "        Raise a ValueError if x is negative or non-integral.\n",
            "\n",
            "    floor(x, /)\n",
            "        Return the floor of x as an Integral.\n",
            "\n",
            "        This is the largest integer <= x.\n",
            "\n",
            "    fmod(x, y, /)\n",
            "        Return fmod(x, y), according to platform C.\n",
            "\n",
            "        x % y may differ.\n",
            "\n",
            "    frexp(x, /)\n",
            "        Return the mantissa and exponent of x, as pair (m, e).\n",
            "\n",
            "        m is a float and e is an int, such that x = m * 2.**e.\n",
            "        If x is 0, m and e are both 0.  Else 0.5 <= abs(m) < 1.0.\n",
            "\n",
            "    fsum(seq, /)\n",
            "        Return an accurate floating-point sum of values in the iterable seq.\n",
            "\n",
            "        Assumes IEEE-754 floating-point arithmetic.\n",
            "\n",
            "    gamma(x, /)\n",
            "        Gamma function at x.\n",
            "\n",
            "    gcd(*integers)\n",
            "        Greatest Common Divisor.\n",
            "\n",
            "    hypot(...)\n",
            "        hypot(*coordinates) -> value\n",
            "\n",
            "        Multidimensional Euclidean distance from the origin to a point.\n",
            "\n",
            "        Roughly equivalent to:\n",
            "            sqrt(sum(x**2 for x in coordinates))\n",
            "\n",
            "        For a two dimensional point (x, y), gives the hypotenuse\n",
            "        using the Pythagorean theorem:  sqrt(x*x + y*y).\n",
            "\n",
            "        For example, the hypotenuse of a 3/4/5 right triangle is:\n",
            "\n",
            "            >>> hypot(3.0, 4.0)\n",
            "            5.0\n",
            "\n",
            "    isclose(a, b, *, rel_tol=1e-09, abs_tol=0.0)\n",
            "        Determine whether two floating-point numbers are close in value.\n",
            "\n",
            "          rel_tol\n",
            "            maximum difference for being considered \"close\", relative to the\n",
            "            magnitude of the input values\n",
            "          abs_tol\n",
            "            maximum difference for being considered \"close\", regardless of the\n",
            "            magnitude of the input values\n",
            "\n",
            "        Return True if a is close in value to b, and False otherwise.\n",
            "\n",
            "        For the values to be considered close, the difference between them\n",
            "        must be smaller than at least one of the tolerances.\n",
            "\n",
            "        -inf, inf and NaN behave similarly to the IEEE 754 Standard.  That\n",
            "        is, NaN is not close to anything, even itself.  inf and -inf are\n",
            "        only close to themselves.\n",
            "\n",
            "    isfinite(x, /)\n",
            "        Return True if x is neither an infinity nor a NaN, and False otherwise.\n",
            "\n",
            "    isinf(x, /)\n",
            "        Return True if x is a positive or negative infinity, and False otherwise.\n",
            "\n",
            "    isnan(x, /)\n",
            "        Return True if x is a NaN (not a number), and False otherwise.\n",
            "\n",
            "    isqrt(n, /)\n",
            "        Return the integer part of the square root of the input.\n",
            "\n",
            "    lcm(*integers)\n",
            "        Least Common Multiple.\n",
            "\n",
            "    ldexp(x, i, /)\n",
            "        Return x * (2**i).\n",
            "\n",
            "        This is essentially the inverse of frexp().\n",
            "\n",
            "    lgamma(x, /)\n",
            "        Natural logarithm of absolute value of Gamma function at x.\n",
            "\n",
            "    log(...)\n",
            "        log(x, [base=math.e])\n",
            "        Return the logarithm of x to the given base.\n",
            "\n",
            "        If the base is not specified, returns the natural logarithm (base e) of x.\n",
            "\n",
            "    log10(x, /)\n",
            "        Return the base 10 logarithm of x.\n",
            "\n",
            "    log1p(x, /)\n",
            "        Return the natural logarithm of 1+x (base e).\n",
            "\n",
            "        The result is computed in a way which is accurate for x near zero.\n",
            "\n",
            "    log2(x, /)\n",
            "        Return the base 2 logarithm of x.\n",
            "\n",
            "    modf(x, /)\n",
            "        Return the fractional and integer parts of x.\n",
            "\n",
            "        Both results carry the sign of x and are floats.\n",
            "\n",
            "    nextafter(x, y, /, *, steps=None)\n",
            "        Return the floating-point value the given number of steps after x towards y.\n",
            "\n",
            "        If steps is not specified or is None, it defaults to 1.\n",
            "\n",
            "        Raises a TypeError, if x or y is not a double, or if steps is not an integer.\n",
            "        Raises ValueError if steps is negative.\n",
            "\n",
            "    perm(n, k=None, /)\n",
            "        Number of ways to choose k items from n items without repetition and with order.\n",
            "\n",
            "        Evaluates to n! / (n - k)! when k <= n and evaluates\n",
            "        to zero when k > n.\n",
            "\n",
            "        If k is not specified or is None, then k defaults to n\n",
            "        and the function returns n!.\n",
            "\n",
            "        Raises TypeError if either of the arguments are not integers.\n",
            "        Raises ValueError if either of the arguments are negative.\n",
            "\n",
            "    pow(x, y, /)\n",
            "        Return x**y (x to the power of y).\n",
            "\n",
            "    prod(iterable, /, *, start=1)\n",
            "        Calculate the product of all the elements in the input iterable.\n",
            "\n",
            "        The default start value for the product is 1.\n",
            "\n",
            "        When the iterable is empty, return the start value.  This function is\n",
            "        intended specifically for use with numeric values and may reject\n",
            "        non-numeric types.\n",
            "\n",
            "    radians(x, /)\n",
            "        Convert angle x from degrees to radians.\n",
            "\n",
            "    remainder(x, y, /)\n",
            "        Difference between x and the closest integer multiple of y.\n",
            "\n",
            "        Return x - n*y where n*y is the closest integer multiple of y.\n",
            "        In the case where x is exactly halfway between two multiples of\n",
            "        y, the nearest even value of n is used. The result is always exact.\n",
            "\n",
            "    sin(x, /)\n",
            "        Return the sine of x (measured in radians).\n",
            "\n",
            "    sinh(x, /)\n",
            "        Return the hyperbolic sine of x.\n",
            "\n",
            "    sqrt(x, /)\n",
            "        Return the square root of x.\n",
            "\n",
            "    sumprod(p, q, /)\n",
            "        Return the sum of products of values from two iterables p and q.\n",
            "\n",
            "        Roughly equivalent to:\n",
            "\n",
            "            sum(itertools.starmap(operator.mul, zip(p, q, strict=True)))\n",
            "\n",
            "        For float and mixed int/float inputs, the intermediate products\n",
            "        and sums are computed with extended precision.\n",
            "\n",
            "    tan(x, /)\n",
            "        Return the tangent of x (measured in radians).\n",
            "\n",
            "    tanh(x, /)\n",
            "        Return the hyperbolic tangent of x.\n",
            "\n",
            "    trunc(x, /)\n",
            "        Truncates the Real x to the nearest Integral toward 0.\n",
            "\n",
            "        Uses the __trunc__ magic method.\n",
            "\n",
            "    ulp(x, /)\n",
            "        Return the value of the least significant bit of the float x.\n",
            "\n",
            "DATA\n",
            "    e = 2.718281828459045\n",
            "    inf = inf\n",
            "    nan = nan\n",
            "    pi = 3.141592653589793\n",
            "    tau = 6.283185307179586\n",
            "\n",
            "FILE\n",
            "    (built-in)\n",
            "\n",
            "\n"
          ]
        }
      ],
      "source": [
        "import math\n",
        "help(math)"
      ]
    },
    {
      "cell_type": "code",
      "execution_count": 113,
      "metadata": {},
      "outputs": [
        {
          "name": "stdout",
          "output_type": "stream",
          "text": [
            "   February 2025\n",
            "Mo Tu We Th Fr Sa Su\n",
            "                1  2\n",
            " 3  4  5  6  7  8  9\n",
            "10 11 12 13 14 15 16\n",
            "17 18 19 20 21 22 23\n",
            "24 25 26 27 28\n",
            "\n"
          ]
        }
      ],
      "source": [
        "import calendar\n",
        "print(calendar.month(2025, 2))"
      ]
    },
    {
      "cell_type": "code",
      "execution_count": 114,
      "metadata": {},
      "outputs": [
        {
          "name": "stdout",
          "output_type": "stream",
          "text": [
            "Help on module calendar:\n",
            "\n",
            "NAME\n",
            "    calendar - Calendar printing functions\n",
            "\n",
            "MODULE REFERENCE\n",
            "    https://docs.python.org/3.12/library/calendar.html\n",
            "\n",
            "    The following documentation is automatically generated from the Python\n",
            "    source files.  It may be incomplete, incorrect or include features that\n",
            "    are considered implementation detail and may vary between Python\n",
            "    implementations.  When in doubt, consult the module reference at the\n",
            "    location listed above.\n",
            "\n",
            "DESCRIPTION\n",
            "    Note when comparing these calendars to the ones printed by cal(1): By\n",
            "    default, these calendars have Monday as the first day of the week, and\n",
            "    Sunday as the last (the European convention). Use setfirstweekday() to\n",
            "    set the first day of the week (0=Monday, 6=Sunday).\n",
            "\n",
            "CLASSES\n",
            "    builtins.IndexError(builtins.LookupError)\n",
            "        IllegalMonthError(builtins.ValueError, builtins.IndexError)\n",
            "    builtins.ValueError(builtins.Exception)\n",
            "        IllegalMonthError(builtins.ValueError, builtins.IndexError)\n",
            "        IllegalWeekdayError\n",
            "    builtins.object\n",
            "        Calendar\n",
            "            HTMLCalendar\n",
            "                LocaleHTMLCalendar\n",
            "            TextCalendar\n",
            "                LocaleTextCalendar\n",
            "    enum.IntEnum(builtins.int, enum.ReprEnum)\n",
            "        Day\n",
            "        Month\n",
            "\n",
            "    class Calendar(builtins.object)\n",
            "     |  Calendar(firstweekday=0)\n",
            "     |\n",
            "     |  Base calendar class. This class doesn't do any formatting. It simply\n",
            "     |  provides data to subclasses.\n",
            "     |\n",
            "     |  Methods defined here:\n",
            "     |\n",
            "     |  __init__(self, firstweekday=0)\n",
            "     |      Initialize self.  See help(type(self)) for accurate signature.\n",
            "     |\n",
            "     |  getfirstweekday(self)\n",
            "     |\n",
            "     |  itermonthdates(self, year, month)\n",
            "     |      Return an iterator for one month. The iterator will yield datetime.date\n",
            "     |      values and will always iterate through complete weeks, so it will yield\n",
            "     |      dates outside the specified month.\n",
            "     |\n",
            "     |  itermonthdays(self, year, month)\n",
            "     |      Like itermonthdates(), but will yield day numbers. For days outside\n",
            "     |      the specified month the day number is 0.\n",
            "     |\n",
            "     |  itermonthdays2(self, year, month)\n",
            "     |      Like itermonthdates(), but will yield (day number, weekday number)\n",
            "     |      tuples. For days outside the specified month the day number is 0.\n",
            "     |\n",
            "     |  itermonthdays3(self, year, month)\n",
            "     |      Like itermonthdates(), but will yield (year, month, day) tuples.  Can be\n",
            "     |      used for dates outside of datetime.date range.\n",
            "     |\n",
            "     |  itermonthdays4(self, year, month)\n",
            "     |      Like itermonthdates(), but will yield (year, month, day, day_of_week) tuples.\n",
            "     |      Can be used for dates outside of datetime.date range.\n",
            "     |\n",
            "     |  iterweekdays(self)\n",
            "     |      Return an iterator for one week of weekday numbers starting with the\n",
            "     |      configured first one.\n",
            "     |\n",
            "     |  monthdatescalendar(self, year, month)\n",
            "     |      Return a matrix (list of lists) representing a month's calendar.\n",
            "     |      Each row represents a week; week entries are datetime.date values.\n",
            "     |\n",
            "     |  monthdays2calendar(self, year, month)\n",
            "     |      Return a matrix representing a month's calendar.\n",
            "     |      Each row represents a week; week entries are\n",
            "     |      (day number, weekday number) tuples. Day numbers outside this month\n",
            "     |      are zero.\n",
            "     |\n",
            "     |  monthdayscalendar(self, year, month)\n",
            "     |      Return a matrix representing a month's calendar.\n",
            "     |      Each row represents a week; days outside this month are zero.\n",
            "     |\n",
            "     |  setfirstweekday(self, firstweekday)\n",
            "     |\n",
            "     |  yeardatescalendar(self, year, width=3)\n",
            "     |      Return the data for the specified year ready for formatting. The return\n",
            "     |      value is a list of month rows. Each month row contains up to width months.\n",
            "     |      Each month contains between 4 and 6 weeks and each week contains 1-7\n",
            "     |      days. Days are datetime.date objects.\n",
            "     |\n",
            "     |  yeardays2calendar(self, year, width=3)\n",
            "     |      Return the data for the specified year ready for formatting (similar to\n",
            "     |      yeardatescalendar()). Entries in the week lists are\n",
            "     |      (day number, weekday number) tuples. Day numbers outside this month are\n",
            "     |      zero.\n",
            "     |\n",
            "     |  yeardayscalendar(self, year, width=3)\n",
            "     |      Return the data for the specified year ready for formatting (similar to\n",
            "     |      yeardatescalendar()). Entries in the week lists are day numbers.\n",
            "     |      Day numbers outside this month are zero.\n",
            "     |\n",
            "     |  ----------------------------------------------------------------------\n",
            "     |  Data descriptors defined here:\n",
            "     |\n",
            "     |  __dict__\n",
            "     |      dictionary for instance variables\n",
            "     |\n",
            "     |  __weakref__\n",
            "     |      list of weak references to the object\n",
            "     |\n",
            "     |  firstweekday\n",
            "\n",
            "    class Day(enum.IntEnum)\n",
            "     |  Day(*values)\n",
            "     |\n",
            "     |  # Constants for days\n",
            "     |\n",
            "     |  Method resolution order:\n",
            "     |      Day\n",
            "     |      enum.IntEnum\n",
            "     |      builtins.int\n",
            "     |      enum.ReprEnum\n",
            "     |      enum.Enum\n",
            "     |      builtins.object\n",
            "     |\n",
            "     |  Methods defined here:\n",
            "     |\n",
            "     |  __format__(self, format_spec, /) from builtins.int\n",
            "     |      Convert to a string according to format_spec.\n",
            "     |\n",
            "     |  __new__(cls, value) from enum.Enum\n",
            "     |      Create and return a new object.  See help(type) for accurate signature.\n",
            "     |\n",
            "     |  __repr__ = global_enum_repr(self) from enum\n",
            "     |      use module.enum_name instead of class.enum_name\n",
            "     |\n",
            "     |      the module is the last module in case of a multi-module name\n",
            "     |\n",
            "     |  ----------------------------------------------------------------------\n",
            "     |  Data and other attributes defined here:\n",
            "     |\n",
            "     |  FRIDAY = calendar.FRIDAY\n",
            "     |\n",
            "     |  MONDAY = calendar.MONDAY\n",
            "     |\n",
            "     |  SATURDAY = calendar.SATURDAY\n",
            "     |\n",
            "     |  SUNDAY = calendar.SUNDAY\n",
            "     |\n",
            "     |  THURSDAY = calendar.THURSDAY\n",
            "     |\n",
            "     |  TUESDAY = calendar.TUESDAY\n",
            "     |\n",
            "     |  WEDNESDAY = calendar.WEDNESDAY\n",
            "     |\n",
            "     |  ----------------------------------------------------------------------\n",
            "     |  Methods inherited from enum.IntEnum:\n",
            "     |\n",
            "     |  __str__ = __repr__(self, /) from builtins.int\n",
            "     |      Return repr(self).\n",
            "     |\n",
            "     |  ----------------------------------------------------------------------\n",
            "     |  Methods inherited from builtins.int:\n",
            "     |\n",
            "     |  __abs__(self, /)\n",
            "     |      abs(self)\n",
            "     |\n",
            "     |  __add__(self, value, /)\n",
            "     |      Return self+value.\n",
            "     |\n",
            "     |  __and__(self, value, /)\n",
            "     |      Return self&value.\n",
            "     |\n",
            "     |  __bool__(self, /)\n",
            "     |      True if self else False\n",
            "     |\n",
            "     |  __ceil__(...)\n",
            "     |      Ceiling of an Integral returns itself.\n",
            "     |\n",
            "     |  __divmod__(self, value, /)\n",
            "     |      Return divmod(self, value).\n",
            "     |\n",
            "     |  __eq__(self, value, /)\n",
            "     |      Return self==value.\n",
            "     |\n",
            "     |  __float__(self, /)\n",
            "     |      float(self)\n",
            "     |\n",
            "     |  __floor__(...)\n",
            "     |      Flooring an Integral returns itself.\n",
            "     |\n",
            "     |  __floordiv__(self, value, /)\n",
            "     |      Return self//value.\n",
            "     |\n",
            "     |  __ge__(self, value, /)\n",
            "     |      Return self>=value.\n",
            "     |\n",
            "     |  __getattribute__(self, name, /)\n",
            "     |      Return getattr(self, name).\n",
            "     |\n",
            "     |  __getnewargs__(self, /)\n",
            "     |\n",
            "     |  __gt__(self, value, /)\n",
            "     |      Return self>value.\n",
            "     |\n",
            "     |  __hash__(self, /)\n",
            "     |      Return hash(self).\n",
            "     |\n",
            "     |  __index__(self, /)\n",
            "     |      Return self converted to an integer, if self is suitable for use as an index into a list.\n",
            "     |\n",
            "     |  __int__(self, /)\n",
            "     |      int(self)\n",
            "     |\n",
            "     |  __invert__(self, /)\n",
            "     |      ~self\n",
            "     |\n",
            "     |  __le__(self, value, /)\n",
            "     |      Return self<=value.\n",
            "     |\n",
            "     |  __lshift__(self, value, /)\n",
            "     |      Return self<<value.\n",
            "     |\n",
            "     |  __lt__(self, value, /)\n",
            "     |      Return self<value.\n",
            "     |\n",
            "     |  __mod__(self, value, /)\n",
            "     |      Return self%value.\n",
            "     |\n",
            "     |  __mul__(self, value, /)\n",
            "     |      Return self*value.\n",
            "     |\n",
            "     |  __ne__(self, value, /)\n",
            "     |      Return self!=value.\n",
            "     |\n",
            "     |  __neg__(self, /)\n",
            "     |      -self\n",
            "     |\n",
            "     |  __or__(self, value, /)\n",
            "     |      Return self|value.\n",
            "     |\n",
            "     |  __pos__(self, /)\n",
            "     |      +self\n",
            "     |\n",
            "     |  __pow__(self, value, mod=None, /)\n",
            "     |      Return pow(self, value, mod).\n",
            "     |\n",
            "     |  __radd__(self, value, /)\n",
            "     |      Return value+self.\n",
            "     |\n",
            "     |  __rand__(self, value, /)\n",
            "     |      Return value&self.\n",
            "     |\n",
            "     |  __rdivmod__(self, value, /)\n",
            "     |      Return divmod(value, self).\n",
            "     |\n",
            "     |  __rfloordiv__(self, value, /)\n",
            "     |      Return value//self.\n",
            "     |\n",
            "     |  __rlshift__(self, value, /)\n",
            "     |      Return value<<self.\n",
            "     |\n",
            "     |  __rmod__(self, value, /)\n",
            "     |      Return value%self.\n",
            "     |\n",
            "     |  __rmul__(self, value, /)\n",
            "     |      Return value*self.\n",
            "     |\n",
            "     |  __ror__(self, value, /)\n",
            "     |      Return value|self.\n",
            "     |\n",
            "     |  __round__(...)\n",
            "     |      Rounding an Integral returns itself.\n",
            "     |\n",
            "     |      Rounding with an ndigits argument also returns an integer.\n",
            "     |\n",
            "     |  __rpow__(self, value, mod=None, /)\n",
            "     |      Return pow(value, self, mod).\n",
            "     |\n",
            "     |  __rrshift__(self, value, /)\n",
            "     |      Return value>>self.\n",
            "     |\n",
            "     |  __rshift__(self, value, /)\n",
            "     |      Return self>>value.\n",
            "     |\n",
            "     |  __rsub__(self, value, /)\n",
            "     |      Return value-self.\n",
            "     |\n",
            "     |  __rtruediv__(self, value, /)\n",
            "     |      Return value/self.\n",
            "     |\n",
            "     |  __rxor__(self, value, /)\n",
            "     |      Return value^self.\n",
            "     |\n",
            "     |  __sizeof__(self, /)\n",
            "     |      Returns size in memory, in bytes.\n",
            "     |\n",
            "     |  __sub__(self, value, /)\n",
            "     |      Return self-value.\n",
            "     |\n",
            "     |  __truediv__(self, value, /)\n",
            "     |      Return self/value.\n",
            "     |\n",
            "     |  __trunc__(...)\n",
            "     |      Truncating an Integral returns itself.\n",
            "     |\n",
            "     |  __xor__(self, value, /)\n",
            "     |      Return self^value.\n",
            "     |\n",
            "     |  as_integer_ratio(self, /)\n",
            "     |      Return a pair of integers, whose ratio is equal to the original int.\n",
            "     |\n",
            "     |      The ratio is in lowest terms and has a positive denominator.\n",
            "     |\n",
            "     |      >>> (10).as_integer_ratio()\n",
            "     |      (10, 1)\n",
            "     |      >>> (-10).as_integer_ratio()\n",
            "     |      (-10, 1)\n",
            "     |      >>> (0).as_integer_ratio()\n",
            "     |      (0, 1)\n",
            "     |\n",
            "     |  bit_count(self, /)\n",
            "     |      Number of ones in the binary representation of the absolute value of self.\n",
            "     |\n",
            "     |      Also known as the population count.\n",
            "     |\n",
            "     |      >>> bin(13)\n",
            "     |      '0b1101'\n",
            "     |      >>> (13).bit_count()\n",
            "     |      3\n",
            "     |\n",
            "     |  bit_length(self, /)\n",
            "     |      Number of bits necessary to represent self in binary.\n",
            "     |\n",
            "     |      >>> bin(37)\n",
            "     |      '0b100101'\n",
            "     |      >>> (37).bit_length()\n",
            "     |      6\n",
            "     |\n",
            "     |  conjugate(...)\n",
            "     |      Returns self, the complex conjugate of any int.\n",
            "     |\n",
            "     |  is_integer(self, /)\n",
            "     |      Returns True. Exists for duck type compatibility with float.is_integer.\n",
            "     |\n",
            "     |  to_bytes(self, /, length=1, byteorder='big', *, signed=False)\n",
            "     |      Return an array of bytes representing an integer.\n",
            "     |\n",
            "     |      length\n",
            "     |        Length of bytes object to use.  An OverflowError is raised if the\n",
            "     |        integer is not representable with the given number of bytes.  Default\n",
            "     |        is length 1.\n",
            "     |      byteorder\n",
            "     |        The byte order used to represent the integer.  If byteorder is 'big',\n",
            "     |        the most significant byte is at the beginning of the byte array.  If\n",
            "     |        byteorder is 'little', the most significant byte is at the end of the\n",
            "     |        byte array.  To request the native byte order of the host system, use\n",
            "     |        `sys.byteorder' as the byte order value.  Default is to use 'big'.\n",
            "     |      signed\n",
            "     |        Determines whether two's complement is used to represent the integer.\n",
            "     |        If signed is False and a negative integer is given, an OverflowError\n",
            "     |        is raised.\n",
            "     |\n",
            "     |  ----------------------------------------------------------------------\n",
            "     |  Class methods inherited from builtins.int:\n",
            "     |\n",
            "     |  from_bytes(bytes, byteorder='big', *, signed=False)\n",
            "     |      Return the integer represented by the given array of bytes.\n",
            "     |\n",
            "     |      bytes\n",
            "     |        Holds the array of bytes to convert.  The argument must either\n",
            "     |        support the buffer protocol or be an iterable object producing bytes.\n",
            "     |        Bytes and bytearray are examples of built-in objects that support the\n",
            "     |        buffer protocol.\n",
            "     |      byteorder\n",
            "     |        The byte order used to represent the integer.  If byteorder is 'big',\n",
            "     |        the most significant byte is at the beginning of the byte array.  If\n",
            "     |        byteorder is 'little', the most significant byte is at the end of the\n",
            "     |        byte array.  To request the native byte order of the host system, use\n",
            "     |        `sys.byteorder' as the byte order value.  Default is to use 'big'.\n",
            "     |      signed\n",
            "     |        Indicates whether two's complement is used to represent the integer.\n",
            "     |\n",
            "     |  ----------------------------------------------------------------------\n",
            "     |  Data descriptors inherited from builtins.int:\n",
            "     |\n",
            "     |  denominator\n",
            "     |      the denominator of a rational number in lowest terms\n",
            "     |\n",
            "     |  imag\n",
            "     |      the imaginary part of a complex number\n",
            "     |\n",
            "     |  numerator\n",
            "     |      the numerator of a rational number in lowest terms\n",
            "     |\n",
            "     |  real\n",
            "     |      the real part of a complex number\n",
            "     |\n",
            "     |  ----------------------------------------------------------------------\n",
            "     |  Methods inherited from enum.Enum:\n",
            "     |\n",
            "     |  __dir__(self)\n",
            "     |      Returns public methods and other interesting attributes.\n",
            "     |\n",
            "     |  __init__(self, *args, **kwds)\n",
            "     |      Initialize self.  See help(type(self)) for accurate signature.\n",
            "     |\n",
            "     |  __reduce_ex__(self, proto)\n",
            "     |      Helper for pickle.\n",
            "     |\n",
            "     |  ----------------------------------------------------------------------\n",
            "     |  Data descriptors inherited from enum.Enum:\n",
            "     |\n",
            "     |  name\n",
            "     |      The name of the Enum member.\n",
            "     |\n",
            "     |  value\n",
            "     |      The value of the Enum member.\n",
            "     |\n",
            "     |  ----------------------------------------------------------------------\n",
            "     |  Static methods inherited from enum.EnumType:\n",
            "     |\n",
            "     |  __contains__(value)\n",
            "     |      Return True if `value` is in `cls`.\n",
            "     |\n",
            "     |      `value` is in `cls` if:\n",
            "     |      1) `value` is a member of `cls`, or\n",
            "     |      2) `value` is the value of one of the `cls`'s members.\n",
            "     |\n",
            "     |  __getitem__(name)\n",
            "     |      Return the member matching `name`.\n",
            "     |\n",
            "     |  __iter__()\n",
            "     |      Return members in definition order.\n",
            "     |\n",
            "     |  __len__()\n",
            "     |      Return the number of members (no aliases)\n",
            "     |\n",
            "     |  ----------------------------------------------------------------------\n",
            "     |  Readonly properties inherited from enum.EnumType:\n",
            "     |\n",
            "     |  __members__\n",
            "     |      Returns a mapping of member name->value.\n",
            "     |\n",
            "     |      This mapping lists all enum members, including aliases. Note that this\n",
            "     |      is a read-only view of the internal mapping.\n",
            "\n",
            "    class HTMLCalendar(Calendar)\n",
            "     |  HTMLCalendar(firstweekday=0)\n",
            "     |\n",
            "     |  This calendar returns complete HTML pages.\n",
            "     |\n",
            "     |  Method resolution order:\n",
            "     |      HTMLCalendar\n",
            "     |      Calendar\n",
            "     |      builtins.object\n",
            "     |\n",
            "     |  Methods defined here:\n",
            "     |\n",
            "     |  formatday(self, day, weekday)\n",
            "     |      Return a day as a table cell.\n",
            "     |\n",
            "     |  formatmonth(self, theyear, themonth, withyear=True)\n",
            "     |      Return a formatted month as a table.\n",
            "     |\n",
            "     |  formatmonthname(self, theyear, themonth, withyear=True)\n",
            "     |      Return a month name as a table row.\n",
            "     |\n",
            "     |  formatweek(self, theweek)\n",
            "     |      Return a complete week as a table row.\n",
            "     |\n",
            "     |  formatweekday(self, day)\n",
            "     |      Return a weekday name as a table header.\n",
            "     |\n",
            "     |  formatweekheader(self)\n",
            "     |      Return a header for a week as a table row.\n",
            "     |\n",
            "     |  formatyear(self, theyear, width=3)\n",
            "     |      Return a formatted year as a table of tables.\n",
            "     |\n",
            "     |  formatyearpage(self, theyear, width=3, css='calendar.css', encoding=None)\n",
            "     |      Return a formatted year as a complete HTML page.\n",
            "     |\n",
            "     |  ----------------------------------------------------------------------\n",
            "     |  Data and other attributes defined here:\n",
            "     |\n",
            "     |  cssclass_month = 'month'\n",
            "     |\n",
            "     |  cssclass_month_head = 'month'\n",
            "     |\n",
            "     |  cssclass_noday = 'noday'\n",
            "     |\n",
            "     |  cssclass_year = 'year'\n",
            "     |\n",
            "     |  cssclass_year_head = 'year'\n",
            "     |\n",
            "     |  cssclasses = ['mon', 'tue', 'wed', 'thu', 'fri', 'sat', 'sun']\n",
            "     |\n",
            "     |  cssclasses_weekday_head = ['mon', 'tue', 'wed', 'thu', 'fri', 'sat', '...\n",
            "     |\n",
            "     |  ----------------------------------------------------------------------\n",
            "     |  Methods inherited from Calendar:\n",
            "     |\n",
            "     |  __init__(self, firstweekday=0)\n",
            "     |      Initialize self.  See help(type(self)) for accurate signature.\n",
            "     |\n",
            "     |  getfirstweekday(self)\n",
            "     |\n",
            "     |  itermonthdates(self, year, month)\n",
            "     |      Return an iterator for one month. The iterator will yield datetime.date\n",
            "     |      values and will always iterate through complete weeks, so it will yield\n",
            "     |      dates outside the specified month.\n",
            "     |\n",
            "     |  itermonthdays(self, year, month)\n",
            "     |      Like itermonthdates(), but will yield day numbers. For days outside\n",
            "     |      the specified month the day number is 0.\n",
            "     |\n",
            "     |  itermonthdays2(self, year, month)\n",
            "     |      Like itermonthdates(), but will yield (day number, weekday number)\n",
            "     |      tuples. For days outside the specified month the day number is 0.\n",
            "     |\n",
            "     |  itermonthdays3(self, year, month)\n",
            "     |      Like itermonthdates(), but will yield (year, month, day) tuples.  Can be\n",
            "     |      used for dates outside of datetime.date range.\n",
            "     |\n",
            "     |  itermonthdays4(self, year, month)\n",
            "     |      Like itermonthdates(), but will yield (year, month, day, day_of_week) tuples.\n",
            "     |      Can be used for dates outside of datetime.date range.\n",
            "     |\n",
            "     |  iterweekdays(self)\n",
            "     |      Return an iterator for one week of weekday numbers starting with the\n",
            "     |      configured first one.\n",
            "     |\n",
            "     |  monthdatescalendar(self, year, month)\n",
            "     |      Return a matrix (list of lists) representing a month's calendar.\n",
            "     |      Each row represents a week; week entries are datetime.date values.\n",
            "     |\n",
            "     |  monthdays2calendar(self, year, month)\n",
            "     |      Return a matrix representing a month's calendar.\n",
            "     |      Each row represents a week; week entries are\n",
            "     |      (day number, weekday number) tuples. Day numbers outside this month\n",
            "     |      are zero.\n",
            "     |\n",
            "     |  monthdayscalendar(self, year, month)\n",
            "     |      Return a matrix representing a month's calendar.\n",
            "     |      Each row represents a week; days outside this month are zero.\n",
            "     |\n",
            "     |  setfirstweekday(self, firstweekday)\n",
            "     |\n",
            "     |  yeardatescalendar(self, year, width=3)\n",
            "     |      Return the data for the specified year ready for formatting. The return\n",
            "     |      value is a list of month rows. Each month row contains up to width months.\n",
            "     |      Each month contains between 4 and 6 weeks and each week contains 1-7\n",
            "     |      days. Days are datetime.date objects.\n",
            "     |\n",
            "     |  yeardays2calendar(self, year, width=3)\n",
            "     |      Return the data for the specified year ready for formatting (similar to\n",
            "     |      yeardatescalendar()). Entries in the week lists are\n",
            "     |      (day number, weekday number) tuples. Day numbers outside this month are\n",
            "     |      zero.\n",
            "     |\n",
            "     |  yeardayscalendar(self, year, width=3)\n",
            "     |      Return the data for the specified year ready for formatting (similar to\n",
            "     |      yeardatescalendar()). Entries in the week lists are day numbers.\n",
            "     |      Day numbers outside this month are zero.\n",
            "     |\n",
            "     |  ----------------------------------------------------------------------\n",
            "     |  Data descriptors inherited from Calendar:\n",
            "     |\n",
            "     |  __dict__\n",
            "     |      dictionary for instance variables\n",
            "     |\n",
            "     |  __weakref__\n",
            "     |      list of weak references to the object\n",
            "     |\n",
            "     |  firstweekday\n",
            "\n",
            "    class IllegalMonthError(builtins.ValueError, builtins.IndexError)\n",
            "     |  IllegalMonthError(month)\n",
            "     |\n",
            "     |  # Exceptions raised for bad input\n",
            "     |  # This is trick for backward compatibility. Since 3.13, we will raise IllegalMonthError instead of\n",
            "     |  # IndexError for bad month number(out of 1-12). But we can't remove IndexError for backward compatibility.\n",
            "     |\n",
            "     |  Method resolution order:\n",
            "     |      IllegalMonthError\n",
            "     |      builtins.ValueError\n",
            "     |      builtins.IndexError\n",
            "     |      builtins.LookupError\n",
            "     |      builtins.Exception\n",
            "     |      builtins.BaseException\n",
            "     |      builtins.object\n",
            "     |\n",
            "     |  Methods defined here:\n",
            "     |\n",
            "     |  __init__(self, month)\n",
            "     |      Initialize self.  See help(type(self)) for accurate signature.\n",
            "     |\n",
            "     |  __str__(self)\n",
            "     |      Return str(self).\n",
            "     |\n",
            "     |  ----------------------------------------------------------------------\n",
            "     |  Data descriptors defined here:\n",
            "     |\n",
            "     |  __weakref__\n",
            "     |      list of weak references to the object\n",
            "     |\n",
            "     |  ----------------------------------------------------------------------\n",
            "     |  Static methods inherited from builtins.ValueError:\n",
            "     |\n",
            "     |  __new__(*args, **kwargs) class method of builtins.ValueError\n",
            "     |      Create and return a new object.  See help(type) for accurate signature.\n",
            "     |\n",
            "     |  ----------------------------------------------------------------------\n",
            "     |  Methods inherited from builtins.BaseException:\n",
            "     |\n",
            "     |  __getattribute__(self, name, /)\n",
            "     |      Return getattr(self, name).\n",
            "     |\n",
            "     |  __reduce__(...)\n",
            "     |      Helper for pickle.\n",
            "     |\n",
            "     |  __repr__(self, /)\n",
            "     |      Return repr(self).\n",
            "     |\n",
            "     |  __setstate__(...)\n",
            "     |\n",
            "     |  add_note(...)\n",
            "     |      Exception.add_note(note) --\n",
            "     |      add a note to the exception\n",
            "     |\n",
            "     |  with_traceback(...)\n",
            "     |      Exception.with_traceback(tb) --\n",
            "     |      set self.__traceback__ to tb and return self.\n",
            "     |\n",
            "     |  ----------------------------------------------------------------------\n",
            "     |  Data descriptors inherited from builtins.BaseException:\n",
            "     |\n",
            "     |  __cause__\n",
            "     |      exception cause\n",
            "     |\n",
            "     |  __context__\n",
            "     |      exception context\n",
            "     |\n",
            "     |  __dict__\n",
            "     |\n",
            "     |  __suppress_context__\n",
            "     |\n",
            "     |  __traceback__\n",
            "     |\n",
            "     |  args\n",
            "\n",
            "    class IllegalWeekdayError(builtins.ValueError)\n",
            "     |  IllegalWeekdayError(weekday)\n",
            "     |\n",
            "     |  Method resolution order:\n",
            "     |      IllegalWeekdayError\n",
            "     |      builtins.ValueError\n",
            "     |      builtins.Exception\n",
            "     |      builtins.BaseException\n",
            "     |      builtins.object\n",
            "     |\n",
            "     |  Methods defined here:\n",
            "     |\n",
            "     |  __init__(self, weekday)\n",
            "     |      Initialize self.  See help(type(self)) for accurate signature.\n",
            "     |\n",
            "     |  __str__(self)\n",
            "     |      Return str(self).\n",
            "     |\n",
            "     |  ----------------------------------------------------------------------\n",
            "     |  Data descriptors defined here:\n",
            "     |\n",
            "     |  __weakref__\n",
            "     |      list of weak references to the object\n",
            "     |\n",
            "     |  ----------------------------------------------------------------------\n",
            "     |  Static methods inherited from builtins.ValueError:\n",
            "     |\n",
            "     |  __new__(*args, **kwargs) class method of builtins.ValueError\n",
            "     |      Create and return a new object.  See help(type) for accurate signature.\n",
            "     |\n",
            "     |  ----------------------------------------------------------------------\n",
            "     |  Methods inherited from builtins.BaseException:\n",
            "     |\n",
            "     |  __getattribute__(self, name, /)\n",
            "     |      Return getattr(self, name).\n",
            "     |\n",
            "     |  __reduce__(...)\n",
            "     |      Helper for pickle.\n",
            "     |\n",
            "     |  __repr__(self, /)\n",
            "     |      Return repr(self).\n",
            "     |\n",
            "     |  __setstate__(...)\n",
            "     |\n",
            "     |  add_note(...)\n",
            "     |      Exception.add_note(note) --\n",
            "     |      add a note to the exception\n",
            "     |\n",
            "     |  with_traceback(...)\n",
            "     |      Exception.with_traceback(tb) --\n",
            "     |      set self.__traceback__ to tb and return self.\n",
            "     |\n",
            "     |  ----------------------------------------------------------------------\n",
            "     |  Data descriptors inherited from builtins.BaseException:\n",
            "     |\n",
            "     |  __cause__\n",
            "     |      exception cause\n",
            "     |\n",
            "     |  __context__\n",
            "     |      exception context\n",
            "     |\n",
            "     |  __dict__\n",
            "     |\n",
            "     |  __suppress_context__\n",
            "     |\n",
            "     |  __traceback__\n",
            "     |\n",
            "     |  args\n",
            "\n",
            "    class LocaleHTMLCalendar(HTMLCalendar)\n",
            "     |  LocaleHTMLCalendar(firstweekday=0, locale=None)\n",
            "     |\n",
            "     |  This class can be passed a locale name in the constructor and will return\n",
            "     |  month and weekday names in the specified locale.\n",
            "     |\n",
            "     |  Method resolution order:\n",
            "     |      LocaleHTMLCalendar\n",
            "     |      HTMLCalendar\n",
            "     |      Calendar\n",
            "     |      builtins.object\n",
            "     |\n",
            "     |  Methods defined here:\n",
            "     |\n",
            "     |  __init__(self, firstweekday=0, locale=None)\n",
            "     |      Initialize self.  See help(type(self)) for accurate signature.\n",
            "     |\n",
            "     |  formatmonthname(self, theyear, themonth, withyear=True)\n",
            "     |      Return a month name as a table row.\n",
            "     |\n",
            "     |  formatweekday(self, day)\n",
            "     |      Return a weekday name as a table header.\n",
            "     |\n",
            "     |  ----------------------------------------------------------------------\n",
            "     |  Methods inherited from HTMLCalendar:\n",
            "     |\n",
            "     |  formatday(self, day, weekday)\n",
            "     |      Return a day as a table cell.\n",
            "     |\n",
            "     |  formatmonth(self, theyear, themonth, withyear=True)\n",
            "     |      Return a formatted month as a table.\n",
            "     |\n",
            "     |  formatweek(self, theweek)\n",
            "     |      Return a complete week as a table row.\n",
            "     |\n",
            "     |  formatweekheader(self)\n",
            "     |      Return a header for a week as a table row.\n",
            "     |\n",
            "     |  formatyear(self, theyear, width=3)\n",
            "     |      Return a formatted year as a table of tables.\n",
            "     |\n",
            "     |  formatyearpage(self, theyear, width=3, css='calendar.css', encoding=None)\n",
            "     |      Return a formatted year as a complete HTML page.\n",
            "     |\n",
            "     |  ----------------------------------------------------------------------\n",
            "     |  Data and other attributes inherited from HTMLCalendar:\n",
            "     |\n",
            "     |  cssclass_month = 'month'\n",
            "     |\n",
            "     |  cssclass_month_head = 'month'\n",
            "     |\n",
            "     |  cssclass_noday = 'noday'\n",
            "     |\n",
            "     |  cssclass_year = 'year'\n",
            "     |\n",
            "     |  cssclass_year_head = 'year'\n",
            "     |\n",
            "     |  cssclasses = ['mon', 'tue', 'wed', 'thu', 'fri', 'sat', 'sun']\n",
            "     |\n",
            "     |  cssclasses_weekday_head = ['mon', 'tue', 'wed', 'thu', 'fri', 'sat', '...\n",
            "     |\n",
            "     |  ----------------------------------------------------------------------\n",
            "     |  Methods inherited from Calendar:\n",
            "     |\n",
            "     |  getfirstweekday(self)\n",
            "     |\n",
            "     |  itermonthdates(self, year, month)\n",
            "     |      Return an iterator for one month. The iterator will yield datetime.date\n",
            "     |      values and will always iterate through complete weeks, so it will yield\n",
            "     |      dates outside the specified month.\n",
            "     |\n",
            "     |  itermonthdays(self, year, month)\n",
            "     |      Like itermonthdates(), but will yield day numbers. For days outside\n",
            "     |      the specified month the day number is 0.\n",
            "     |\n",
            "     |  itermonthdays2(self, year, month)\n",
            "     |      Like itermonthdates(), but will yield (day number, weekday number)\n",
            "     |      tuples. For days outside the specified month the day number is 0.\n",
            "     |\n",
            "     |  itermonthdays3(self, year, month)\n",
            "     |      Like itermonthdates(), but will yield (year, month, day) tuples.  Can be\n",
            "     |      used for dates outside of datetime.date range.\n",
            "     |\n",
            "     |  itermonthdays4(self, year, month)\n",
            "     |      Like itermonthdates(), but will yield (year, month, day, day_of_week) tuples.\n",
            "     |      Can be used for dates outside of datetime.date range.\n",
            "     |\n",
            "     |  iterweekdays(self)\n",
            "     |      Return an iterator for one week of weekday numbers starting with the\n",
            "     |      configured first one.\n",
            "     |\n",
            "     |  monthdatescalendar(self, year, month)\n",
            "     |      Return a matrix (list of lists) representing a month's calendar.\n",
            "     |      Each row represents a week; week entries are datetime.date values.\n",
            "     |\n",
            "     |  monthdays2calendar(self, year, month)\n",
            "     |      Return a matrix representing a month's calendar.\n",
            "     |      Each row represents a week; week entries are\n",
            "     |      (day number, weekday number) tuples. Day numbers outside this month\n",
            "     |      are zero.\n",
            "     |\n",
            "     |  monthdayscalendar(self, year, month)\n",
            "     |      Return a matrix representing a month's calendar.\n",
            "     |      Each row represents a week; days outside this month are zero.\n",
            "     |\n",
            "     |  setfirstweekday(self, firstweekday)\n",
            "     |\n",
            "     |  yeardatescalendar(self, year, width=3)\n",
            "     |      Return the data for the specified year ready for formatting. The return\n",
            "     |      value is a list of month rows. Each month row contains up to width months.\n",
            "     |      Each month contains between 4 and 6 weeks and each week contains 1-7\n",
            "     |      days. Days are datetime.date objects.\n",
            "     |\n",
            "     |  yeardays2calendar(self, year, width=3)\n",
            "     |      Return the data for the specified year ready for formatting (similar to\n",
            "     |      yeardatescalendar()). Entries in the week lists are\n",
            "     |      (day number, weekday number) tuples. Day numbers outside this month are\n",
            "     |      zero.\n",
            "     |\n",
            "     |  yeardayscalendar(self, year, width=3)\n",
            "     |      Return the data for the specified year ready for formatting (similar to\n",
            "     |      yeardatescalendar()). Entries in the week lists are day numbers.\n",
            "     |      Day numbers outside this month are zero.\n",
            "     |\n",
            "     |  ----------------------------------------------------------------------\n",
            "     |  Data descriptors inherited from Calendar:\n",
            "     |\n",
            "     |  __dict__\n",
            "     |      dictionary for instance variables\n",
            "     |\n",
            "     |  __weakref__\n",
            "     |      list of weak references to the object\n",
            "     |\n",
            "     |  firstweekday\n",
            "\n",
            "    class LocaleTextCalendar(TextCalendar)\n",
            "     |  LocaleTextCalendar(firstweekday=0, locale=None)\n",
            "     |\n",
            "     |  This class can be passed a locale name in the constructor and will return\n",
            "     |  month and weekday names in the specified locale.\n",
            "     |\n",
            "     |  Method resolution order:\n",
            "     |      LocaleTextCalendar\n",
            "     |      TextCalendar\n",
            "     |      Calendar\n",
            "     |      builtins.object\n",
            "     |\n",
            "     |  Methods defined here:\n",
            "     |\n",
            "     |  __init__(self, firstweekday=0, locale=None)\n",
            "     |      Initialize self.  See help(type(self)) for accurate signature.\n",
            "     |\n",
            "     |  formatmonthname(self, theyear, themonth, width, withyear=True)\n",
            "     |      Return a formatted month name.\n",
            "     |\n",
            "     |  formatweekday(self, day, width)\n",
            "     |      Returns a formatted week day name.\n",
            "     |\n",
            "     |  ----------------------------------------------------------------------\n",
            "     |  Methods inherited from TextCalendar:\n",
            "     |\n",
            "     |  formatday(self, day, weekday, width)\n",
            "     |      Returns a formatted day.\n",
            "     |\n",
            "     |  formatmonth(self, theyear, themonth, w=0, l=0)\n",
            "     |      Return a month's calendar string (multi-line).\n",
            "     |\n",
            "     |  formatweek(self, theweek, width)\n",
            "     |      Returns a single week in a string (no newline).\n",
            "     |\n",
            "     |  formatweekheader(self, width)\n",
            "     |      Return a header for a week.\n",
            "     |\n",
            "     |  formatyear(self, theyear, w=2, l=1, c=6, m=3)\n",
            "     |      Returns a year's calendar as a multi-line string.\n",
            "     |\n",
            "     |  prmonth(self, theyear, themonth, w=0, l=0)\n",
            "     |      Print a month's calendar.\n",
            "     |\n",
            "     |  prweek(self, theweek, width)\n",
            "     |      Print a single week (no newline).\n",
            "     |\n",
            "     |  pryear(self, theyear, w=0, l=0, c=6, m=3)\n",
            "     |      Print a year's calendar.\n",
            "     |\n",
            "     |  ----------------------------------------------------------------------\n",
            "     |  Methods inherited from Calendar:\n",
            "     |\n",
            "     |  getfirstweekday(self)\n",
            "     |\n",
            "     |  itermonthdates(self, year, month)\n",
            "     |      Return an iterator for one month. The iterator will yield datetime.date\n",
            "     |      values and will always iterate through complete weeks, so it will yield\n",
            "     |      dates outside the specified month.\n",
            "     |\n",
            "     |  itermonthdays(self, year, month)\n",
            "     |      Like itermonthdates(), but will yield day numbers. For days outside\n",
            "     |      the specified month the day number is 0.\n",
            "     |\n",
            "     |  itermonthdays2(self, year, month)\n",
            "     |      Like itermonthdates(), but will yield (day number, weekday number)\n",
            "     |      tuples. For days outside the specified month the day number is 0.\n",
            "     |\n",
            "     |  itermonthdays3(self, year, month)\n",
            "     |      Like itermonthdates(), but will yield (year, month, day) tuples.  Can be\n",
            "     |      used for dates outside of datetime.date range.\n",
            "     |\n",
            "     |  itermonthdays4(self, year, month)\n",
            "     |      Like itermonthdates(), but will yield (year, month, day, day_of_week) tuples.\n",
            "     |      Can be used for dates outside of datetime.date range.\n",
            "     |\n",
            "     |  iterweekdays(self)\n",
            "     |      Return an iterator for one week of weekday numbers starting with the\n",
            "     |      configured first one.\n",
            "     |\n",
            "     |  monthdatescalendar(self, year, month)\n",
            "     |      Return a matrix (list of lists) representing a month's calendar.\n",
            "     |      Each row represents a week; week entries are datetime.date values.\n",
            "     |\n",
            "     |  monthdays2calendar(self, year, month)\n",
            "     |      Return a matrix representing a month's calendar.\n",
            "     |      Each row represents a week; week entries are\n",
            "     |      (day number, weekday number) tuples. Day numbers outside this month\n",
            "     |      are zero.\n",
            "     |\n",
            "     |  monthdayscalendar(self, year, month)\n",
            "     |      Return a matrix representing a month's calendar.\n",
            "     |      Each row represents a week; days outside this month are zero.\n",
            "     |\n",
            "     |  setfirstweekday(self, firstweekday)\n",
            "     |\n",
            "     |  yeardatescalendar(self, year, width=3)\n",
            "     |      Return the data for the specified year ready for formatting. The return\n",
            "     |      value is a list of month rows. Each month row contains up to width months.\n",
            "     |      Each month contains between 4 and 6 weeks and each week contains 1-7\n",
            "     |      days. Days are datetime.date objects.\n",
            "     |\n",
            "     |  yeardays2calendar(self, year, width=3)\n",
            "     |      Return the data for the specified year ready for formatting (similar to\n",
            "     |      yeardatescalendar()). Entries in the week lists are\n",
            "     |      (day number, weekday number) tuples. Day numbers outside this month are\n",
            "     |      zero.\n",
            "     |\n",
            "     |  yeardayscalendar(self, year, width=3)\n",
            "     |      Return the data for the specified year ready for formatting (similar to\n",
            "     |      yeardatescalendar()). Entries in the week lists are day numbers.\n",
            "     |      Day numbers outside this month are zero.\n",
            "     |\n",
            "     |  ----------------------------------------------------------------------\n",
            "     |  Data descriptors inherited from Calendar:\n",
            "     |\n",
            "     |  __dict__\n",
            "     |      dictionary for instance variables\n",
            "     |\n",
            "     |  __weakref__\n",
            "     |      list of weak references to the object\n",
            "     |\n",
            "     |  firstweekday\n",
            "\n",
            "    class Month(enum.IntEnum)\n",
            "     |  Month(*values)\n",
            "     |\n",
            "     |  # Constants for months\n",
            "     |\n",
            "     |  Method resolution order:\n",
            "     |      Month\n",
            "     |      enum.IntEnum\n",
            "     |      builtins.int\n",
            "     |      enum.ReprEnum\n",
            "     |      enum.Enum\n",
            "     |      builtins.object\n",
            "     |\n",
            "     |  Methods defined here:\n",
            "     |\n",
            "     |  __format__(self, format_spec, /) from builtins.int\n",
            "     |      Convert to a string according to format_spec.\n",
            "     |\n",
            "     |  __new__(cls, value) from enum.Enum\n",
            "     |      Create and return a new object.  See help(type) for accurate signature.\n",
            "     |\n",
            "     |  __repr__ = global_enum_repr(self) from enum\n",
            "     |      use module.enum_name instead of class.enum_name\n",
            "     |\n",
            "     |      the module is the last module in case of a multi-module name\n",
            "     |\n",
            "     |  ----------------------------------------------------------------------\n",
            "     |  Data and other attributes defined here:\n",
            "     |\n",
            "     |  APRIL = calendar.APRIL\n",
            "     |\n",
            "     |  AUGUST = calendar.AUGUST\n",
            "     |\n",
            "     |  DECEMBER = calendar.DECEMBER\n",
            "     |\n",
            "     |  FEBRUARY = calendar.FEBRUARY\n",
            "     |\n",
            "     |  JANUARY = calendar.JANUARY\n",
            "     |\n",
            "     |  JULY = calendar.JULY\n",
            "     |\n",
            "     |  JUNE = calendar.JUNE\n",
            "     |\n",
            "     |  MARCH = calendar.MARCH\n",
            "     |\n",
            "     |  MAY = calendar.MAY\n",
            "     |\n",
            "     |  NOVEMBER = calendar.NOVEMBER\n",
            "     |\n",
            "     |  OCTOBER = calendar.OCTOBER\n",
            "     |\n",
            "     |  SEPTEMBER = calendar.SEPTEMBER\n",
            "     |\n",
            "     |  ----------------------------------------------------------------------\n",
            "     |  Methods inherited from enum.IntEnum:\n",
            "     |\n",
            "     |  __str__ = __repr__(self, /) from builtins.int\n",
            "     |      Return repr(self).\n",
            "     |\n",
            "     |  ----------------------------------------------------------------------\n",
            "     |  Methods inherited from builtins.int:\n",
            "     |\n",
            "     |  __abs__(self, /)\n",
            "     |      abs(self)\n",
            "     |\n",
            "     |  __add__(self, value, /)\n",
            "     |      Return self+value.\n",
            "     |\n",
            "     |  __and__(self, value, /)\n",
            "     |      Return self&value.\n",
            "     |\n",
            "     |  __bool__(self, /)\n",
            "     |      True if self else False\n",
            "     |\n",
            "     |  __ceil__(...)\n",
            "     |      Ceiling of an Integral returns itself.\n",
            "     |\n",
            "     |  __divmod__(self, value, /)\n",
            "     |      Return divmod(self, value).\n",
            "     |\n",
            "     |  __eq__(self, value, /)\n",
            "     |      Return self==value.\n",
            "     |\n",
            "     |  __float__(self, /)\n",
            "     |      float(self)\n",
            "     |\n",
            "     |  __floor__(...)\n",
            "     |      Flooring an Integral returns itself.\n",
            "     |\n",
            "     |  __floordiv__(self, value, /)\n",
            "     |      Return self//value.\n",
            "     |\n",
            "     |  __ge__(self, value, /)\n",
            "     |      Return self>=value.\n",
            "     |\n",
            "     |  __getattribute__(self, name, /)\n",
            "     |      Return getattr(self, name).\n",
            "     |\n",
            "     |  __getnewargs__(self, /)\n",
            "     |\n",
            "     |  __gt__(self, value, /)\n",
            "     |      Return self>value.\n",
            "     |\n",
            "     |  __hash__(self, /)\n",
            "     |      Return hash(self).\n",
            "     |\n",
            "     |  __index__(self, /)\n",
            "     |      Return self converted to an integer, if self is suitable for use as an index into a list.\n",
            "     |\n",
            "     |  __int__(self, /)\n",
            "     |      int(self)\n",
            "     |\n",
            "     |  __invert__(self, /)\n",
            "     |      ~self\n",
            "     |\n",
            "     |  __le__(self, value, /)\n",
            "     |      Return self<=value.\n",
            "     |\n",
            "     |  __lshift__(self, value, /)\n",
            "     |      Return self<<value.\n",
            "     |\n",
            "     |  __lt__(self, value, /)\n",
            "     |      Return self<value.\n",
            "     |\n",
            "     |  __mod__(self, value, /)\n",
            "     |      Return self%value.\n",
            "     |\n",
            "     |  __mul__(self, value, /)\n",
            "     |      Return self*value.\n",
            "     |\n",
            "     |  __ne__(self, value, /)\n",
            "     |      Return self!=value.\n",
            "     |\n",
            "     |  __neg__(self, /)\n",
            "     |      -self\n",
            "     |\n",
            "     |  __or__(self, value, /)\n",
            "     |      Return self|value.\n",
            "     |\n",
            "     |  __pos__(self, /)\n",
            "     |      +self\n",
            "     |\n",
            "     |  __pow__(self, value, mod=None, /)\n",
            "     |      Return pow(self, value, mod).\n",
            "     |\n",
            "     |  __radd__(self, value, /)\n",
            "     |      Return value+self.\n",
            "     |\n",
            "     |  __rand__(self, value, /)\n",
            "     |      Return value&self.\n",
            "     |\n",
            "     |  __rdivmod__(self, value, /)\n",
            "     |      Return divmod(value, self).\n",
            "     |\n",
            "     |  __rfloordiv__(self, value, /)\n",
            "     |      Return value//self.\n",
            "     |\n",
            "     |  __rlshift__(self, value, /)\n",
            "     |      Return value<<self.\n",
            "     |\n",
            "     |  __rmod__(self, value, /)\n",
            "     |      Return value%self.\n",
            "     |\n",
            "     |  __rmul__(self, value, /)\n",
            "     |      Return value*self.\n",
            "     |\n",
            "     |  __ror__(self, value, /)\n",
            "     |      Return value|self.\n",
            "     |\n",
            "     |  __round__(...)\n",
            "     |      Rounding an Integral returns itself.\n",
            "     |\n",
            "     |      Rounding with an ndigits argument also returns an integer.\n",
            "     |\n",
            "     |  __rpow__(self, value, mod=None, /)\n",
            "     |      Return pow(value, self, mod).\n",
            "     |\n",
            "     |  __rrshift__(self, value, /)\n",
            "     |      Return value>>self.\n",
            "     |\n",
            "     |  __rshift__(self, value, /)\n",
            "     |      Return self>>value.\n",
            "     |\n",
            "     |  __rsub__(self, value, /)\n",
            "     |      Return value-self.\n",
            "     |\n",
            "     |  __rtruediv__(self, value, /)\n",
            "     |      Return value/self.\n",
            "     |\n",
            "     |  __rxor__(self, value, /)\n",
            "     |      Return value^self.\n",
            "     |\n",
            "     |  __sizeof__(self, /)\n",
            "     |      Returns size in memory, in bytes.\n",
            "     |\n",
            "     |  __sub__(self, value, /)\n",
            "     |      Return self-value.\n",
            "     |\n",
            "     |  __truediv__(self, value, /)\n",
            "     |      Return self/value.\n",
            "     |\n",
            "     |  __trunc__(...)\n",
            "     |      Truncating an Integral returns itself.\n",
            "     |\n",
            "     |  __xor__(self, value, /)\n",
            "     |      Return self^value.\n",
            "     |\n",
            "     |  as_integer_ratio(self, /)\n",
            "     |      Return a pair of integers, whose ratio is equal to the original int.\n",
            "     |\n",
            "     |      The ratio is in lowest terms and has a positive denominator.\n",
            "     |\n",
            "     |      >>> (10).as_integer_ratio()\n",
            "     |      (10, 1)\n",
            "     |      >>> (-10).as_integer_ratio()\n",
            "     |      (-10, 1)\n",
            "     |      >>> (0).as_integer_ratio()\n",
            "     |      (0, 1)\n",
            "     |\n",
            "     |  bit_count(self, /)\n",
            "     |      Number of ones in the binary representation of the absolute value of self.\n",
            "     |\n",
            "     |      Also known as the population count.\n",
            "     |\n",
            "     |      >>> bin(13)\n",
            "     |      '0b1101'\n",
            "     |      >>> (13).bit_count()\n",
            "     |      3\n",
            "     |\n",
            "     |  bit_length(self, /)\n",
            "     |      Number of bits necessary to represent self in binary.\n",
            "     |\n",
            "     |      >>> bin(37)\n",
            "     |      '0b100101'\n",
            "     |      >>> (37).bit_length()\n",
            "     |      6\n",
            "     |\n",
            "     |  conjugate(...)\n",
            "     |      Returns self, the complex conjugate of any int.\n",
            "     |\n",
            "     |  is_integer(self, /)\n",
            "     |      Returns True. Exists for duck type compatibility with float.is_integer.\n",
            "     |\n",
            "     |  to_bytes(self, /, length=1, byteorder='big', *, signed=False)\n",
            "     |      Return an array of bytes representing an integer.\n",
            "     |\n",
            "     |      length\n",
            "     |        Length of bytes object to use.  An OverflowError is raised if the\n",
            "     |        integer is not representable with the given number of bytes.  Default\n",
            "     |        is length 1.\n",
            "     |      byteorder\n",
            "     |        The byte order used to represent the integer.  If byteorder is 'big',\n",
            "     |        the most significant byte is at the beginning of the byte array.  If\n",
            "     |        byteorder is 'little', the most significant byte is at the end of the\n",
            "     |        byte array.  To request the native byte order of the host system, use\n",
            "     |        `sys.byteorder' as the byte order value.  Default is to use 'big'.\n",
            "     |      signed\n",
            "     |        Determines whether two's complement is used to represent the integer.\n",
            "     |        If signed is False and a negative integer is given, an OverflowError\n",
            "     |        is raised.\n",
            "     |\n",
            "     |  ----------------------------------------------------------------------\n",
            "     |  Class methods inherited from builtins.int:\n",
            "     |\n",
            "     |  from_bytes(bytes, byteorder='big', *, signed=False)\n",
            "     |      Return the integer represented by the given array of bytes.\n",
            "     |\n",
            "     |      bytes\n",
            "     |        Holds the array of bytes to convert.  The argument must either\n",
            "     |        support the buffer protocol or be an iterable object producing bytes.\n",
            "     |        Bytes and bytearray are examples of built-in objects that support the\n",
            "     |        buffer protocol.\n",
            "     |      byteorder\n",
            "     |        The byte order used to represent the integer.  If byteorder is 'big',\n",
            "     |        the most significant byte is at the beginning of the byte array.  If\n",
            "     |        byteorder is 'little', the most significant byte is at the end of the\n",
            "     |        byte array.  To request the native byte order of the host system, use\n",
            "     |        `sys.byteorder' as the byte order value.  Default is to use 'big'.\n",
            "     |      signed\n",
            "     |        Indicates whether two's complement is used to represent the integer.\n",
            "     |\n",
            "     |  ----------------------------------------------------------------------\n",
            "     |  Data descriptors inherited from builtins.int:\n",
            "     |\n",
            "     |  denominator\n",
            "     |      the denominator of a rational number in lowest terms\n",
            "     |\n",
            "     |  imag\n",
            "     |      the imaginary part of a complex number\n",
            "     |\n",
            "     |  numerator\n",
            "     |      the numerator of a rational number in lowest terms\n",
            "     |\n",
            "     |  real\n",
            "     |      the real part of a complex number\n",
            "     |\n",
            "     |  ----------------------------------------------------------------------\n",
            "     |  Methods inherited from enum.Enum:\n",
            "     |\n",
            "     |  __dir__(self)\n",
            "     |      Returns public methods and other interesting attributes.\n",
            "     |\n",
            "     |  __init__(self, *args, **kwds)\n",
            "     |      Initialize self.  See help(type(self)) for accurate signature.\n",
            "     |\n",
            "     |  __reduce_ex__(self, proto)\n",
            "     |      Helper for pickle.\n",
            "     |\n",
            "     |  ----------------------------------------------------------------------\n",
            "     |  Data descriptors inherited from enum.Enum:\n",
            "     |\n",
            "     |  name\n",
            "     |      The name of the Enum member.\n",
            "     |\n",
            "     |  value\n",
            "     |      The value of the Enum member.\n",
            "     |\n",
            "     |  ----------------------------------------------------------------------\n",
            "     |  Static methods inherited from enum.EnumType:\n",
            "     |\n",
            "     |  __contains__(value)\n",
            "     |      Return True if `value` is in `cls`.\n",
            "     |\n",
            "     |      `value` is in `cls` if:\n",
            "     |      1) `value` is a member of `cls`, or\n",
            "     |      2) `value` is the value of one of the `cls`'s members.\n",
            "     |\n",
            "     |  __getitem__(name)\n",
            "     |      Return the member matching `name`.\n",
            "     |\n",
            "     |  __iter__()\n",
            "     |      Return members in definition order.\n",
            "     |\n",
            "     |  __len__()\n",
            "     |      Return the number of members (no aliases)\n",
            "     |\n",
            "     |  ----------------------------------------------------------------------\n",
            "     |  Readonly properties inherited from enum.EnumType:\n",
            "     |\n",
            "     |  __members__\n",
            "     |      Returns a mapping of member name->value.\n",
            "     |\n",
            "     |      This mapping lists all enum members, including aliases. Note that this\n",
            "     |      is a read-only view of the internal mapping.\n",
            "\n",
            "    class TextCalendar(Calendar)\n",
            "     |  TextCalendar(firstweekday=0)\n",
            "     |\n",
            "     |  Subclass of Calendar that outputs a calendar as a simple plain text\n",
            "     |  similar to the UNIX program cal.\n",
            "     |\n",
            "     |  Method resolution order:\n",
            "     |      TextCalendar\n",
            "     |      Calendar\n",
            "     |      builtins.object\n",
            "     |\n",
            "     |  Methods defined here:\n",
            "     |\n",
            "     |  formatday(self, day, weekday, width)\n",
            "     |      Returns a formatted day.\n",
            "     |\n",
            "     |  formatmonth(self, theyear, themonth, w=0, l=0)\n",
            "     |      Return a month's calendar string (multi-line).\n",
            "     |\n",
            "     |  formatmonthname(self, theyear, themonth, width, withyear=True)\n",
            "     |      Return a formatted month name.\n",
            "     |\n",
            "     |  formatweek(self, theweek, width)\n",
            "     |      Returns a single week in a string (no newline).\n",
            "     |\n",
            "     |  formatweekday(self, day, width)\n",
            "     |      Returns a formatted week day name.\n",
            "     |\n",
            "     |  formatweekheader(self, width)\n",
            "     |      Return a header for a week.\n",
            "     |\n",
            "     |  formatyear(self, theyear, w=2, l=1, c=6, m=3)\n",
            "     |      Returns a year's calendar as a multi-line string.\n",
            "     |\n",
            "     |  prmonth(self, theyear, themonth, w=0, l=0)\n",
            "     |      Print a month's calendar.\n",
            "     |\n",
            "     |  prweek(self, theweek, width)\n",
            "     |      Print a single week (no newline).\n",
            "     |\n",
            "     |  pryear(self, theyear, w=0, l=0, c=6, m=3)\n",
            "     |      Print a year's calendar.\n",
            "     |\n",
            "     |  ----------------------------------------------------------------------\n",
            "     |  Methods inherited from Calendar:\n",
            "     |\n",
            "     |  __init__(self, firstweekday=0)\n",
            "     |      Initialize self.  See help(type(self)) for accurate signature.\n",
            "     |\n",
            "     |  getfirstweekday(self)\n",
            "     |\n",
            "     |  itermonthdates(self, year, month)\n",
            "     |      Return an iterator for one month. The iterator will yield datetime.date\n",
            "     |      values and will always iterate through complete weeks, so it will yield\n",
            "     |      dates outside the specified month.\n",
            "     |\n",
            "     |  itermonthdays(self, year, month)\n",
            "     |      Like itermonthdates(), but will yield day numbers. For days outside\n",
            "     |      the specified month the day number is 0.\n",
            "     |\n",
            "     |  itermonthdays2(self, year, month)\n",
            "     |      Like itermonthdates(), but will yield (day number, weekday number)\n",
            "     |      tuples. For days outside the specified month the day number is 0.\n",
            "     |\n",
            "     |  itermonthdays3(self, year, month)\n",
            "     |      Like itermonthdates(), but will yield (year, month, day) tuples.  Can be\n",
            "     |      used for dates outside of datetime.date range.\n",
            "     |\n",
            "     |  itermonthdays4(self, year, month)\n",
            "     |      Like itermonthdates(), but will yield (year, month, day, day_of_week) tuples.\n",
            "     |      Can be used for dates outside of datetime.date range.\n",
            "     |\n",
            "     |  iterweekdays(self)\n",
            "     |      Return an iterator for one week of weekday numbers starting with the\n",
            "     |      configured first one.\n",
            "     |\n",
            "     |  monthdatescalendar(self, year, month)\n",
            "     |      Return a matrix (list of lists) representing a month's calendar.\n",
            "     |      Each row represents a week; week entries are datetime.date values.\n",
            "     |\n",
            "     |  monthdays2calendar(self, year, month)\n",
            "     |      Return a matrix representing a month's calendar.\n",
            "     |      Each row represents a week; week entries are\n",
            "     |      (day number, weekday number) tuples. Day numbers outside this month\n",
            "     |      are zero.\n",
            "     |\n",
            "     |  monthdayscalendar(self, year, month)\n",
            "     |      Return a matrix representing a month's calendar.\n",
            "     |      Each row represents a week; days outside this month are zero.\n",
            "     |\n",
            "     |  setfirstweekday(self, firstweekday)\n",
            "     |\n",
            "     |  yeardatescalendar(self, year, width=3)\n",
            "     |      Return the data for the specified year ready for formatting. The return\n",
            "     |      value is a list of month rows. Each month row contains up to width months.\n",
            "     |      Each month contains between 4 and 6 weeks and each week contains 1-7\n",
            "     |      days. Days are datetime.date objects.\n",
            "     |\n",
            "     |  yeardays2calendar(self, year, width=3)\n",
            "     |      Return the data for the specified year ready for formatting (similar to\n",
            "     |      yeardatescalendar()). Entries in the week lists are\n",
            "     |      (day number, weekday number) tuples. Day numbers outside this month are\n",
            "     |      zero.\n",
            "     |\n",
            "     |  yeardayscalendar(self, year, width=3)\n",
            "     |      Return the data for the specified year ready for formatting (similar to\n",
            "     |      yeardatescalendar()). Entries in the week lists are day numbers.\n",
            "     |      Day numbers outside this month are zero.\n",
            "     |\n",
            "     |  ----------------------------------------------------------------------\n",
            "     |  Data descriptors inherited from Calendar:\n",
            "     |\n",
            "     |  __dict__\n",
            "     |      dictionary for instance variables\n",
            "     |\n",
            "     |  __weakref__\n",
            "     |      list of weak references to the object\n",
            "     |\n",
            "     |  firstweekday\n",
            "\n",
            "FUNCTIONS\n",
            "    __getattr__(name)\n",
            "\n",
            "    calendar = formatyear(theyear, w=2, l=1, c=6, m=3) method of TextCalendar instance\n",
            "        Returns a year's calendar as a multi-line string.\n",
            "\n",
            "    firstweekday = getfirstweekday() method of TextCalendar instance\n",
            "\n",
            "    isleap(year)\n",
            "        Return True for leap years, False for non-leap years.\n",
            "\n",
            "    leapdays(y1, y2)\n",
            "        Return number of leap years in range [y1, y2).\n",
            "        Assume y1 <= y2.\n",
            "\n",
            "    month = formatmonth(theyear, themonth, w=0, l=0) method of TextCalendar instance\n",
            "        Return a month's calendar string (multi-line).\n",
            "\n",
            "    monthcalendar = monthdayscalendar(year, month) method of TextCalendar instance\n",
            "        Return a matrix representing a month's calendar.\n",
            "        Each row represents a week; days outside this month are zero.\n",
            "\n",
            "    monthrange(year, month)\n",
            "        Return weekday of first day of month (0-6 ~ Mon-Sun)\n",
            "        and number of days (28-31) for year, month.\n",
            "\n",
            "    prcal = pryear(theyear, w=0, l=0, c=6, m=3) method of TextCalendar instance\n",
            "        Print a year's calendar.\n",
            "\n",
            "    prmonth(theyear, themonth, w=0, l=0) method of TextCalendar instance\n",
            "        Print a month's calendar.\n",
            "\n",
            "    setfirstweekday(firstweekday)\n",
            "\n",
            "    timegm(tuple)\n",
            "        Unrelated but handy function to calculate Unix timestamp from GMT.\n",
            "\n",
            "    weekday(year, month, day)\n",
            "        Return weekday (0-6 ~ Mon-Sun) for year, month (1-12), day (1-31).\n",
            "\n",
            "    weekheader = formatweekheader(width) method of TextCalendar instance\n",
            "        Return a header for a week.\n",
            "\n",
            "DATA\n",
            "    APRIL = calendar.APRIL\n",
            "    AUGUST = calendar.AUGUST\n",
            "    DECEMBER = calendar.DECEMBER\n",
            "    FEBRUARY = calendar.FEBRUARY\n",
            "    FRIDAY = calendar.FRIDAY\n",
            "    JANUARY = calendar.JANUARY\n",
            "    JULY = calendar.JULY\n",
            "    JUNE = calendar.JUNE\n",
            "    MARCH = calendar.MARCH\n",
            "    MAY = calendar.MAY\n",
            "    MONDAY = calendar.MONDAY\n",
            "    NOVEMBER = calendar.NOVEMBER\n",
            "    OCTOBER = calendar.OCTOBER\n",
            "    SATURDAY = calendar.SATURDAY\n",
            "    SEPTEMBER = calendar.SEPTEMBER\n",
            "    SUNDAY = calendar.SUNDAY\n",
            "    THURSDAY = calendar.THURSDAY\n",
            "    TUESDAY = calendar.TUESDAY\n",
            "    WEDNESDAY = calendar.WEDNESDAY\n",
            "    __all__ = ['IllegalMonthError', 'IllegalWeekdayError', 'setfirstweekda...\n",
            "    day_abbr = <calendar._localized_day object>\n",
            "    day_name = <calendar._localized_day object>\n",
            "    month_abbr = <calendar._localized_month object>\n",
            "    month_name = <calendar._localized_month object>\n",
            "\n",
            "FILE\n",
            "    c:\\users\\lenovo\\appdata\\local\\programs\\python\\python312\\lib\\calendar.py\n",
            "\n",
            "\n"
          ]
        }
      ],
      "source": [
        "help(calendar)"
      ]
    },
    {
      "cell_type": "code",
      "execution_count": 115,
      "metadata": {},
      "outputs": [
        {
          "name": "stdout",
          "output_type": "stream",
          "text": [
            "                                  2025\n",
            "\n",
            "      January                   February                   March\n",
            "Mo Tu We Th Fr Sa Su      Mo Tu We Th Fr Sa Su      Mo Tu We Th Fr Sa Su\n",
            "       1  2  3  4  5                      1  2                      1  2\n",
            " 6  7  8  9 10 11 12       3  4  5  6  7  8  9       3  4  5  6  7  8  9\n",
            "13 14 15 16 17 18 19      10 11 12 13 14 15 16      10 11 12 13 14 15 16\n",
            "20 21 22 23 24 25 26      17 18 19 20 21 22 23      17 18 19 20 21 22 23\n",
            "27 28 29 30 31            24 25 26 27 28            24 25 26 27 28 29 30\n",
            "                                                    31\n",
            "\n",
            "       April                      May                       June\n",
            "Mo Tu We Th Fr Sa Su      Mo Tu We Th Fr Sa Su      Mo Tu We Th Fr Sa Su\n",
            "    1  2  3  4  5  6                1  2  3  4                         1\n",
            " 7  8  9 10 11 12 13       5  6  7  8  9 10 11       2  3  4  5  6  7  8\n",
            "14 15 16 17 18 19 20      12 13 14 15 16 17 18       9 10 11 12 13 14 15\n",
            "21 22 23 24 25 26 27      19 20 21 22 23 24 25      16 17 18 19 20 21 22\n",
            "28 29 30                  26 27 28 29 30 31         23 24 25 26 27 28 29\n",
            "                                                    30\n",
            "\n",
            "        July                     August                  September\n",
            "Mo Tu We Th Fr Sa Su      Mo Tu We Th Fr Sa Su      Mo Tu We Th Fr Sa Su\n",
            "    1  2  3  4  5  6                   1  2  3       1  2  3  4  5  6  7\n",
            " 7  8  9 10 11 12 13       4  5  6  7  8  9 10       8  9 10 11 12 13 14\n",
            "14 15 16 17 18 19 20      11 12 13 14 15 16 17      15 16 17 18 19 20 21\n",
            "21 22 23 24 25 26 27      18 19 20 21 22 23 24      22 23 24 25 26 27 28\n",
            "28 29 30 31               25 26 27 28 29 30 31      29 30\n",
            "\n",
            "      October                   November                  December\n",
            "Mo Tu We Th Fr Sa Su      Mo Tu We Th Fr Sa Su      Mo Tu We Th Fr Sa Su\n",
            "       1  2  3  4  5                      1  2       1  2  3  4  5  6  7\n",
            " 6  7  8  9 10 11 12       3  4  5  6  7  8  9       8  9 10 11 12 13 14\n",
            "13 14 15 16 17 18 19      10 11 12 13 14 15 16      15 16 17 18 19 20 21\n",
            "20 21 22 23 24 25 26      17 18 19 20 21 22 23      22 23 24 25 26 27 28\n",
            "27 28 29 30 31            24 25 26 27 28 29 30      29 30 31\n",
            "\n"
          ]
        }
      ],
      "source": [
        "print(calendar.calendar(2025))  # calendar is used twice because when single calendar is used it will import entire calendar"
      ]
    },
    {
      "cell_type": "markdown",
      "metadata": {},
      "source": [
        "### first way"
      ]
    },
    {
      "cell_type": "code",
      "execution_count": 116,
      "metadata": {},
      "outputs": [
        {
          "name": "stdout",
          "output_type": "stream",
          "text": [
            "   February 2025\n",
            "Mo Tu We Th Fr Sa Su\n",
            "                1  2\n",
            " 3  4  5  6  7  8  9\n",
            "10 11 12 13 14 15 16\n",
            "17 18 19 20 21 22 23\n",
            "24 25 26 27 28\n",
            "\n"
          ]
        }
      ],
      "source": [
        "import calendar as c        # entire module is imported as c\n",
        "print(c.month (2025, 2))"
      ]
    },
    {
      "cell_type": "markdown",
      "metadata": {},
      "source": [
        "### second way"
      ]
    },
    {
      "cell_type": "code",
      "execution_count": 117,
      "metadata": {},
      "outputs": [
        {
          "name": "stdout",
          "output_type": "stream",
          "text": [
            "5.0\n"
          ]
        }
      ],
      "source": [
        "import math as q        # entire lia=brary is imported as q\n",
        "print(q.sqrt(25))"
      ]
    },
    {
      "cell_type": "markdown",
      "metadata": {},
      "source": [
        "### third way"
      ]
    },
    {
      "cell_type": "code",
      "execution_count": 118,
      "metadata": {},
      "outputs": [
        {
          "name": "stdout",
          "output_type": "stream",
          "text": [
            "5.0\n"
          ]
        }
      ],
      "source": [
        "from math import sqrt        # only sqrt function is imported from math\n",
        "print(sqrt(25))"
      ]
    },
    {
      "cell_type": "code",
      "execution_count": 4,
      "metadata": {},
      "outputs": [
        {
          "name": "stdout",
          "output_type": "stream",
          "text": [
            "Digit found\n"
          ]
        },
        {
          "name": "stderr",
          "output_type": "stream",
          "text": [
            "<>:3: SyntaxWarning: invalid escape sequence '\\d'\n",
            "<>:3: SyntaxWarning: invalid escape sequence '\\d'\n",
            "C:\\Users\\Lenovo\\AppData\\Local\\Temp\\ipykernel_20764\\1063187154.py:3: SyntaxWarning: invalid escape sequence '\\d'\n",
            "  result = re.search(\"\\d\", s3)\n"
          ]
        }
      ],
      "source": [
        "import re\n",
        "s3 = \"House number- 1105\"\n",
        "result = re.search(\"\\d\", s3)\n",
        "\n",
        "# Check if a match was found\n",
        "if result:\n",
        "    print(\"Digit found\")\n",
        "else:\n",
        "    print(\"Digit not found.\")"
      ]
    },
    {
      "cell_type": "code",
      "execution_count": null,
      "metadata": {},
      "outputs": [],
      "source": []
    }
  ],
  "metadata": {
    "colab": {
      "provenance": []
    },
    "kernelspec": {
      "display_name": "Python 3",
      "name": "python3"
    },
    "language_info": {
      "codemirror_mode": {
        "name": "ipython",
        "version": 3
      },
      "file_extension": ".py",
      "mimetype": "text/x-python",
      "name": "python",
      "nbconvert_exporter": "python",
      "pygments_lexer": "ipython3",
      "version": "3.12.8"
    }
  },
  "nbformat": 4,
  "nbformat_minor": 0
}
