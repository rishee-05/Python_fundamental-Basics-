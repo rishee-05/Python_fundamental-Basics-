{
 "cells": [
  {
   "cell_type": "markdown",
   "metadata": {
    "id": "y1HMD4oI7FL7"
   },
   "source": [
    "## Operators in Python\n",
    "\n",
    "- Arithmetic Operators\n",
    "- Relational Operators\n",
    "- Logical Operators\n",
    "- Bitwise Operators\n",
    "- Assignment Operators\n",
    "- Membership Operators"
   ]
  },
  {
   "cell_type": "code",
   "execution_count": null,
   "metadata": {
    "colab": {
     "base_uri": "https://localhost:8080/"
    },
    "id": "a7cegk-f7U4-",
    "outputId": "77490d0d-316e-4611-9cd7-8c99e64fca2a"
   },
   "outputs": [
    {
     "name": "stdout",
     "output_type": "stream",
     "text": [
      "11\n",
      "-1\n",
      "30\n",
      "2.5\n",
      "2\n",
      "1\n",
      "25\n"
     ]
    }
   ],
   "source": [
    "# Arithmetric Operators\n",
    "print(5+6)\n",
    "\n",
    "print(5-6)\n",
    "\n",
    "print(5*6)\n",
    "\n",
    "print(5/2)\n",
    "\n",
    "print(5//2)    # Floor Division :- The division of operands where the result is the quotient in which the digits after the decimal point are removed.\n",
    "\n",
    "print(5%2)      # Modulus :- It returns the remainder.\n",
    "\n",
    "print(5**2)     # Exponent :- It returns the result of raising the first operand to the power of the second operand."
   ]
  },
  {
   "cell_type": "code",
   "execution_count": null,
   "metadata": {
    "colab": {
     "base_uri": "https://localhost:8080/"
    },
    "id": "TMIQKhFd7Y5A",
    "outputId": "573867e9-962a-45a6-a313-dcaa8b9a6406"
   },
   "outputs": [
    {
     "name": "stdout",
     "output_type": "stream",
     "text": [
      "False\n",
      "True\n",
      "True\n",
      "True\n",
      "True\n",
      "False\n"
     ]
    }
   ],
   "source": [
    "# Relational Operators\n",
    "print(4>5)\n",
    "\n",
    "print(4<5)\n",
    "\n",
    "print(4>=4)\n",
    "\n",
    "print(4<=4)\n",
    "\n",
    "print(4==4)\n",
    "\n",
    "print(4!=4)"
   ]
  },
  {
   "cell_type": "code",
   "execution_count": null,
   "metadata": {
    "colab": {
     "base_uri": "https://localhost:8080/"
    },
    "id": "vyxdjDbc7avq",
    "outputId": "4c6a1710-fea3-466c-f6b2-f98de20a2a0b"
   },
   "outputs": [
    {
     "name": "stdout",
     "output_type": "stream",
     "text": [
      "0\n",
      "1\n",
      "False\n"
     ]
    }
   ],
   "source": [
    "# Logical Operators\n",
    "print(1 and 0) # It returns True if both the operands are True.\n",
    "\n",
    "print(1 or 0)  # It returns True if any of the operands is True.\n",
    "\n",
    "print(not 1)   # It returns False if the operand is True and True if the operand is False."
   ]
  },
  {
   "cell_type": "code",
   "execution_count": null,
   "metadata": {
    "colab": {
     "base_uri": "https://localhost:8080/"
    },
    "id": "H4KzpSke7d9l",
    "outputId": "5832a648-6430-425c-8fa7-8dbad5d8d4b3"
   },
   "outputs": [
    {
     "name": "stdout",
     "output_type": "stream",
     "text": [
      "2\n",
      "3\n",
      "1\n",
      "-4\n",
      "1\n",
      "20\n"
     ]
    }
   ],
   "source": [
    "# Bitwise Operators:- Bitwise operators are fundamental tools in programming that operate directly on binary numbers at the bit level\n",
    "\n",
    "# bitwise and\n",
    "print(2 & 3)\n",
    "\n",
    "# bitwise or\n",
    "print(2 | 3)\n",
    "\n",
    "# bitwise xor\n",
    "print(2 ^ 3)\n",
    "\n",
    "print(~3)\n",
    "\n",
    "print(4 >> 2)\n",
    "\n",
    "print(5 << 2)"
   ]
  },
  {
   "cell_type": "code",
   "execution_count": 1,
   "metadata": {
    "colab": {
     "base_uri": "https://localhost:8080/"
    },
    "id": "8EEm8eHO7gD_",
    "outputId": "a421f118-2ee3-42da-91ff-3cd06de41755"
   },
   "outputs": [
    {
     "name": "stdout",
     "output_type": "stream",
     "text": [
      "0\n"
     ]
    }
   ],
   "source": [
    "# Assignment Operators\n",
    "\n",
    "# =\n",
    "# a = 2\n",
    "\n",
    "a = 2\n",
    "\n",
    "# a = a % 2\n",
    "a %= 2\n",
    "\n",
    "# a++ ++a\n",
    "\n",
    "print(a)"
   ]
  },
  {
   "cell_type": "code",
   "execution_count": null,
   "metadata": {
    "colab": {
     "base_uri": "https://localhost:8080/"
    },
    "id": "LzrIz7I87h-W",
    "outputId": "d362a8a0-bbae-406f-bd33-fc6fe789e889"
   },
   "outputs": [
    {
     "name": "stdout",
     "output_type": "stream",
     "text": [
      "False\n",
      "False\n"
     ]
    }
   ],
   "source": [
    "# Membership Operators:- Membership operators are used to test if a sequence is presented in an object.\n",
    "\n",
    "# in/not in\n",
    "\n",
    "print('D' not in 'Delhi')\n",
    "\n",
    "print(1 in [2,3,4,5,6])"
   ]
  },
  {
   "cell_type": "code",
   "execution_count": null,
   "metadata": {
    "colab": {
     "base_uri": "https://localhost:8080/"
    },
    "id": "C-LoVrYGDEuB",
    "outputId": "5842d198-7b4f-4785-cec7-5735603ab873"
   },
   "outputs": [
    {
     "name": "stdout",
     "output_type": "stream",
     "text": [
      "Enter a 3 digit number666\n",
      "18\n"
     ]
    }
   ],
   "source": [
    "# Program - Find the sum of a 3 digit number entered by the user\n",
    "\n",
    "number = int(input('Enter a 3 digit number'))\n",
    "\n",
    "# 345%10 -> 5\n",
    "a = number%10\n",
    "\n",
    "number = number//10\n",
    "\n",
    "# 34%10 -> 4\n",
    "b = number % 10\n",
    "\n",
    "number = number//10\n",
    "# 3 % 10 -> 3\n",
    "c = number % 10\n",
    "\n",
    "print(a + b + c)"
   ]
  },
  {
   "cell_type": "markdown",
   "metadata": {
    "id": "Iq7CzVFs7mWT"
   },
   "source": [
    "## If-else in Python"
   ]
  },
  {
   "cell_type": "code",
   "execution_count": null,
   "metadata": {
    "colab": {
     "base_uri": "https://localhost:8080/"
    },
    "id": "dGz-83pN7oxe",
    "outputId": "01cd71cf-6af3-464a-dcc1-8c21be5e092c"
   },
   "outputs": [
    {
     "name": "stdout",
     "output_type": "stream",
     "text": [
      "enter emailsrhreh\n",
      "enter passworderhetjh\n",
      "Not correct\n"
     ]
    }
   ],
   "source": [
    "# login program and indentation\n",
    "# email -> nitish.campusx@gmail.com\n",
    "# password -> 1234\n",
    "\n",
    "email = input('enter email')\n",
    "password = input('enter password')\n",
    "\n",
    "if email == 'nitish.campusx@gmail.com' and password == '1234':\n",
    "  print('Welcome')\n",
    "elif email == 'nitish.campusx@gmail.com' and password != '1234':\n",
    "  # tell the user\n",
    "  print('Incorrect password')\n",
    "  password = input('enter password again')\n",
    "  if password == '1234':\n",
    "    print('Welcome,finally!')\n",
    "  else:\n",
    "    print('beta tumse na ho paayega!')\n",
    "else:\n",
    "  print('Not correct')"
   ]
  },
  {
   "cell_type": "code",
   "execution_count": null,
   "metadata": {
    "id": "qo_1tY2ABlAX"
   },
   "outputs": [],
   "source": [
    "# if-else examples\n",
    "# 1. Find the min of 3 given numbers\n",
    "# 2. Menu Driven Program"
   ]
  },
  {
   "cell_type": "code",
   "execution_count": null,
   "metadata": {
    "colab": {
     "base_uri": "https://localhost:8080/"
    },
    "id": "gQpTJbMH3W6_",
    "outputId": "3a2ff0d1-a8d2-4b41-eb50-49612c57b612"
   },
   "outputs": [
    {
     "name": "stdout",
     "output_type": "stream",
     "text": [
      "first num4\n",
      "second num1\n",
      "third num10\n",
      "smallest is 1\n"
     ]
    }
   ],
   "source": [
    "# min of 3 number\n",
    "\n",
    "a = int(input('first num'))\n",
    "b = int(input('second num'))\n",
    "c = int(input('third num'))\n",
    "\n",
    "if a<b and a<c:\n",
    "  print('smallest is',a)\n",
    "elif b<c:\n",
    "  print('smallest is',b)\n",
    "else:\n",
    "  print('smallest is',c)"
   ]
  },
  {
   "cell_type": "code",
   "execution_count": null,
   "metadata": {
    "colab": {
     "base_uri": "https://localhost:8080/"
    },
    "id": "hgNqlC5C4jqF",
    "outputId": "d9a4e001-985d-46fe-fdf4-2767dde7d340"
   },
   "outputs": [
    {
     "name": "stdout",
     "output_type": "stream",
     "text": [
      "\n",
      "Hi! how can I help you.\n",
      "1. Enter 1 for pin change\n",
      "2. Enter 2 for balance check\n",
      "3. Enter 3 for withdrawl\n",
      "4. Enter 4 for exit\n",
      "2\n",
      "balance\n"
     ]
    }
   ],
   "source": [
    "# menu driven calculator\n",
    "menu = input(\"\"\"\n",
    "Hi! how can I help you.\n",
    "1. Enter 1 for pin change\n",
    "2. Enter 2 for balance check\n",
    "3. Enter 3 for withdrawl\n",
    "4. Enter 4 for exit\n",
    "\"\"\")\n",
    "\n",
    "if menu == '1':\n",
    "  print('pin change')\n",
    "elif menu == '2':\n",
    "  print('balance')\n",
    "else:\n",
    "  print('exit')"
   ]
  },
  {
   "cell_type": "markdown",
   "metadata": {
    "id": "532_6mva8A6C"
   },
   "source": [
    "## Modules in Python\n",
    "\n",
    "- math\n",
    "- keywords\n",
    "- random\n",
    "- datetime"
   ]
  },
  {
   "cell_type": "code",
   "execution_count": 3,
   "metadata": {
    "colab": {
     "base_uri": "https://localhost:8080/"
    },
    "id": "x5VXt7wv8G4o",
    "outputId": "0f191ca5-e4c3-4c79-ecf2-dcbd23cbd770"
   },
   "outputs": [
    {
     "name": "stdout",
     "output_type": "stream",
     "text": [
      "Help on built-in module math:\n",
      "\n",
      "NAME\n",
      "    math\n",
      "\n",
      "DESCRIPTION\n",
      "    This module provides access to the mathematical functions\n",
      "    defined by the C standard.\n",
      "\n",
      "FUNCTIONS\n",
      "    acos(x, /)\n",
      "        Return the arc cosine (measured in radians) of x.\n",
      "\n",
      "        The result is between 0 and pi.\n",
      "\n",
      "    acosh(x, /)\n",
      "        Return the inverse hyperbolic cosine of x.\n",
      "\n",
      "    asin(x, /)\n",
      "        Return the arc sine (measured in radians) of x.\n",
      "\n",
      "        The result is between -pi/2 and pi/2.\n",
      "\n",
      "    asinh(x, /)\n",
      "        Return the inverse hyperbolic sine of x.\n",
      "\n",
      "    atan(x, /)\n",
      "        Return the arc tangent (measured in radians) of x.\n",
      "\n",
      "        The result is between -pi/2 and pi/2.\n",
      "\n",
      "    atan2(y, x, /)\n",
      "        Return the arc tangent (measured in radians) of y/x.\n",
      "\n",
      "        Unlike atan(y/x), the signs of both x and y are considered.\n",
      "\n",
      "    atanh(x, /)\n",
      "        Return the inverse hyperbolic tangent of x.\n",
      "\n",
      "    cbrt(x, /)\n",
      "        Return the cube root of x.\n",
      "\n",
      "    ceil(x, /)\n",
      "        Return the ceiling of x as an Integral.\n",
      "\n",
      "        This is the smallest integer >= x.\n",
      "\n",
      "    comb(n, k, /)\n",
      "        Number of ways to choose k items from n items without repetition and without order.\n",
      "\n",
      "        Evaluates to n! / (k! * (n - k)!) when k <= n and evaluates\n",
      "        to zero when k > n.\n",
      "\n",
      "        Also called the binomial coefficient because it is equivalent\n",
      "        to the coefficient of k-th term in polynomial expansion of the\n",
      "        expression (1 + x)**n.\n",
      "\n",
      "        Raises TypeError if either of the arguments are not integers.\n",
      "        Raises ValueError if either of the arguments are negative.\n",
      "\n",
      "    copysign(x, y, /)\n",
      "        Return a float with the magnitude (absolute value) of x but the sign of y.\n",
      "\n",
      "        On platforms that support signed zeros, copysign(1.0, -0.0)\n",
      "        returns -1.0.\n",
      "\n",
      "    cos(x, /)\n",
      "        Return the cosine of x (measured in radians).\n",
      "\n",
      "    cosh(x, /)\n",
      "        Return the hyperbolic cosine of x.\n",
      "\n",
      "    degrees(x, /)\n",
      "        Convert angle x from radians to degrees.\n",
      "\n",
      "    dist(p, q, /)\n",
      "        Return the Euclidean distance between two points p and q.\n",
      "\n",
      "        The points should be specified as sequences (or iterables) of\n",
      "        coordinates.  Both inputs must have the same dimension.\n",
      "\n",
      "        Roughly equivalent to:\n",
      "            sqrt(sum((px - qx) ** 2.0 for px, qx in zip(p, q)))\n",
      "\n",
      "    erf(x, /)\n",
      "        Error function at x.\n",
      "\n",
      "    erfc(x, /)\n",
      "        Complementary error function at x.\n",
      "\n",
      "    exp(x, /)\n",
      "        Return e raised to the power of x.\n",
      "\n",
      "    exp2(x, /)\n",
      "        Return 2 raised to the power of x.\n",
      "\n",
      "    expm1(x, /)\n",
      "        Return exp(x)-1.\n",
      "\n",
      "        This function avoids the loss of precision involved in the direct evaluation of exp(x)-1 for small x.\n",
      "\n",
      "    fabs(x, /)\n",
      "        Return the absolute value of the float x.\n",
      "\n",
      "    factorial(n, /)\n",
      "        Find n!.\n",
      "\n",
      "        Raise a ValueError if x is negative or non-integral.\n",
      "\n",
      "    floor(x, /)\n",
      "        Return the floor of x as an Integral.\n",
      "\n",
      "        This is the largest integer <= x.\n",
      "\n",
      "    fmod(x, y, /)\n",
      "        Return fmod(x, y), according to platform C.\n",
      "\n",
      "        x % y may differ.\n",
      "\n",
      "    frexp(x, /)\n",
      "        Return the mantissa and exponent of x, as pair (m, e).\n",
      "\n",
      "        m is a float and e is an int, such that x = m * 2.**e.\n",
      "        If x is 0, m and e are both 0.  Else 0.5 <= abs(m) < 1.0.\n",
      "\n",
      "    fsum(seq, /)\n",
      "        Return an accurate floating-point sum of values in the iterable seq.\n",
      "\n",
      "        Assumes IEEE-754 floating-point arithmetic.\n",
      "\n",
      "    gamma(x, /)\n",
      "        Gamma function at x.\n",
      "\n",
      "    gcd(*integers)\n",
      "        Greatest Common Divisor.\n",
      "\n",
      "    hypot(...)\n",
      "        hypot(*coordinates) -> value\n",
      "\n",
      "        Multidimensional Euclidean distance from the origin to a point.\n",
      "\n",
      "        Roughly equivalent to:\n",
      "            sqrt(sum(x**2 for x in coordinates))\n",
      "\n",
      "        For a two dimensional point (x, y), gives the hypotenuse\n",
      "        using the Pythagorean theorem:  sqrt(x*x + y*y).\n",
      "\n",
      "        For example, the hypotenuse of a 3/4/5 right triangle is:\n",
      "\n",
      "            >>> hypot(3.0, 4.0)\n",
      "            5.0\n",
      "\n",
      "    isclose(a, b, *, rel_tol=1e-09, abs_tol=0.0)\n",
      "        Determine whether two floating-point numbers are close in value.\n",
      "\n",
      "          rel_tol\n",
      "            maximum difference for being considered \"close\", relative to the\n",
      "            magnitude of the input values\n",
      "          abs_tol\n",
      "            maximum difference for being considered \"close\", regardless of the\n",
      "            magnitude of the input values\n",
      "\n",
      "        Return True if a is close in value to b, and False otherwise.\n",
      "\n",
      "        For the values to be considered close, the difference between them\n",
      "        must be smaller than at least one of the tolerances.\n",
      "\n",
      "        -inf, inf and NaN behave similarly to the IEEE 754 Standard.  That\n",
      "        is, NaN is not close to anything, even itself.  inf and -inf are\n",
      "        only close to themselves.\n",
      "\n",
      "    isfinite(x, /)\n",
      "        Return True if x is neither an infinity nor a NaN, and False otherwise.\n",
      "\n",
      "    isinf(x, /)\n",
      "        Return True if x is a positive or negative infinity, and False otherwise.\n",
      "\n",
      "    isnan(x, /)\n",
      "        Return True if x is a NaN (not a number), and False otherwise.\n",
      "\n",
      "    isqrt(n, /)\n",
      "        Return the integer part of the square root of the input.\n",
      "\n",
      "    lcm(*integers)\n",
      "        Least Common Multiple.\n",
      "\n",
      "    ldexp(x, i, /)\n",
      "        Return x * (2**i).\n",
      "\n",
      "        This is essentially the inverse of frexp().\n",
      "\n",
      "    lgamma(x, /)\n",
      "        Natural logarithm of absolute value of Gamma function at x.\n",
      "\n",
      "    log(...)\n",
      "        log(x, [base=math.e])\n",
      "        Return the logarithm of x to the given base.\n",
      "\n",
      "        If the base is not specified, returns the natural logarithm (base e) of x.\n",
      "\n",
      "    log10(x, /)\n",
      "        Return the base 10 logarithm of x.\n",
      "\n",
      "    log1p(x, /)\n",
      "        Return the natural logarithm of 1+x (base e).\n",
      "\n",
      "        The result is computed in a way which is accurate for x near zero.\n",
      "\n",
      "    log2(x, /)\n",
      "        Return the base 2 logarithm of x.\n",
      "\n",
      "    modf(x, /)\n",
      "        Return the fractional and integer parts of x.\n",
      "\n",
      "        Both results carry the sign of x and are floats.\n",
      "\n",
      "    nextafter(x, y, /, *, steps=None)\n",
      "        Return the floating-point value the given number of steps after x towards y.\n",
      "\n",
      "        If steps is not specified or is None, it defaults to 1.\n",
      "\n",
      "        Raises a TypeError, if x or y is not a double, or if steps is not an integer.\n",
      "        Raises ValueError if steps is negative.\n",
      "\n",
      "    perm(n, k=None, /)\n",
      "        Number of ways to choose k items from n items without repetition and with order.\n",
      "\n",
      "        Evaluates to n! / (n - k)! when k <= n and evaluates\n",
      "        to zero when k > n.\n",
      "\n",
      "        If k is not specified or is None, then k defaults to n\n",
      "        and the function returns n!.\n",
      "\n",
      "        Raises TypeError if either of the arguments are not integers.\n",
      "        Raises ValueError if either of the arguments are negative.\n",
      "\n",
      "    pow(x, y, /)\n",
      "        Return x**y (x to the power of y).\n",
      "\n",
      "    prod(iterable, /, *, start=1)\n",
      "        Calculate the product of all the elements in the input iterable.\n",
      "\n",
      "        The default start value for the product is 1.\n",
      "\n",
      "        When the iterable is empty, return the start value.  This function is\n",
      "        intended specifically for use with numeric values and may reject\n",
      "        non-numeric types.\n",
      "\n",
      "    radians(x, /)\n",
      "        Convert angle x from degrees to radians.\n",
      "\n",
      "    remainder(x, y, /)\n",
      "        Difference between x and the closest integer multiple of y.\n",
      "\n",
      "        Return x - n*y where n*y is the closest integer multiple of y.\n",
      "        In the case where x is exactly halfway between two multiples of\n",
      "        y, the nearest even value of n is used. The result is always exact.\n",
      "\n",
      "    sin(x, /)\n",
      "        Return the sine of x (measured in radians).\n",
      "\n",
      "    sinh(x, /)\n",
      "        Return the hyperbolic sine of x.\n",
      "\n",
      "    sqrt(x, /)\n",
      "        Return the square root of x.\n",
      "\n",
      "    sumprod(p, q, /)\n",
      "        Return the sum of products of values from two iterables p and q.\n",
      "\n",
      "        Roughly equivalent to:\n",
      "\n",
      "            sum(itertools.starmap(operator.mul, zip(p, q, strict=True)))\n",
      "\n",
      "        For float and mixed int/float inputs, the intermediate products\n",
      "        and sums are computed with extended precision.\n",
      "\n",
      "    tan(x, /)\n",
      "        Return the tangent of x (measured in radians).\n",
      "\n",
      "    tanh(x, /)\n",
      "        Return the hyperbolic tangent of x.\n",
      "\n",
      "    trunc(x, /)\n",
      "        Truncates the Real x to the nearest Integral toward 0.\n",
      "\n",
      "        Uses the __trunc__ magic method.\n",
      "\n",
      "    ulp(x, /)\n",
      "        Return the value of the least significant bit of the float x.\n",
      "\n",
      "DATA\n",
      "    e = 2.718281828459045\n",
      "    inf = inf\n",
      "    nan = nan\n",
      "    pi = 3.141592653589793\n",
      "    tau = 6.283185307179586\n",
      "\n",
      "FILE\n",
      "    (built-in)\n",
      "\n",
      "\n"
     ]
    }
   ],
   "source": [
    "# math\n",
    "import math\n",
    "\n",
    "math.sqrt(196)\n",
    "help(math)"
   ]
  },
  {
   "cell_type": "code",
   "execution_count": null,
   "metadata": {
    "colab": {
     "base_uri": "https://localhost:8080/"
    },
    "id": "FLgAX9pz8HBT",
    "outputId": "63de6b39-b796-475b-9b7d-fa22f2019c90"
   },
   "outputs": [
    {
     "name": "stdout",
     "output_type": "stream",
     "text": [
      "['False', 'None', 'True', 'and', 'as', 'assert', 'async', 'await', 'break', 'class', 'continue', 'def', 'del', 'elif', 'else', 'except', 'finally', 'for', 'from', 'global', 'if', 'import', 'in', 'is', 'lambda', 'nonlocal', 'not', 'or', 'pass', 'raise', 'return', 'try', 'while', 'with', 'yield']\n"
     ]
    }
   ],
   "source": [
    "# keyword\n",
    "import keyword\n",
    "print(keyword.kwlist)"
   ]
  },
  {
   "cell_type": "code",
   "execution_count": null,
   "metadata": {
    "colab": {
     "base_uri": "https://localhost:8080/"
    },
    "id": "R0dWpe-w8HSZ",
    "outputId": "3aa87b74-0699-47d7-8316-73de80dbfeb1"
   },
   "outputs": [
    {
     "name": "stdout",
     "output_type": "stream",
     "text": [
      "57\n",
      "0.8946107232998728\n",
      "5.521808807315394\n",
      "1\n",
      "[2, 5, 8, 4, 1, 7, 3, 6, 9]\n",
      "[6, 2, 1]\n"
     ]
    }
   ],
   "source": [
    "# random\n",
    "import random\n",
    "print(random.randint(1,100))\n",
    "# random.random(): Generates a random floating-point number between 0.0 and 1.0.\n",
    "# random.randint(a, b): Generates a random integer between a and b (inclusive).\n",
    "# random.uniform(a, b): Generates a random floating-point number between a and b.\n",
    "# random.choice(seq): Returns a random element from the non-empty sequence seq.\n",
    "# random.shuffle(seq): Shuffles the sequence seq in place.\n",
    "# random.sample(seq, k): Returns a list of k unique elements chosen from the sequence seq.\n",
    "print(random.random())\n",
    "print(random.uniform(1,100))\n",
    "print(random.choice([1,2,3,4,5,6,7,8,9]))\n",
    "x = ([1,2,3,4,5,6,7,8,9])\n",
    "random.shuffle(x)\n",
    "print(x)\n",
    "print(random.sample([1,2,3,4,5,6,7,8,9],3))     # 3 unique elements"
   ]
  },
  {
   "cell_type": "code",
   "execution_count": 36,
   "metadata": {
    "colab": {
     "base_uri": "https://localhost:8080/"
    },
    "id": "XNHWXsM0iFn3",
    "outputId": "7d219248-ba98-4b2e-a382-57630acea35c"
   },
   "outputs": [
    {
     "name": "stdout",
     "output_type": "stream",
     "text": [
      "2025-02-08 09:32:22.058590\n",
      "2025\n",
      "2\n",
      "8\n",
      "UTC\n",
      "09:32:22.059594\n",
      "Help on module datetime:\n",
      "\n",
      "NAME\n",
      "    datetime - Fast implementation of the datetime type.\n",
      "\n",
      "MODULE REFERENCE\n",
      "    https://docs.python.org/3.12/library/datetime.html\n",
      "\n",
      "    The following documentation is automatically generated from the Python\n",
      "    source files.  It may be incomplete, incorrect or include features that\n",
      "    are considered implementation detail and may vary between Python\n",
      "    implementations.  When in doubt, consult the module reference at the\n",
      "    location listed above.\n",
      "\n",
      "CLASSES\n",
      "    builtins.object\n",
      "        date\n",
      "            datetime\n",
      "        time\n",
      "        timedelta\n",
      "        tzinfo\n",
      "            timezone\n",
      "\n",
      "    class date(builtins.object)\n",
      "     |  date(year, month, day) --> date object\n",
      "     |\n",
      "     |  Methods defined here:\n",
      "     |\n",
      "     |  __add__(self, value, /)\n",
      "     |      Return self+value.\n",
      "     |\n",
      "     |  __eq__(self, value, /)\n",
      "     |      Return self==value.\n",
      "     |\n",
      "     |  __format__(...)\n",
      "     |      Formats self with strftime.\n",
      "     |\n",
      "     |  __ge__(self, value, /)\n",
      "     |      Return self>=value.\n",
      "     |\n",
      "     |  __getattribute__(self, name, /)\n",
      "     |      Return getattr(self, name).\n",
      "     |\n",
      "     |  __gt__(self, value, /)\n",
      "     |      Return self>value.\n",
      "     |\n",
      "     |  __hash__(self, /)\n",
      "     |      Return hash(self).\n",
      "     |\n",
      "     |  __le__(self, value, /)\n",
      "     |      Return self<=value.\n",
      "     |\n",
      "     |  __lt__(self, value, /)\n",
      "     |      Return self<value.\n",
      "     |\n",
      "     |  __ne__(self, value, /)\n",
      "     |      Return self!=value.\n",
      "     |\n",
      "     |  __radd__(self, value, /)\n",
      "     |      Return value+self.\n",
      "     |\n",
      "     |  __reduce__(...)\n",
      "     |      __reduce__() -> (cls, state)\n",
      "     |\n",
      "     |  __repr__(self, /)\n",
      "     |      Return repr(self).\n",
      "     |\n",
      "     |  __rsub__(self, value, /)\n",
      "     |      Return value-self.\n",
      "     |\n",
      "     |  __str__(self, /)\n",
      "     |      Return str(self).\n",
      "     |\n",
      "     |  __sub__(self, value, /)\n",
      "     |      Return self-value.\n",
      "     |\n",
      "     |  ctime(...)\n",
      "     |      Return ctime() style string.\n",
      "     |\n",
      "     |  isocalendar(...)\n",
      "     |      Return a named tuple containing ISO year, week number, and weekday.\n",
      "     |\n",
      "     |  isoformat(...)\n",
      "     |      Return string in ISO 8601 format, YYYY-MM-DD.\n",
      "     |\n",
      "     |  isoweekday(...)\n",
      "     |      Return the day of the week represented by the date.\n",
      "     |      Monday == 1 ... Sunday == 7\n",
      "     |\n",
      "     |  replace(...)\n",
      "     |      Return date with new specified fields.\n",
      "     |\n",
      "     |  strftime(...)\n",
      "     |      format -> strftime() style string.\n",
      "     |\n",
      "     |  timetuple(...)\n",
      "     |      Return time tuple, compatible with time.localtime().\n",
      "     |\n",
      "     |  toordinal(...)\n",
      "     |      Return proleptic Gregorian ordinal.  January 1 of year 1 is day 1.\n",
      "     |\n",
      "     |  weekday(...)\n",
      "     |      Return the day of the week represented by the date.\n",
      "     |      Monday == 0 ... Sunday == 6\n",
      "     |\n",
      "     |  ----------------------------------------------------------------------\n",
      "     |  Class methods defined here:\n",
      "     |\n",
      "     |  fromisocalendar(...)\n",
      "     |      int, int, int -> Construct a date from the ISO year, week number and weekday.\n",
      "     |\n",
      "     |      This is the inverse of the date.isocalendar() function\n",
      "     |\n",
      "     |  fromisoformat(...)\n",
      "     |      str -> Construct a date from a string in ISO 8601 format.\n",
      "     |\n",
      "     |  fromordinal(...)\n",
      "     |      int -> date corresponding to a proleptic Gregorian ordinal.\n",
      "     |\n",
      "     |  fromtimestamp(timestamp, /)\n",
      "     |      Create a date from a POSIX timestamp.\n",
      "     |\n",
      "     |      The timestamp is a number, e.g. created via time.time(), that is interpreted\n",
      "     |      as local time.\n",
      "     |\n",
      "     |  today(...)\n",
      "     |      Current date or datetime:  same as self.__class__.fromtimestamp(time.time()).\n",
      "     |\n",
      "     |  ----------------------------------------------------------------------\n",
      "     |  Static methods defined here:\n",
      "     |\n",
      "     |  __new__(*args, **kwargs)\n",
      "     |      Create and return a new object.  See help(type) for accurate signature.\n",
      "     |\n",
      "     |  ----------------------------------------------------------------------\n",
      "     |  Data descriptors defined here:\n",
      "     |\n",
      "     |  day\n",
      "     |\n",
      "     |  month\n",
      "     |\n",
      "     |  year\n",
      "     |\n",
      "     |  ----------------------------------------------------------------------\n",
      "     |  Data and other attributes defined here:\n",
      "     |\n",
      "     |  max = datetime.date(9999, 12, 31)\n",
      "     |\n",
      "     |  min = datetime.date(1, 1, 1)\n",
      "     |\n",
      "     |  resolution = datetime.timedelta(days=1)\n",
      "\n",
      "    class datetime(date)\n",
      "     |  datetime(year, month, day[, hour[, minute[, second[, microsecond[,tzinfo]]]]])\n",
      "     |\n",
      "     |  The year, month and day arguments are required. tzinfo may be None, or an\n",
      "     |  instance of a tzinfo subclass. The remaining arguments may be ints.\n",
      "     |\n",
      "     |  Method resolution order:\n",
      "     |      datetime\n",
      "     |      date\n",
      "     |      builtins.object\n",
      "     |\n",
      "     |  Methods defined here:\n",
      "     |\n",
      "     |  __add__(self, value, /)\n",
      "     |      Return self+value.\n",
      "     |\n",
      "     |  __eq__(self, value, /)\n",
      "     |      Return self==value.\n",
      "     |\n",
      "     |  __ge__(self, value, /)\n",
      "     |      Return self>=value.\n",
      "     |\n",
      "     |  __getattribute__(self, name, /)\n",
      "     |      Return getattr(self, name).\n",
      "     |\n",
      "     |  __gt__(self, value, /)\n",
      "     |      Return self>value.\n",
      "     |\n",
      "     |  __hash__(self, /)\n",
      "     |      Return hash(self).\n",
      "     |\n",
      "     |  __le__(self, value, /)\n",
      "     |      Return self<=value.\n",
      "     |\n",
      "     |  __lt__(self, value, /)\n",
      "     |      Return self<value.\n",
      "     |\n",
      "     |  __ne__(self, value, /)\n",
      "     |      Return self!=value.\n",
      "     |\n",
      "     |  __radd__(self, value, /)\n",
      "     |      Return value+self.\n",
      "     |\n",
      "     |  __reduce__(...)\n",
      "     |      __reduce__() -> (cls, state)\n",
      "     |\n",
      "     |  __reduce_ex__(...)\n",
      "     |      __reduce_ex__(proto) -> (cls, state)\n",
      "     |\n",
      "     |  __repr__(self, /)\n",
      "     |      Return repr(self).\n",
      "     |\n",
      "     |  __rsub__(self, value, /)\n",
      "     |      Return value-self.\n",
      "     |\n",
      "     |  __str__(self, /)\n",
      "     |      Return str(self).\n",
      "     |\n",
      "     |  __sub__(self, value, /)\n",
      "     |      Return self-value.\n",
      "     |\n",
      "     |  astimezone(...)\n",
      "     |      tz -> convert to local time in new timezone tz\n",
      "     |\n",
      "     |  ctime(...)\n",
      "     |      Return ctime() style string.\n",
      "     |\n",
      "     |  date(...)\n",
      "     |      Return date object with same year, month and day.\n",
      "     |\n",
      "     |  dst(...)\n",
      "     |      Return self.tzinfo.dst(self).\n",
      "     |\n",
      "     |  isoformat(...)\n",
      "     |      [sep] -> string in ISO 8601 format, YYYY-MM-DDT[HH[:MM[:SS[.mmm[uuu]]]]][+HH:MM].\n",
      "     |      sep is used to separate the year from the time, and defaults to 'T'.\n",
      "     |      The optional argument timespec specifies the number of additional terms\n",
      "     |      of the time to include. Valid options are 'auto', 'hours', 'minutes',\n",
      "     |      'seconds', 'milliseconds' and 'microseconds'.\n",
      "     |\n",
      "     |  replace(...)\n",
      "     |      Return datetime with new specified fields.\n",
      "     |\n",
      "     |  time(...)\n",
      "     |      Return time object with same time but with tzinfo=None.\n",
      "     |\n",
      "     |  timestamp(...)\n",
      "     |      Return POSIX timestamp as float.\n",
      "     |\n",
      "     |  timetuple(...)\n",
      "     |      Return time tuple, compatible with time.localtime().\n",
      "     |\n",
      "     |  timetz(...)\n",
      "     |      Return time object with same time and tzinfo.\n",
      "     |\n",
      "     |  tzname(...)\n",
      "     |      Return self.tzinfo.tzname(self).\n",
      "     |\n",
      "     |  utcoffset(...)\n",
      "     |      Return self.tzinfo.utcoffset(self).\n",
      "     |\n",
      "     |  utctimetuple(...)\n",
      "     |      Return UTC time tuple, compatible with time.localtime().\n",
      "     |\n",
      "     |  ----------------------------------------------------------------------\n",
      "     |  Class methods defined here:\n",
      "     |\n",
      "     |  combine(...)\n",
      "     |      date, time -> datetime with same date and time fields\n",
      "     |\n",
      "     |  fromisoformat(...)\n",
      "     |      string -> datetime from a string in most ISO 8601 formats\n",
      "     |\n",
      "     |  fromtimestamp(...)\n",
      "     |      timestamp[, tz] -> tz's local time from POSIX timestamp.\n",
      "     |\n",
      "     |  now(tz=None)\n",
      "     |      Returns new datetime object representing current time local to tz.\n",
      "     |\n",
      "     |        tz\n",
      "     |          Timezone object.\n",
      "     |\n",
      "     |      If no tz is specified, uses local timezone.\n",
      "     |\n",
      "     |  strptime(...)\n",
      "     |      string, format -> new datetime parsed from a string (like time.strptime()).\n",
      "     |\n",
      "     |  utcfromtimestamp(...)\n",
      "     |      Construct a naive UTC datetime from a POSIX timestamp.\n",
      "     |\n",
      "     |  utcnow(...)\n",
      "     |      Return a new datetime representing UTC day and time.\n",
      "     |\n",
      "     |  ----------------------------------------------------------------------\n",
      "     |  Static methods defined here:\n",
      "     |\n",
      "     |  __new__(*args, **kwargs)\n",
      "     |      Create and return a new object.  See help(type) for accurate signature.\n",
      "     |\n",
      "     |  ----------------------------------------------------------------------\n",
      "     |  Data descriptors defined here:\n",
      "     |\n",
      "     |  fold\n",
      "     |\n",
      "     |  hour\n",
      "     |\n",
      "     |  microsecond\n",
      "     |\n",
      "     |  minute\n",
      "     |\n",
      "     |  second\n",
      "     |\n",
      "     |  tzinfo\n",
      "     |\n",
      "     |  ----------------------------------------------------------------------\n",
      "     |  Data and other attributes defined here:\n",
      "     |\n",
      "     |  max = datetime.datetime(9999, 12, 31, 23, 59, 59, 999999)\n",
      "     |\n",
      "     |  min = datetime.datetime(1, 1, 1, 0, 0)\n",
      "     |\n",
      "     |  resolution = datetime.timedelta(microseconds=1)\n",
      "     |\n",
      "     |  ----------------------------------------------------------------------\n",
      "     |  Methods inherited from date:\n",
      "     |\n",
      "     |  __format__(...)\n",
      "     |      Formats self with strftime.\n",
      "     |\n",
      "     |  isocalendar(...)\n",
      "     |      Return a named tuple containing ISO year, week number, and weekday.\n",
      "     |\n",
      "     |  isoweekday(...)\n",
      "     |      Return the day of the week represented by the date.\n",
      "     |      Monday == 1 ... Sunday == 7\n",
      "     |\n",
      "     |  strftime(...)\n",
      "     |      format -> strftime() style string.\n",
      "     |\n",
      "     |  toordinal(...)\n",
      "     |      Return proleptic Gregorian ordinal.  January 1 of year 1 is day 1.\n",
      "     |\n",
      "     |  weekday(...)\n",
      "     |      Return the day of the week represented by the date.\n",
      "     |      Monday == 0 ... Sunday == 6\n",
      "     |\n",
      "     |  ----------------------------------------------------------------------\n",
      "     |  Class methods inherited from date:\n",
      "     |\n",
      "     |  fromisocalendar(...)\n",
      "     |      int, int, int -> Construct a date from the ISO year, week number and weekday.\n",
      "     |\n",
      "     |      This is the inverse of the date.isocalendar() function\n",
      "     |\n",
      "     |  fromordinal(...)\n",
      "     |      int -> date corresponding to a proleptic Gregorian ordinal.\n",
      "     |\n",
      "     |  today(...)\n",
      "     |      Current date or datetime:  same as self.__class__.fromtimestamp(time.time()).\n",
      "     |\n",
      "     |  ----------------------------------------------------------------------\n",
      "     |  Data descriptors inherited from date:\n",
      "     |\n",
      "     |  day\n",
      "     |\n",
      "     |  month\n",
      "     |\n",
      "     |  year\n",
      "\n",
      "    class time(builtins.object)\n",
      "     |  time([hour[, minute[, second[, microsecond[, tzinfo]]]]]) --> a time object\n",
      "     |\n",
      "     |  All arguments are optional. tzinfo may be None, or an instance of\n",
      "     |  a tzinfo subclass. The remaining arguments may be ints.\n",
      "     |\n",
      "     |  Methods defined here:\n",
      "     |\n",
      "     |  __eq__(self, value, /)\n",
      "     |      Return self==value.\n",
      "     |\n",
      "     |  __format__(...)\n",
      "     |      Formats self with strftime.\n",
      "     |\n",
      "     |  __ge__(self, value, /)\n",
      "     |      Return self>=value.\n",
      "     |\n",
      "     |  __getattribute__(self, name, /)\n",
      "     |      Return getattr(self, name).\n",
      "     |\n",
      "     |  __gt__(self, value, /)\n",
      "     |      Return self>value.\n",
      "     |\n",
      "     |  __hash__(self, /)\n",
      "     |      Return hash(self).\n",
      "     |\n",
      "     |  __le__(self, value, /)\n",
      "     |      Return self<=value.\n",
      "     |\n",
      "     |  __lt__(self, value, /)\n",
      "     |      Return self<value.\n",
      "     |\n",
      "     |  __ne__(self, value, /)\n",
      "     |      Return self!=value.\n",
      "     |\n",
      "     |  __reduce__(...)\n",
      "     |      __reduce__() -> (cls, state)\n",
      "     |\n",
      "     |  __reduce_ex__(...)\n",
      "     |      __reduce_ex__(proto) -> (cls, state)\n",
      "     |\n",
      "     |  __repr__(self, /)\n",
      "     |      Return repr(self).\n",
      "     |\n",
      "     |  __str__(self, /)\n",
      "     |      Return str(self).\n",
      "     |\n",
      "     |  dst(...)\n",
      "     |      Return self.tzinfo.dst(self).\n",
      "     |\n",
      "     |  isoformat(...)\n",
      "     |      Return string in ISO 8601 format, [HH[:MM[:SS[.mmm[uuu]]]]][+HH:MM].\n",
      "     |\n",
      "     |      The optional argument timespec specifies the number of additional terms\n",
      "     |      of the time to include. Valid options are 'auto', 'hours', 'minutes',\n",
      "     |      'seconds', 'milliseconds' and 'microseconds'.\n",
      "     |\n",
      "     |  replace(...)\n",
      "     |      Return time with new specified fields.\n",
      "     |\n",
      "     |  strftime(...)\n",
      "     |      format -> strftime() style string.\n",
      "     |\n",
      "     |  tzname(...)\n",
      "     |      Return self.tzinfo.tzname(self).\n",
      "     |\n",
      "     |  utcoffset(...)\n",
      "     |      Return self.tzinfo.utcoffset(self).\n",
      "     |\n",
      "     |  ----------------------------------------------------------------------\n",
      "     |  Class methods defined here:\n",
      "     |\n",
      "     |  fromisoformat(...)\n",
      "     |      string -> time from a string in ISO 8601 format\n",
      "     |\n",
      "     |  ----------------------------------------------------------------------\n",
      "     |  Static methods defined here:\n",
      "     |\n",
      "     |  __new__(*args, **kwargs)\n",
      "     |      Create and return a new object.  See help(type) for accurate signature.\n",
      "     |\n",
      "     |  ----------------------------------------------------------------------\n",
      "     |  Data descriptors defined here:\n",
      "     |\n",
      "     |  fold\n",
      "     |\n",
      "     |  hour\n",
      "     |\n",
      "     |  microsecond\n",
      "     |\n",
      "     |  minute\n",
      "     |\n",
      "     |  second\n",
      "     |\n",
      "     |  tzinfo\n",
      "     |\n",
      "     |  ----------------------------------------------------------------------\n",
      "     |  Data and other attributes defined here:\n",
      "     |\n",
      "     |  max = datetime.time(23, 59, 59, 999999)\n",
      "     |\n",
      "     |  min = datetime.time(0, 0)\n",
      "     |\n",
      "     |  resolution = datetime.timedelta(microseconds=1)\n",
      "\n",
      "    class timedelta(builtins.object)\n",
      "     |  Difference between two datetime values.\n",
      "     |\n",
      "     |  timedelta(days=0, seconds=0, microseconds=0, milliseconds=0, minutes=0, hours=0, weeks=0)\n",
      "     |\n",
      "     |  All arguments are optional and default to 0.\n",
      "     |  Arguments may be integers or floats, and may be positive or negative.\n",
      "     |\n",
      "     |  Methods defined here:\n",
      "     |\n",
      "     |  __abs__(self, /)\n",
      "     |      abs(self)\n",
      "     |\n",
      "     |  __add__(self, value, /)\n",
      "     |      Return self+value.\n",
      "     |\n",
      "     |  __bool__(self, /)\n",
      "     |      True if self else False\n",
      "     |\n",
      "     |  __divmod__(self, value, /)\n",
      "     |      Return divmod(self, value).\n",
      "     |\n",
      "     |  __eq__(self, value, /)\n",
      "     |      Return self==value.\n",
      "     |\n",
      "     |  __floordiv__(self, value, /)\n",
      "     |      Return self//value.\n",
      "     |\n",
      "     |  __ge__(self, value, /)\n",
      "     |      Return self>=value.\n",
      "     |\n",
      "     |  __getattribute__(self, name, /)\n",
      "     |      Return getattr(self, name).\n",
      "     |\n",
      "     |  __gt__(self, value, /)\n",
      "     |      Return self>value.\n",
      "     |\n",
      "     |  __hash__(self, /)\n",
      "     |      Return hash(self).\n",
      "     |\n",
      "     |  __le__(self, value, /)\n",
      "     |      Return self<=value.\n",
      "     |\n",
      "     |  __lt__(self, value, /)\n",
      "     |      Return self<value.\n",
      "     |\n",
      "     |  __mod__(self, value, /)\n",
      "     |      Return self%value.\n",
      "     |\n",
      "     |  __mul__(self, value, /)\n",
      "     |      Return self*value.\n",
      "     |\n",
      "     |  __ne__(self, value, /)\n",
      "     |      Return self!=value.\n",
      "     |\n",
      "     |  __neg__(self, /)\n",
      "     |      -self\n",
      "     |\n",
      "     |  __pos__(self, /)\n",
      "     |      +self\n",
      "     |\n",
      "     |  __radd__(self, value, /)\n",
      "     |      Return value+self.\n",
      "     |\n",
      "     |  __rdivmod__(self, value, /)\n",
      "     |      Return divmod(value, self).\n",
      "     |\n",
      "     |  __reduce__(...)\n",
      "     |      __reduce__() -> (cls, state)\n",
      "     |\n",
      "     |  __repr__(self, /)\n",
      "     |      Return repr(self).\n",
      "     |\n",
      "     |  __rfloordiv__(self, value, /)\n",
      "     |      Return value//self.\n",
      "     |\n",
      "     |  __rmod__(self, value, /)\n",
      "     |      Return value%self.\n",
      "     |\n",
      "     |  __rmul__(self, value, /)\n",
      "     |      Return value*self.\n",
      "     |\n",
      "     |  __rsub__(self, value, /)\n",
      "     |      Return value-self.\n",
      "     |\n",
      "     |  __rtruediv__(self, value, /)\n",
      "     |      Return value/self.\n",
      "     |\n",
      "     |  __str__(self, /)\n",
      "     |      Return str(self).\n",
      "     |\n",
      "     |  __sub__(self, value, /)\n",
      "     |      Return self-value.\n",
      "     |\n",
      "     |  __truediv__(self, value, /)\n",
      "     |      Return self/value.\n",
      "     |\n",
      "     |  total_seconds(...)\n",
      "     |      Total seconds in the duration.\n",
      "     |\n",
      "     |  ----------------------------------------------------------------------\n",
      "     |  Static methods defined here:\n",
      "     |\n",
      "     |  __new__(*args, **kwargs)\n",
      "     |      Create and return a new object.  See help(type) for accurate signature.\n",
      "     |\n",
      "     |  ----------------------------------------------------------------------\n",
      "     |  Data descriptors defined here:\n",
      "     |\n",
      "     |  days\n",
      "     |      Number of days.\n",
      "     |\n",
      "     |  microseconds\n",
      "     |      Number of microseconds (>= 0 and less than 1 second).\n",
      "     |\n",
      "     |  seconds\n",
      "     |      Number of seconds (>= 0 and less than 1 day).\n",
      "     |\n",
      "     |  ----------------------------------------------------------------------\n",
      "     |  Data and other attributes defined here:\n",
      "     |\n",
      "     |  max = datetime.timedelta(days=999999999, seconds=86399, microseconds=9...\n",
      "     |\n",
      "     |  min = datetime.timedelta(days=-999999999)\n",
      "     |\n",
      "     |  resolution = datetime.timedelta(microseconds=1)\n",
      "\n",
      "    class timezone(tzinfo)\n",
      "     |  Fixed offset from UTC implementation of tzinfo.\n",
      "     |\n",
      "     |  Method resolution order:\n",
      "     |      timezone\n",
      "     |      tzinfo\n",
      "     |      builtins.object\n",
      "     |\n",
      "     |  Methods defined here:\n",
      "     |\n",
      "     |  __eq__(self, value, /)\n",
      "     |      Return self==value.\n",
      "     |\n",
      "     |  __ge__(self, value, /)\n",
      "     |      Return self>=value.\n",
      "     |\n",
      "     |  __getinitargs__(...)\n",
      "     |      pickle support\n",
      "     |\n",
      "     |  __gt__(self, value, /)\n",
      "     |      Return self>value.\n",
      "     |\n",
      "     |  __hash__(self, /)\n",
      "     |      Return hash(self).\n",
      "     |\n",
      "     |  __le__(self, value, /)\n",
      "     |      Return self<=value.\n",
      "     |\n",
      "     |  __lt__(self, value, /)\n",
      "     |      Return self<value.\n",
      "     |\n",
      "     |  __ne__(self, value, /)\n",
      "     |      Return self!=value.\n",
      "     |\n",
      "     |  __repr__(self, /)\n",
      "     |      Return repr(self).\n",
      "     |\n",
      "     |  __str__(self, /)\n",
      "     |      Return str(self).\n",
      "     |\n",
      "     |  dst(...)\n",
      "     |      Return None.\n",
      "     |\n",
      "     |  fromutc(...)\n",
      "     |      datetime in UTC -> datetime in local time.\n",
      "     |\n",
      "     |  tzname(...)\n",
      "     |      If name is specified when timezone is created, returns the name.  Otherwise returns offset as 'UTC(+|-)HH:MM'.\n",
      "     |\n",
      "     |  utcoffset(...)\n",
      "     |      Return fixed offset.\n",
      "     |\n",
      "     |  ----------------------------------------------------------------------\n",
      "     |  Static methods defined here:\n",
      "     |\n",
      "     |  __new__(*args, **kwargs)\n",
      "     |      Create and return a new object.  See help(type) for accurate signature.\n",
      "     |\n",
      "     |  ----------------------------------------------------------------------\n",
      "     |  Data and other attributes defined here:\n",
      "     |\n",
      "     |  max = datetime.timezone(datetime.timedelta(seconds=86340))\n",
      "     |\n",
      "     |  min = datetime.timezone(datetime.timedelta(days=-1, seconds=60))\n",
      "     |\n",
      "     |  utc = datetime.timezone.utc\n",
      "     |\n",
      "     |  ----------------------------------------------------------------------\n",
      "     |  Methods inherited from tzinfo:\n",
      "     |\n",
      "     |  __getattribute__(self, name, /)\n",
      "     |      Return getattr(self, name).\n",
      "     |\n",
      "     |  __reduce__(...)\n",
      "     |      -> (cls, state)\n",
      "\n",
      "    class tzinfo(builtins.object)\n",
      "     |  Abstract base class for time zone info objects.\n",
      "     |\n",
      "     |  Methods defined here:\n",
      "     |\n",
      "     |  __getattribute__(self, name, /)\n",
      "     |      Return getattr(self, name).\n",
      "     |\n",
      "     |  __reduce__(...)\n",
      "     |      -> (cls, state)\n",
      "     |\n",
      "     |  dst(...)\n",
      "     |      datetime -> DST offset as timedelta positive east of UTC.\n",
      "     |\n",
      "     |  fromutc(...)\n",
      "     |      datetime in UTC -> datetime in local time.\n",
      "     |\n",
      "     |  tzname(...)\n",
      "     |      datetime -> string name of time zone.\n",
      "     |\n",
      "     |  utcoffset(...)\n",
      "     |      datetime -> timedelta showing offset from UTC, negative values indicating West of UTC\n",
      "     |\n",
      "     |  ----------------------------------------------------------------------\n",
      "     |  Static methods defined here:\n",
      "     |\n",
      "     |  __new__(*args, **kwargs)\n",
      "     |      Create and return a new object.  See help(type) for accurate signature.\n",
      "\n",
      "DATA\n",
      "    MAXYEAR = 9999\n",
      "    MINYEAR = 1\n",
      "    UTC = datetime.timezone.utc\n",
      "    __all__ = ('date', 'datetime', 'time', 'timedelta', 'timezone', 'tzinf...\n",
      "\n",
      "FILE\n",
      "    c:\\users\\lenovo\\appdata\\local\\programs\\python\\python312\\lib\\datetime.py\n",
      "\n",
      "\n"
     ]
    }
   ],
   "source": [
    "# datetime\n",
    "import datetime\n",
    "print(datetime.datetime.now())\n",
    "print(datetime.datetime.now().year)\n",
    "print(datetime.datetime.now().month)\n",
    "print(datetime.datetime.now().day)\n",
    "print(datetime.timezone.utc)\n",
    "print(datetime.datetime.now().time())\n",
    "help(datetime)"
   ]
  },
  {
   "cell_type": "code",
   "execution_count": 37,
   "metadata": {
    "colab": {
     "base_uri": "https://localhost:8080/"
    },
    "id": "ePMxrlzX8CsQ",
    "outputId": "719443f9-8cb6-48fc-9a02-dee02625fc8f"
   },
   "outputs": [
    {
     "name": "stdout",
     "output_type": "stream",
     "text": [
      "\n",
      "Please wait a moment while I gather a list of all available modules...\n",
      "\n",
      "test_sqlite3: testing with SQLite version 3.45.3\n",
      "IPython             binascii            mailcap             string\n",
      "PIL                 bisect              markupsafe          stringprep\n",
      "__future__          bleach              marshal             struct\n",
      "__hello__           bs4                 math                subprocess\n",
      "__phello__          builtins            matplotlib          sunau\n",
      "_abc                bz2                 matplotlib_inline   symtable\n",
      "_aix_support        cProfile            mimetypes           sys\n",
      "_argon2_cffi_bindings calendar            mistune             sysconfig\n",
      "_ast                certifi             mmap                tabnanny\n",
      "_asyncio            cffi                mmapfile            tarfile\n",
      "_bisect             cgi                 mmsystem            telnetlib\n",
      "_blake2             cgitb               modulefinder        tempfile\n",
      "_bz2                charset_normalizer  more_itertools      terminado\n",
      "_cffi_backend       chunk               msilib              test\n",
      "_codecs             cmath               msvcrt              textwrap\n",
      "_codecs_cn          cmd                 multiprocessing     this\n",
      "_codecs_hk          code                nbclient            threading\n",
      "_codecs_iso2022     codecs              nbconvert           time\n",
      "_codecs_jp          codeop              nbformat            timeit\n",
      "_codecs_kr          collections         nest_asyncio        timer\n",
      "_codecs_tw          colorama            netbios             tinycss2\n",
      "_collections        colorsys            netrc               tkinter\n",
      "_collections_abc    comm                nntplib             token\n",
      "_compat_pickle      commctrl            notebook            tokenize\n",
      "_compression        compileall          notebook_shim       tomli\n",
      "_contextvars        concurrent          nt                  tomllib\n",
      "_csv                configparser        ntpath              tornado\n",
      "_ctypes             contextlib          ntsecuritycon       trace\n",
      "_ctypes_test        contextvars         nturl2path          traceback\n",
      "_datetime           contourpy           numbers             tracemalloc\n",
      "_decimal            copy                numpy               traitlets\n",
      "_distutils_hack     copyreg             odbc                tty\n",
      "_elementtree        crypt               opcode              turtle\n",
      "_functools          csv                 operator            turtledemo\n",
      "_hashlib            ctypes              optparse            typeguard\n",
      "_heapq              curses              os                  types\n",
      "_imp                cycler              overrides           typing\n",
      "_io                 dataclasses         packaging           typing_extensions\n",
      "_json               datetime            pandas              tzdata\n",
      "_locale             dateutil            pandocfilters       unicodedata\n",
      "_lsprof             dbm                 parso               unittest\n",
      "_lzma               dde                 pathlib             uri_template\n",
      "_markupbase         debugpy             pdb                 urllib\n",
      "_md5                decimal             perfmon             urllib3\n",
      "_msi                decorator           pickle              uu\n",
      "_multibytecodec     defusedxml          pickletools         uuid\n",
      "_multiprocessing    difflib             pip                 venv\n",
      "_opcode             dis                 pipes               warnings\n",
      "_operator           doctest             pkg_resources       wave\n",
      "_osx_support        email               pkgutil             wcwidth\n",
      "_overlapped         encodings           platform            weakref\n",
      "_pickle             ensurepip           platformdirs        webbrowser\n",
      "_py_abc             enum                plistlib            webcolors\n",
      "_pydatetime         errno               poplib              webencodings\n",
      "_pydecimal          executing           posixpath           websocket\n",
      "_pyio               fastjsonschema      pprint              wheel\n",
      "_pylong             faulthandler        profile             widgetsnbextension\n",
      "_queue              filecmp             prometheus_client   win2kras\n",
      "_random             fileinput           prompt_toolkit      win32api\n",
      "_sha1               fnmatch             pstats              win32clipboard\n",
      "_sha2               fontTools           psutil              win32com\n",
      "_sha3               fqdn                pty                 win32con\n",
      "_signal             fractions           pure_eval           win32console\n",
      "_sitebuiltins       ftplib              py_compile          win32cred\n",
      "_socket             functools           pyclbr              win32crypt\n",
      "_sqlite3            gc                  pycparser           win32cryptcon\n",
      "_sre                genericpath         pydoc               win32event\n",
      "_ssl                getopt              pydoc_data          win32evtlog\n",
      "_stat               getpass             pyexpat             win32evtlogutil\n",
      "_statistics         gettext             pygments            win32file\n",
      "_string             glob                pylab               win32gui\n",
      "_strptime           graphlib            pyparsing           win32gui_struct\n",
      "_struct             gzip                pythoncom           win32help\n",
      "_symtable           h11                 pythonjsonlogger    win32inet\n",
      "_testbuffer         hashlib             pytz                win32inetcon\n",
      "_testcapi           heapq               pywin               win32job\n",
      "_testclinic         hmac                pywin32_bootstrap   win32lz\n",
      "_testconsole        html                pywin32_testutil    win32net\n",
      "_testimportmultiple http                pywintypes          win32netcon\n",
      "_testinternalcapi   httpcore            queue               win32pdh\n",
      "_testmultiphase     httpx               quopri              win32pdhquery\n",
      "_testsinglephase    idlelib             random              win32pdhutil\n",
      "_thread             idna                rasutil             win32pipe\n",
      "_threading_local    imaplib             re                  win32print\n",
      "_tkinter            imghdr              referencing         win32process\n",
      "_tokenize           importlib           regcheck            win32profile\n",
      "_tracemalloc        importlib_metadata  regutil             win32ras\n",
      "_typing             inflect             reprlib             win32rcparser\n",
      "_uuid               inspect             requests            win32security\n",
      "_warnings           io                  rfc3339_validator   win32service\n",
      "_weakref            ipaddress           rfc3986_validator   win32serviceutil\n",
      "_weakrefset         ipykernel           rlcompleter         win32timezone\n",
      "_win32sysloader     ipykernel_launcher  rpds                win32trace\n",
      "_win32verstamp_pywin32ctypes ipywidgets          runpy               win32traceutil\n",
      "_winapi             isapi               sched               win32transaction\n",
      "_winxptheme         isoduration         secrets             win32ts\n",
      "_wmi                itertools           select              win32ui\n",
      "_xxinterpchannels   jedi                selectors           win32uiole\n",
      "_xxsubinterpreters  jinja2              send2trash          win32verstamp\n",
      "_yaml               json                servicemanager      win32wnet\n",
      "_zoneinfo           json5               setuptools          winerror\n",
      "abc                 jsonpointer         shelve              winioctlcon\n",
      "adodbapi            jsonschema          shlex               winnt\n",
      "afxres              jsonschema_specifications shutil              winperf\n",
      "aifc                jupyter             signal              winpty\n",
      "antigravity         jupyter_client      site                winreg\n",
      "anyio               jupyter_console     six                 winsound\n",
      "argon2              jupyter_core        smtplib             winxpgui\n",
      "argparse            jupyter_events      sndhdr              winxptheme\n",
      "array               jupyter_lsp         sniffio             wsgiref\n",
      "arrow               jupyter_server      socket              xdrlib\n",
      "ast                 jupyter_server_terminals socketserver        xml\n",
      "asttokens           jupyterlab          soupsieve           xmlrpc\n",
      "async_lru           jupyterlab_pygments sqlite3             xxsubtype\n",
      "asyncio             jupyterlab_server   sre_compile         yaml\n",
      "atexit              jupyterlab_widgets  sre_constants       zipapp\n",
      "attr                keyword             sre_parse           zipfile\n",
      "attrs               kiwisolver          ssl                 zipimport\n",
      "audioop             lib2to3             sspi                zipp\n",
      "autocommand         linecache           sspicon             zlib\n",
      "babel               locale              stack_data          zmq\n",
      "backports           logging             start_pythonwin     zoneinfo\n",
      "base64              lzma                stat                \n",
      "bdb                 mailbox             statistics          \n",
      "\n",
      "Enter any module name to get more help.  Or, type \"modules spam\" to search\n",
      "for modules whose name or summary contain the string \"spam\".\n",
      "\n"
     ]
    }
   ],
   "source": [
    "help('modules')"
   ]
  },
  {
   "cell_type": "markdown",
   "metadata": {
    "id": "2Ow6_gWG7ukc"
   },
   "source": [
    "## Loops in Python\n",
    "\n",
    "- Need for loops\n",
    "- While Loop\n",
    "- For Loop"
   ]
  },
  {
   "cell_type": "code",
   "execution_count": null,
   "metadata": {
    "id": "Ig7NIb7L7txg"
   },
   "outputs": [],
   "source": [
    "# While loop example -> program to print the table\n",
    "# Program -> Sum of all digits of a given number\n",
    "# Program -> keep accepting numbers from users till he/she enters a 0 and then find the avg"
   ]
  },
  {
   "cell_type": "code",
   "execution_count": null,
   "metadata": {
    "colab": {
     "base_uri": "https://localhost:8080/"
    },
    "id": "brWSxgiu9rrQ",
    "outputId": "eb64e76c-ee60-4584-9d00-9fd6729d39e8"
   },
   "outputs": [
    {
     "name": "stdout",
     "output_type": "stream",
     "text": [
      "enter the number12\n",
      "12 * 1 = 12\n",
      "12 * 2 = 24\n",
      "12 * 3 = 36\n",
      "12 * 4 = 48\n",
      "12 * 5 = 60\n",
      "12 * 6 = 72\n",
      "12 * 7 = 84\n",
      "12 * 8 = 96\n",
      "12 * 9 = 108\n",
      "12 * 10 = 120\n"
     ]
    }
   ],
   "source": [
    "number = int(input('enter the number'))\n",
    "\n",
    "i = 1\n",
    "\n",
    "while i<11:\n",
    "  print(number,'*',i,'=',number * i)\n",
    "  i += 1"
   ]
  },
  {
   "cell_type": "code",
   "execution_count": 7,
   "metadata": {},
   "outputs": [
    {
     "name": "stdout",
     "output_type": "stream",
     "text": [
      "Enter a number here\n",
      "12 * 1 = 12\n",
      "12 * 2 = 24\n",
      "12 * 3 = 36\n",
      "12 * 4 = 48\n",
      "12 * 5 = 60\n",
      "12 * 6 = 72\n",
      "12 * 7 = 84\n",
      "12 * 8 = 96\n",
      "12 * 9 = 108\n",
      "12 * 10 = 120\n",
      "[12, 24, 36, 48, 60, 72, 84, 96, 108, 120]\n"
     ]
    }
   ],
   "source": [
    "print(\"Enter a number here\")\n",
    "num = int(input())\n",
    "list = []\n",
    "for i in range(1,11):\n",
    "    list.append(num*i)\n",
    "    print(num, \"*\", i, \"=\", num*i)\n",
    "print(list)"
   ]
  },
  {
   "cell_type": "code",
   "execution_count": null,
   "metadata": {},
   "outputs": [
    {
     "name": "stdout",
     "output_type": "stream",
     "text": [
      "Enter a number here\n",
      "78\n"
     ]
    }
   ],
   "source": [
    "print(\"Enter a number here\")\n",
    "num = int(input())\n",
    "sum = 0\n",
    "for i in range(num+1):\n",
    "    sum += i\n",
    "print(sum)  "
   ]
  },
  {
   "cell_type": "code",
   "execution_count": 3,
   "metadata": {},
   "outputs": [
    {
     "name": "stdout",
     "output_type": "stream",
     "text": [
      "Enter a number here:\n",
      "120\n"
     ]
    }
   ],
   "source": [
    "print(\"Enter a number here:\")\n",
    "num = int(input())\n",
    "product = 1\n",
    "for i in range (1, num+1):\n",
    "    product *= i\n",
    "print(product)"
   ]
  },
  {
   "cell_type": "code",
   "execution_count": 11,
   "metadata": {},
   "outputs": [
    {
     "name": "stdout",
     "output_type": "stream",
     "text": [
      "* \n",
      "* * \n",
      "* * * \n",
      "* * * * \n",
      "* * * * * \n"
     ]
    }
   ],
   "source": [
    "# printing right angle triangle pattern\n",
    "n = int(input(\"Enter a number here:\"))\n",
    "for i in range (n):\n",
    "    for j in range(i+1):\n",
    "        print(\"*\",end = \" \")\n",
    "    print()"
   ]
  },
  {
   "cell_type": "code",
   "execution_count": 12,
   "metadata": {},
   "outputs": [
    {
     "name": "stdout",
     "output_type": "stream",
     "text": [
      "* \n",
      "* * \n",
      "* * * \n",
      "* * * * \n",
      "* * * * * \n"
     ]
    }
   ],
   "source": [
    "n = 5\n",
    "for i in range(n):\n",
    "    for j in range(i + 1):\n",
    "        \n",
    "        print('*', end=' ')\n",
    "    print()\n"
   ]
  },
  {
   "cell_type": "code",
   "execution_count": 1,
   "metadata": {
    "colab": {
     "base_uri": "https://localhost:8080/"
    },
    "id": "Ltsr9n3H73fp",
    "outputId": "a47f2a11-bf75-4a0a-923c-49f318514900"
   },
   "outputs": [
    {
     "name": "stdout",
     "output_type": "stream",
     "text": [
      "1\n",
      "2\n",
      "limit crossed\n"
     ]
    }
   ],
   "source": [
    "# while loop with else\n",
    "\n",
    "x = 1\n",
    "\n",
    "while x < 3:\n",
    "  print(x)\n",
    "  x += 1\n",
    "\n",
    "else:\n",
    "  print('limit crossed')"
   ]
  },
  {
   "cell_type": "code",
   "execution_count": null,
   "metadata": {
    "colab": {
     "base_uri": "https://localhost:8080/"
    },
    "id": "29y5r2cr8MRP",
    "outputId": "c4d707ce-6f6c-49cc-8997-a85ecf01e74e"
   },
   "outputs": [
    {
     "name": "stdout",
     "output_type": "stream",
     "text": [
      "guess karo7\n",
      "galat!guess higher\n",
      "guess karo50\n",
      "galat!guess lower\n",
      "guess karo30\n",
      "galat!guess higher\n",
      "guess karo40\n",
      "galat!guess lower\n",
      "guess karo35\n",
      "galat!guess lower\n",
      "guess karo32\n",
      "galat!guess higher\n",
      "guess karo33\n",
      "correct guess\n",
      "attempts 7\n"
     ]
    }
   ],
   "source": [
    "# Guessing game\n",
    "\n",
    "# generate a random integer between 1 and 100\n",
    "import random\n",
    "jackpot = random.randint(1,100)\n",
    "\n",
    "guess = int(input('guess karo'))\n",
    "counter = 1\n",
    "while guess != jackpot:\n",
    "  if guess < jackpot:\n",
    "    print('galat!guess higher')\n",
    "  else:\n",
    "    print('galat!guess lower')\n",
    "\n",
    "  guess = int(input('guess karo'))\n",
    "  counter += 1\n",
    "\n",
    "else:\n",
    "  print('correct guess')\n",
    "  print('attempts',counter)\n",
    "\n",
    "\n"
   ]
  },
  {
   "cell_type": "code",
   "execution_count": 4,
   "metadata": {},
   "outputs": [
    {
     "name": "stdout",
     "output_type": "stream",
     "text": [
      "When India gets its independence?\n",
      "Sorry you are wrong\n",
      "Try once again\n",
      "Sorry you are wrong again\n",
      "you have exhausted all your chances\n"
     ]
    }
   ],
   "source": [
    "print(\"When India gets its independence?\")\n",
    "year = int(input(\"Enter the year:\"))\n",
    "\n",
    "if year == 1947:\n",
    "    print(\"Hurray you are correct\")\n",
    "else:\n",
    "    print(\"Sorry you are wrong\")\n",
    "    print(\"Try once again\")\n",
    "    year = int(input(\"Enter the year:\"))\n",
    "    if year == 1947:\n",
    "        print(\"Hurray you are correct\")\n",
    "    else :\n",
    "        print(\"Sorry you are wrong again\")\n",
    "        print(\"you have exhausted all your chances\")"
   ]
  },
  {
   "cell_type": "code",
   "execution_count": 9,
   "metadata": {},
   "outputs": [
    {
     "name": "stdout",
     "output_type": "stream",
     "text": [
      "when did India get its independence?\n",
      "Sorry you are wrong\n",
      "Try once again\n",
      "Sorry you are wrong\n",
      "Try once again\n"
     ]
    }
   ],
   "source": [
    "print(\"when did India get its independence?\")\n",
    "year = int(input(\"Enter the year:\"))\n",
    "\n",
    "while year != 1947:\n",
    "    print(\"Sorry you are wrong\")\n",
    "    print(\"Try once again\")\n",
    "    year = int(input(\"Enter the year:\"))"
   ]
  },
  {
   "cell_type": "code",
   "execution_count": 11,
   "metadata": {},
   "outputs": [
    {
     "name": "stdout",
     "output_type": "stream",
     "text": [
      "Factorial of the number is: 120\n"
     ]
    }
   ],
   "source": [
    "num = int(input(\"Enter a number:\"))\n",
    "fact = 1\n",
    "while num > 0:\n",
    "    fact = fact * num \n",
    "    num = num -1\n",
    "print(\"Factorial of the number is:\",fact)"
   ]
  },
  {
   "cell_type": "code",
   "execution_count": 13,
   "metadata": {},
   "outputs": [
    {
     "name": "stdout",
     "output_type": "stream",
     "text": [
      "Factorial of the number is: 24\n"
     ]
    }
   ],
   "source": [
    "\n",
    "num = int(input(\"Enter the number here:\"))\n",
    "\n",
    "i = 1\n",
    "answer = 1\n",
    "\n",
    "while i <= num:\n",
    "    answer = answer *i\n",
    "    i = i + 1\n",
    "\n",
    "print(\"Factorial of the number is:\",answer)\n"
   ]
  },
  {
   "cell_type": "code",
   "execution_count": null,
   "metadata": {
    "colab": {
     "base_uri": "https://localhost:8080/"
    },
    "id": "bjjx0fMr8SWh",
    "outputId": "a3bf4676-a68c-499f-fc00-e0fe0f04285b"
   },
   "outputs": [
    {
     "name": "stdout",
     "output_type": "stream",
     "text": [
      "1\n",
      "2\n",
      "3\n",
      "4\n",
      "5\n"
     ]
    }
   ],
   "source": [
    "# For loop demo\n",
    "\n",
    "for i in {1,2,3,4,5}:\n",
    "  print(i)"
   ]
  },
  {
   "cell_type": "code",
   "execution_count": null,
   "metadata": {
    "id": "5ZLWEyFn8g1R"
   },
   "outputs": [],
   "source": [
    "# For loop examples"
   ]
  },
  {
   "cell_type": "markdown",
   "metadata": {
    "id": "EXnzCtohWx2V"
   },
   "source": [
    "### Program - The current population of a town is 10000. The population of the town is increasing at the rate of 10% per year. You have to write a program to find out the population at the end of each of the last 10 years."
   ]
  },
  {
   "cell_type": "code",
   "execution_count": null,
   "metadata": {
    "colab": {
     "base_uri": "https://localhost:8080/"
    },
    "id": "Nc_6lslRW03g",
    "outputId": "80e461e9-7ff9-46c1-819d-a5ee314fa91e"
   },
   "outputs": [
    {
     "name": "stdout",
     "output_type": "stream",
     "text": [
      "10 10000\n",
      "9 9090.90909090909\n",
      "8 8264.462809917353\n",
      "7 7513.148009015775\n",
      "6 6830.134553650703\n",
      "5 6209.213230591548\n",
      "4 5644.739300537771\n",
      "3 5131.5811823070635\n",
      "2 4665.07380209733\n",
      "1 4240.976183724845\n"
     ]
    }
   ],
   "source": [
    "# Code Used in the session\n",
    "curr_pop = 10000\n",
    "\n",
    "for i in range(10,0,-1):\n",
    "  print(i,curr_pop)\n",
    "  curr_pop = curr_pop - 0.1*curr_pop\n"
   ]
  },
  {
   "cell_type": "code",
   "execution_count": null,
   "metadata": {
    "id": "TPXkdE9hI7dm"
   },
   "outputs": [],
   "source": [
    "# Correct Answer of above question:\n",
    "curr_pop = 10000\n",
    "\n",
    "for i in range(10,0,-1):\n",
    "  print(i,curr_pop)\n",
    "  curr_pop /= 1.1\n"
   ]
  },
  {
   "cell_type": "markdown",
   "metadata": {
    "id": "kB-F1EYdJ-XU"
   },
   "source": [
    "#### Explanation :\n",
    "\n",
    "\n",
    "\n",
    "To calculate the population for each year with a 10% increase, you can use a simpler equation based on the previous year's population. Let's assume the population of the previous year is represented by variable x.\n",
    "\n",
    "The equation can be written as:\n",
    "\n",
    "> Current Year Population = x * 1.1\n",
    "\n",
    "In this equation, the current year's population is equal to the previous year's population multiplied by 1.1, representing a 10% increase.\n",
    "\n",
    "To find the population of the previous year (x), we can rearrange the equation as follows:\n",
    "\n",
    "> x = Current Year Population / 1.1\n",
    "\n",
    "Using this simplified equation, if you have the current year's population (e.g., 10,000), you can divide it by 1.1 to calculate the population of the previous year.\n",
    "\n",
    "This equation allows you to calculate the population for each year, assuming you know the population of the current year and want to find the population of the previous year."
   ]
  },
  {
   "cell_type": "markdown",
   "metadata": {
    "id": "4xVI9HkgcEla"
   },
   "source": [
    "### Sequence sum\n",
    "\n",
    "1/1! + 2/2! + 3/3! + ..."
   ]
  },
  {
   "cell_type": "code",
   "execution_count": null,
   "metadata": {
    "id": "wGC1eCDecPcB"
   },
   "outputs": [],
   "source": [
    "# code here"
   ]
  },
  {
   "cell_type": "code",
   "execution_count": null,
   "metadata": {
    "id": "PNLWd1WR8dSw"
   },
   "outputs": [],
   "source": [
    "# For loop vs While loops (When to use what?)"
   ]
  },
  {
   "cell_type": "markdown",
   "metadata": {
    "id": "1bdP8FTX87Du"
   },
   "source": [
    "## Nested Loops"
   ]
  },
  {
   "cell_type": "code",
   "execution_count": null,
   "metadata": {
    "id": "-YY5edV98lXq"
   },
   "outputs": [],
   "source": [
    "# Examples"
   ]
  },
  {
   "cell_type": "code",
   "execution_count": null,
   "metadata": {
    "id": "Ym8nRkqxGXLN"
   },
   "outputs": [],
   "source": [
    "# Program - Unique combination of 1,2,3,4\n",
    "# Program - Pattern 1 and 2"
   ]
  },
  {
   "cell_type": "markdown",
   "metadata": {
    "id": "_Hz8L0f3c_3P"
   },
   "source": [
    "### Pattern 1\n",
    "\n",
    "\n",
    "*** <br>\n",
    "**** <br>\n",
    "***<br>\n"
   ]
  },
  {
   "cell_type": "code",
   "execution_count": null,
   "metadata": {
    "id": "YsL_YmxRdNrn"
   },
   "outputs": [],
   "source": []
  },
  {
   "cell_type": "markdown",
   "metadata": {
    "id": "eVAO3tVmdOWV"
   },
   "source": [
    "### Pattern 2\n",
    "\n",
    "1<br>\n",
    "121<br>\n",
    "12321<br>\n",
    "1234321<br>"
   ]
  },
  {
   "cell_type": "code",
   "execution_count": null,
   "metadata": {
    "id": "sHW4YJqcdXzw"
   },
   "outputs": [],
   "source": []
  },
  {
   "cell_type": "markdown",
   "metadata": {
    "id": "8GccSRIt891U"
   },
   "source": [
    "## Loop Control Statement\n",
    "\n",
    "- Break :- Terminates the loop and transfers execution to the statement immediately following the loop.\n",
    "- Continue:- skips the rest of the code inside the loop for the current iteration and moves to the next iteration of the loop.\n",
    "- Pass:-  Does nothing and is used as a placeholder"
   ]
  },
  {
   "cell_type": "code",
   "execution_count": null,
   "metadata": {
    "id": "kN9s2dG89DlJ"
   },
   "outputs": [],
   "source": [
    "# Break demo"
   ]
  },
  {
   "cell_type": "code",
   "execution_count": null,
   "metadata": {
    "id": "u09EdMCm9FK_"
   },
   "outputs": [],
   "source": [
    "# Break example (Linear Search) -> Prime number in a given range"
   ]
  },
  {
   "cell_type": "code",
   "execution_count": null,
   "metadata": {
    "id": "3q5asa2l9GYy"
   },
   "outputs": [],
   "source": [
    "# Continue demo"
   ]
  },
  {
   "cell_type": "code",
   "execution_count": null,
   "metadata": {
    "id": "cA8CiMgn9IIT"
   },
   "outputs": [],
   "source": [
    "# Continue Example (Ecommerce)"
   ]
  },
  {
   "cell_type": "code",
   "execution_count": null,
   "metadata": {
    "id": "P7GB16j59J-3"
   },
   "outputs": [],
   "source": [
    "# Pass demo"
   ]
  },
  {
   "cell_type": "code",
   "execution_count": 18,
   "metadata": {},
   "outputs": [
    {
     "name": "stdout",
     "output_type": "stream",
     "text": [
      "not defined\n"
     ]
    }
   ],
   "source": [
    "num = int(input(\"Enter the number here:\"))\n",
    "i = 1\n",
    "fact = 1\n",
    "if num <0:\n",
    "    print(\"not defined\")\n",
    "else:\n",
    "    while i <= num :\n",
    "        fact = fact *num\n",
    "        num = num -1\n",
    "    \n",
    "    print(\"Factorial of the number is:\",fact)"
   ]
  },
  {
   "cell_type": "code",
   "execution_count": 12,
   "metadata": {},
   "outputs": [
    {
     "name": "stdout",
     "output_type": "stream",
     "text": [
      "List of sum of n natural numbers is: [1, 3, 6, 10, 15, 21, 28, 36, 45, 55]\n",
      "55\n",
      "(1, 3, 6, 10, 15, 21, 28, 36, 45, 55)\n"
     ]
    }
   ],
   "source": [
    "# sum of n natural numbers\n",
    "n = int(input(\"Enter the number here:\"))\n",
    "\n",
    "sum = 0\n",
    "list = []\n",
    "\n",
    "for i in range (1,n +1):\n",
    "    sum = sum + i\n",
    "    list.append(sum)\n",
    "     \n",
    "    \n",
    "print(\"List of sum of n natural numbers is:\",list)\n",
    "print(sum)\n",
    "print(tuple(list))"
   ]
  },
  {
   "cell_type": "code",
   "execution_count": 19,
   "metadata": {},
   "outputs": [
    {
     "name": "stdout",
     "output_type": "stream",
     "text": [
      "Number of digits in the given number is: 5\n"
     ]
    }
   ],
   "source": [
    "# find no of digit in given no\n",
    "num = abs(int(input(\"Enter  the number here :\")))\n",
    "# abs function :- returns the absolute value of a given number. absolute value of a number is its distance from zero on the number line, without considering its sign\n",
    "digits = 1\n",
    "while num>9:\n",
    "    num = num//10\n",
    "    digits = digits + 1\n",
    "print(\"Number of digits in the given number is:\",digits)\n",
    "   "
   ]
  }
 ],
 "metadata": {
  "colab": {
   "provenance": []
  },
  "kernelspec": {
   "display_name": "Python 3",
   "language": "python",
   "name": "python3"
  },
  "language_info": {
   "codemirror_mode": {
    "name": "ipython",
    "version": 3
   },
   "file_extension": ".py",
   "mimetype": "text/x-python",
   "name": "python",
   "nbconvert_exporter": "python",
   "pygments_lexer": "ipython3",
   "version": "3.12.8"
  }
 },
 "nbformat": 4,
 "nbformat_minor": 4
}
