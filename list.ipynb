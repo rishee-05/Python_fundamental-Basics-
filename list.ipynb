{
  "cells": [
    {
      "cell_type": "markdown",
      "metadata": {
        "id": "D82d4l7BQzBn"
      },
      "source": [
        "## 1. Lists\n",
        "\n",
        "- What are Lists?\n",
        "- Lists Vs Arrays\n",
        "- Characterstics of a List\n",
        "- How to create a list\n",
        "- Access items from a List\n",
        "- Editing items in a List\n",
        "- Deleting items from a List\n",
        "- Operations on Lists\n",
        "- Functions on Lists\n",
        "\n"
      ]
    },
    {
      "cell_type": "markdown",
      "metadata": {
        "id": "e-8DZsltR0oJ"
      },
      "source": [
        "### What are Lists\n",
        "\n",
        "List is a data type where you can store multiple items under 1 name. More technically, lists act like dynamic arrays which means you can add more items on the fly.\n",
        "\n",
        " Why Lists are required in programming?  \n",
        "        - Store multiple values\n",
        "        - Dynamic and flexible\n",
        "        - Allow quiick access to elements \n",
        "        - easily iterated by using loops\n",
        "        - Support different datatypes\n",
        "        - list has easy modification (append, extend, remove,pop)"
      ]
    },
    {
      "cell_type": "markdown",
      "metadata": {
        "id": "fMWUhkVHVBor"
      },
      "source": [
        "## Array Vs Lists\n",
        "\n",
        "- Fixed Vs Dynamic Size\n",
        "- Convenience -> Hetrogeneous\n",
        "- Speed of Execution\n",
        "- Memory"
      ]
    },
    {
      "cell_type": "code",
      "execution_count": null,
      "metadata": {
        "colab": {
          "base_uri": "https://localhost:8080/"
        },
        "id": "ORYZDwsEnx22",
        "outputId": "8a938fa9-aac0-4360-ca2b-9737510d8ba6"
      },
      "outputs": [
        {
          "name": "stdout",
          "output_type": "stream",
          "text": [
            "140163201133376\n",
            "11126688\n",
            "11126720\n",
            "11126752\n",
            "11126688\n",
            "11126720\n",
            "11126752\n"
          ]
        }
      ],
      "source": [
        "L = [1,2,3]\n",
        "\n",
        "print(id(L))\n",
        "print(id(L[0]))\n",
        "print(id(L[1]))\n",
        "print(id(L[2]))\n",
        "print(id(1))\n",
        "print(id(2))\n",
        "print(id(3))"
      ]
    },
    {
      "cell_type": "markdown",
      "metadata": {
        "id": "YjognkT2TLBx"
      },
      "source": [
        "## How lists are stored in memory"
      ]
    },
    {
      "cell_type": "markdown",
      "metadata": {
        "id": "290tPoKyT6cs"
      },
      "source": [
        "## Characterstics of a List\n",
        "\n",
        "- Ordered\n",
        "- Changeble/Mutable\n",
        "- Hetrogeneous\n",
        "- Can have duplicates\n",
        "- are dynamic\n",
        "- can be nested\n",
        "- items can be accessed\n",
        "- can contain any kind of objects in python"
      ]
    },
    {
      "cell_type": "code",
      "execution_count": null,
      "metadata": {
        "colab": {
          "base_uri": "https://localhost:8080/"
        },
        "id": "JtNzEYbsqYbP",
        "outputId": "90748487-9944-4aeb-ec40-52118957e1b7"
      },
      "outputs": [
        {
          "data": {
            "text/plain": [
              "False"
            ]
          },
          "execution_count": 65,
          "metadata": {},
          "output_type": "execute_result"
        }
      ],
      "source": [
        "L = [1,2,3,1]\n",
        "L1 = [3,2,1]\n",
        "\n",
        "L == L1"
      ]
    },
    {
      "cell_type": "markdown",
      "metadata": {
        "id": "Y0DVvBzkVnke"
      },
      "source": [
        "## Creating a List"
      ]
    },
    {
      "cell_type": "code",
      "execution_count": null,
      "metadata": {
        "colab": {
          "base_uri": "https://localhost:8080/"
        },
        "id": "1d_H8TSvRzya",
        "outputId": "3745ff91-7db7-42d3-84f8-b791b6037f04"
      },
      "outputs": [
        {
          "name": "stdout",
          "output_type": "stream",
          "text": [
            "[]\n",
            "[1, 2, 3, 4, 5]\n",
            "[1, 2, 3, [4, 5]]\n",
            "[[[1, 2], [3, 4]], [[5, 6], [7, 8]]]\n",
            "[1, True, 5.6, (5+6j), 'Hello']\n",
            "['h', 'e', 'l', 'l', 'o']\n"
          ]
        }
      ],
      "source": [
        "# Empty list\n",
        "print([])\n",
        "# 1D -> Homo\n",
        "print([1,2,3,4,5])\n",
        "# 2D\n",
        "print([1,2,3,[4,5]])\n",
        "# 3D\n",
        "print([[[1,2],[3,4]],[[5,6],[7,8]]])\n",
        "# Hetrogenous\n",
        "print([1,True,5.6,5+6j,'Hello'])\n",
        "# Using Type conversion\n",
        "print(list('hello'))"
      ]
    },
    {
      "cell_type": "markdown",
      "metadata": {
        "id": "VdSOERg3VqV6"
      },
      "source": [
        "## Accessing Items from a List"
      ]
    },
    {
      "cell_type": "code",
      "execution_count": null,
      "metadata": {
        "colab": {
          "base_uri": "https://localhost:8080/"
        },
        "id": "C-vuu5EmVsqm",
        "outputId": "8f306a0b-ee17-4739-cf28-72c6fa30d0ac"
      },
      "outputs": [
        {
          "name": "stdout",
          "output_type": "stream",
          "text": [
            "5\n",
            "[6, 5, 4, 3, 2, 1]\n"
          ]
        }
      ],
      "source": [
        "# Indexing\n",
        "# indexing return us value is positioned in that particular index\n",
        "L = [[[1,2],[3,4]],[[5,6],[7,8]]]\n",
        "\n",
        "# inddexing & slicing is of two types either positive or negative\n",
        "print(L[1][0][0])  # we get a value here\n",
        "\n",
        "\n",
        "#print(L[0][0][1])\n",
        "\n",
        "# Slicing\n",
        "L = [1,2,3,4,5,6]\n",
        "# slicing return us sublist of a list\n",
        "print(L[::-1])"
      ]
    },
    {
      "cell_type": "markdown",
      "metadata": {
        "id": "-foqz6S6Vtgn"
      },
      "source": [
        "## Adding Items to a List"
      ]
    },
    {
      "cell_type": "code",
      "execution_count": null,
      "metadata": {
        "colab": {
          "base_uri": "https://localhost:8080/"
        },
        "id": "xsb27oeLVvDr",
        "outputId": "aa0ece69-7df9-4fff-943f-a14760e123b8"
      },
      "outputs": [
        {
          "name": "stdout",
          "output_type": "stream",
          "text": [
            "[1, 2, 3, 4, 5, True]\n"
          ]
        }
      ],
      "source": [
        "# append\n",
        "L = [1,2,3,4,5]\n",
        "L.append(True)\n",
        "print(L)"
      ]
    },
    {
      "cell_type": "code",
      "execution_count": null,
      "metadata": {
        "colab": {
          "base_uri": "https://localhost:8080/"
        },
        "id": "WsG2DiqA7nZo",
        "outputId": "164eb5fa-cee9-448f-ac35-b4a69af7ad0b"
      },
      "outputs": [
        {
          "name": "stdout",
          "output_type": "stream",
          "text": [
            "[1, 2, 3, 4, 5, 6, 7, 8]\n"
          ]
        }
      ],
      "source": [
        "# extend\n",
        "L = [1,2,3,4,5]\n",
        "L.extend([6,7,8])\n",
        "print(L)"
      ]
    },
    {
      "cell_type": "code",
      "execution_count": null,
      "metadata": {
        "colab": {
          "base_uri": "https://localhost:8080/"
        },
        "id": "bX8DoftYvmjv",
        "outputId": "4263c52d-ebb7-4b9e-ea85-0a68f92e809d"
      },
      "outputs": [
        {
          "name": "stdout",
          "output_type": "stream",
          "text": [
            "[1, 2, 3, 4, 5, [6, 7, 8]]\n"
          ]
        }
      ],
      "source": [
        "L = [1,2,3,4,5]\n",
        "L.append([6,7,8])\n",
        "print(L)"
      ]
    },
    {
      "cell_type": "code",
      "execution_count": null,
      "metadata": {
        "colab": {
          "base_uri": "https://localhost:8080/"
        },
        "id": "GwQBD7QLv0Go",
        "outputId": "a3383c03-ec5d-4b1f-f431-cc07bb76bebd"
      },
      "outputs": [
        {
          "name": "stdout",
          "output_type": "stream",
          "text": [
            "[1, 2, 3, 4, 5, 'd', 'e', 'l', 'h', 'i']\n"
          ]
        }
      ],
      "source": [
        "L = [1,2,3,4,5]\n",
        "L.extend('delhi')\n",
        "print(L)"
      ]
    },
    {
      "cell_type": "code",
      "execution_count": null,
      "metadata": {
        "colab": {
          "base_uri": "https://localhost:8080/"
        },
        "id": "pxRWHOLk7ome",
        "outputId": "5218b34b-2ef0-446d-cd04-0de416ba898a"
      },
      "outputs": [
        {
          "name": "stdout",
          "output_type": "stream",
          "text": [
            "[1, 100, 2, 3, 4, 5]\n"
          ]
        }
      ],
      "source": [
        "# insert\n",
        "L = [1,2,3,4,5]\n",
        "\n",
        "L.insert(1,100)\n",
        "print(L)"
      ]
    },
    {
      "cell_type": "markdown",
      "metadata": {
        "id": "mUXo7QcFVvoZ"
      },
      "source": [
        "# Editing items in a List"
      ]
    },
    {
      "cell_type": "code",
      "execution_count": null,
      "metadata": {
        "colab": {
          "base_uri": "https://localhost:8080/"
        },
        "id": "HDDmfZb2VxOv",
        "outputId": "4d1e2be4-77c8-468f-affa-8a127d3fb0f0"
      },
      "outputs": [
        {
          "name": "stdout",
          "output_type": "stream",
          "text": [
            "[1, 200, 300, 400, 500]\n"
          ]
        }
      ],
      "source": [
        "L = [1,2,3,4,5]\n",
        "\n",
        "# editing with indexing\n",
        "L[-1] = 500\n",
        "\n",
        "# editing with slicing\n",
        "L[1:4] = [200,300,400]\n",
        "\n",
        "print(L)"
      ]
    },
    {
      "cell_type": "markdown",
      "metadata": {},
      "source": [
        "# Copying of the list"
      ]
    },
    {
      "cell_type": "code",
      "execution_count": 30,
      "metadata": {},
      "outputs": [
        {
          "name": "stdout",
          "output_type": "stream",
          "text": [
            "[1, 2, 3, 5]\n",
            "[1, 6, 3, 5]\n",
            "[1, 6, 3, 5]\n",
            "True\n",
            "True\n",
            "[1, 6, 3, 5]\n",
            "[1, 'Rishi', 3, 5]\n",
            "[1, 6, 3, 5]\n",
            "[1, 2, 3, 4, 5]\n",
            "False\n",
            "[1, 6, 3, 4, 5]\n",
            "[1, 2, 3, 4, 5]\n",
            "False\n",
            "False\n"
          ]
        }
      ],
      "source": [
        "obj1 = [1,2,3,5]\n",
        "obj2 = obj1         # = implies obj2 and obj1 point towards same object\n",
        "print(obj2)\n",
        "\n",
        "\n",
        "obj1[1] = 6\n",
        "print(obj1)\n",
        "print(obj2)   \n",
        "print(obj1 == obj2)       # any changes in obj1 will reflect in obj2\n",
        "print(obj1 is obj2)       # obj1 and obj2 are pointing towards same object\n",
        "\n",
        "\n",
        "obj2 = obj1[:]\n",
        "print(obj2)\n",
        "obj1[1] = \"Rishi\"\n",
        "print(obj1)\n",
        "print(obj2)\n",
        "\n",
        "\n",
        "list1 = [1,2,3,4,5]\n",
        "list2 = list1.copy()        # copy() creates a new object and points towards it == list[:]\n",
        "print(list2)\n",
        "print(list1 is list2)\n",
        "list1[1] = 6                    # here list1 != list2\n",
        "print(list1)\n",
        "print(list2)\n",
        "print(list1 == list2)\n",
        "print(list1 is list2)"
      ]
    },
    {
      "cell_type": "markdown",
      "metadata": {
        "id": "6_aTJsfjY5r0"
      },
      "source": [
        "## Deleting items from a List"
      ]
    },
    {
      "cell_type": "code",
      "execution_count": null,
      "metadata": {
        "colab": {
          "base_uri": "https://localhost:8080/"
        },
        "id": "qJ3zeOFhY8MP",
        "outputId": "62d05032-31f4-4cdf-b058-286db652e40a"
      },
      "outputs": [
        {
          "name": "stdout",
          "output_type": "stream",
          "text": [
            "[1, 4]\n"
          ]
        }
      ],
      "source": [
        "# del\n",
        "L = [1,2,3,4,5]\n",
        "\n",
        "# indexing\n",
        "del L[-1]\n",
        "\n",
        "# slicing\n",
        "del L[1:3]\n",
        "print(L)"
      ]
    },
    {
      "cell_type": "code",
      "execution_count": null,
      "metadata": {
        "colab": {
          "base_uri": "https://localhost:8080/"
        },
        "id": "td2LU95s7s7v",
        "outputId": "2fab276d-fe3e-4404-e4ea-7eb02e0cc45c"
      },
      "outputs": [
        {
          "name": "stdout",
          "output_type": "stream",
          "text": [
            "[1, 2, 3, 4]\n"
          ]
        }
      ],
      "source": [
        "# remove\n",
        "\n",
        "L = [1,2,3,4,5]\n",
        "\n",
        "L.remove(5)\n",
        "\n",
        "print(L)\n"
      ]
    },
    {
      "cell_type": "code",
      "execution_count": null,
      "metadata": {
        "colab": {
          "base_uri": "https://localhost:8080/"
        },
        "id": "EN2b04r_7vEI",
        "outputId": "2a9fa367-82ee-4928-dfe5-a01b27363ed5"
      },
      "outputs": [
        {
          "name": "stdout",
          "output_type": "stream",
          "text": [
            "[1, 2, 3, 4]\n"
          ]
        }
      ],
      "source": [
        "# pop\n",
        "L = [1,2,3,4,5]\n",
        "\n",
        "L.pop()\n",
        "\n",
        "print(L)"
      ]
    },
    {
      "cell_type": "code",
      "execution_count": null,
      "metadata": {
        "colab": {
          "base_uri": "https://localhost:8080/"
        },
        "id": "Ou3-CNXd7wr5",
        "outputId": "03486728-68bf-471a-feb2-7282776cbddd"
      },
      "outputs": [
        {
          "name": "stdout",
          "output_type": "stream",
          "text": [
            "[]\n"
          ]
        }
      ],
      "source": [
        "# clear\n",
        "L = [1,2,3,4,5]\n",
        "\n",
        "L.clear()\n",
        "\n",
        "print(L)"
      ]
    },
    {
      "cell_type": "markdown",
      "metadata": {
        "id": "2ghXexOj_UhL"
      },
      "source": [
        "## Operations on Lists\n",
        "\n",
        "- Arithmetic\n",
        "- Membership\n",
        "- Loop"
      ]
    },
    {
      "cell_type": "code",
      "execution_count": null,
      "metadata": {
        "colab": {
          "base_uri": "https://localhost:8080/"
        },
        "id": "lohcJ4XD_lKp",
        "outputId": "7df937b7-bb0d-49d0-903e-5277781c6ea8"
      },
      "outputs": [
        {
          "name": "stdout",
          "output_type": "stream",
          "text": [
            "[1, 2, 3, 4, 5, 6, 7, 8]\n"
          ]
        }
      ],
      "source": [
        "# Arithmetic (+ ,*)\n",
        "\n",
        "L1 = [1,2,3,4]\n",
        "L2 = [5,6,7,8]\n",
        "\n",
        "# Concatenation/Merge\n",
        "print(L1 + L2)"
      ]
    },
    {
      "cell_type": "code",
      "execution_count": null,
      "metadata": {
        "colab": {
          "base_uri": "https://localhost:8080/"
        },
        "id": "8AeNj1IU_lj0",
        "outputId": "807a88da-04c3-4ae5-a63e-92f502e83670"
      },
      "outputs": [
        {
          "name": "stdout",
          "output_type": "stream",
          "text": [
            "[1, 2, 3, 4, 1, 2, 3, 4, 1, 2, 3, 4]\n"
          ]
        }
      ],
      "source": [
        "print(L1*3)"
      ]
    },
    {
      "cell_type": "code",
      "execution_count": null,
      "metadata": {
        "colab": {
          "base_uri": "https://localhost:8080/"
        },
        "id": "b3lA4dwk_l0w",
        "outputId": "6bc9d4d4-f90e-4877-a5ca-664d05f6f0ab"
      },
      "outputs": [
        {
          "name": "stdout",
          "output_type": "stream",
          "text": [
            "False\n",
            "True\n"
          ]
        }
      ],
      "source": [
        "L1 = [1,2,3,4,5]\n",
        "L2 = [1,2,3,4,[5,6]]\n",
        "\n",
        "print(5 not in L1)\n",
        "print([5,6] in L2)"
      ]
    },
    {
      "cell_type": "code",
      "execution_count": null,
      "metadata": {
        "colab": {
          "base_uri": "https://localhost:8080/"
        },
        "id": "mjGCNALmzrhn",
        "outputId": "29fa5d93-9d72-4317-9f77-8cea7952be8d"
      },
      "outputs": [
        {
          "name": "stdout",
          "output_type": "stream",
          "text": [
            "[[1, 2], [3, 4]]\n",
            "[[5, 6], [7, 8]]\n"
          ]
        }
      ],
      "source": [
        "# Loops\n",
        "L1 = [1,2,3,4,5]\n",
        "L2 = [1,2,3,4,[5,6]]\n",
        "L3 = [[[1,2],[3,4]],[[5,6],[7,8]]]\n",
        "\n",
        "for i in L3:\n",
        "  print(i)"
      ]
    },
    {
      "cell_type": "markdown",
      "metadata": {
        "id": "Df3rQJjnY8pc"
      },
      "source": [
        "## List Functions"
      ]
    },
    {
      "cell_type": "code",
      "execution_count": null,
      "metadata": {
        "colab": {
          "base_uri": "https://localhost:8080/"
        },
        "id": "QrrAg6H_ZId5",
        "outputId": "a7f40c3c-0791-4e04-9217-2b55d2541d09"
      },
      "outputs": [
        {
          "name": "stdout",
          "output_type": "stream",
          "text": [
            "5\n",
            "0\n",
            "7\n",
            "[7, 5, 2, 1, 0]\n"
          ]
        }
      ],
      "source": [
        "# len/min/max/sorted\n",
        "L = [2,1,5,7,0]\n",
        "\n",
        "print(len(L))\n",
        "print(min(L))\n",
        "print(max(L))\n",
        "print(sorted(L,reverse=True))"
      ]
    },
    {
      "cell_type": "code",
      "execution_count": null,
      "metadata": {
        "colab": {
          "base_uri": "https://localhost:8080/"
        },
        "id": "C0PloJaY71bd",
        "outputId": "a8cb7399-cfda-493a-d56a-67ebe7184687"
      },
      "outputs": [
        {
          "data": {
            "text/plain": [
              "1"
            ]
          },
          "execution_count": 131,
          "metadata": {},
          "output_type": "execute_result"
        }
      ],
      "source": [
        "# count\n",
        "L = [1,2,1,3,4,1,5]\n",
        "L.count(5)"
      ]
    },
    {
      "cell_type": "code",
      "execution_count": null,
      "metadata": {
        "colab": {
          "base_uri": "https://localhost:8080/"
        },
        "id": "s0ARSBTM8GDR",
        "outputId": "702c279c-26da-404a-ded0-9af11741152c"
      },
      "outputs": [
        {
          "data": {
            "text/plain": [
              "0"
            ]
          },
          "execution_count": 134,
          "metadata": {},
          "output_type": "execute_result"
        }
      ],
      "source": [
        "# index\n",
        "L = [1,2,1,3,4,1,5]\n",
        "L.index(1)"
      ]
    },
    {
      "cell_type": "code",
      "execution_count": null,
      "metadata": {
        "colab": {
          "base_uri": "https://localhost:8080/"
        },
        "id": "aFb4ersX8GQg",
        "outputId": "92300db0-4705-453f-ff34-ec671c947d87"
      },
      "outputs": [
        {
          "name": "stdout",
          "output_type": "stream",
          "text": [
            "[0, 7, 5, 1, 2]\n"
          ]
        }
      ],
      "source": [
        "# reverse\n",
        "L = [2,1,5,7,0]\n",
        "# permanently reverses the list\n",
        "L.reverse()\n",
        "print(L)"
      ]
    },
    {
      "cell_type": "code",
      "execution_count": null,
      "metadata": {
        "colab": {
          "base_uri": "https://localhost:8080/"
        },
        "id": "QOjnE6g-8GdG",
        "outputId": "c6e7d9df-8d14-46f7-b751-6f56a19a26d5"
      },
      "outputs": [
        {
          "name": "stdout",
          "output_type": "stream",
          "text": [
            "[2, 1, 5, 7, 0]\n",
            "[0, 1, 2, 5, 7]\n",
            "[2, 1, 5, 7, 0]\n",
            "[0, 1, 2, 5, 7]\n"
          ]
        }
      ],
      "source": [
        "# sort (vs sorted)\n",
        "L = [2,1,5,7,0]\n",
        "print(L)\n",
        "print(sorted(L))\n",
        "print(L)\n",
        "L.sort()\n",
        "print(L)"
      ]
    },
    {
      "cell_type": "code",
      "execution_count": null,
      "metadata": {
        "colab": {
          "base_uri": "https://localhost:8080/"
        },
        "id": "sDwGowu78Gwq",
        "outputId": "7de357df-46b0-4511-b75c-73b0364cd283"
      },
      "outputs": [
        {
          "name": "stdout",
          "output_type": "stream",
          "text": [
            "[2, 1, 5, 7, 0]\n",
            "140163201056112\n",
            "[2, 1, 5, 7, 0]\n",
            "140163201128800\n"
          ]
        }
      ],
      "source": [
        "# copy -> shallow\n",
        "L = [2,1,5,7,0]\n",
        "print(L)\n",
        "print(id(L))\n",
        "L1 = L.copy()\n",
        "print(L1)\n",
        "print(id(L1))"
      ]
    },
    {
      "cell_type": "markdown",
      "metadata": {
        "id": "v6xUAkVUZJHL"
      },
      "source": [
        "## List Comprehension\n",
        "\n",
        "List Comprehension provides a concise way of creating lists.\n",
        "\n",
        "newlist = [expression for item in iterable if condition == True]![image.png](data:image/png;base64,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)\n",
        "\n",
        "Advantages of List Comprehension\n",
        "- More time-efficient and space-efficient than loops.\n",
        "- Require fewer lines of code.\n",
        "- Transforms iterative statement into a formula."
      ]
    },
    {
      "cell_type": "code",
      "execution_count": null,
      "metadata": {
        "colab": {
          "base_uri": "https://localhost:8080/"
        },
        "id": "FtnEk5pgZLLM",
        "outputId": "54ce5bd0-b894-40aa-8fe8-dccb4a9656f6"
      },
      "outputs": [
        {
          "name": "stdout",
          "output_type": "stream",
          "text": [
            "[1, 2, 3, 4, 5, 6, 7, 8, 9, 10]\n"
          ]
        }
      ],
      "source": [
        "# Add 1 to 10 numbers to a list\n",
        "L = []\n",
        "\n",
        "for i in range(1,11):\n",
        "  L.append(i)\n",
        "\n",
        "print(L)"
      ]
    },
    {
      "cell_type": "code",
      "execution_count": null,
      "metadata": {
        "colab": {
          "base_uri": "https://localhost:8080/"
        },
        "id": "wHO9l8qL3Oj4",
        "outputId": "a4d82038-e4f8-4c9e-b15d-793047b803b1"
      },
      "outputs": [
        {
          "name": "stdout",
          "output_type": "stream",
          "text": [
            "[1, 2, 3, 4, 5, 6, 7, 8, 9, 10]\n"
          ]
        }
      ],
      "source": [
        "L = [i for i in range(1,11)]\n",
        "print(L)"
      ]
    },
    {
      "cell_type": "code",
      "execution_count": null,
      "metadata": {
        "colab": {
          "base_uri": "https://localhost:8080/"
        },
        "id": "IjB6bmXl5buH",
        "outputId": "a871a52c-2052-4a15-9002-e3020e176eeb"
      },
      "outputs": [
        {
          "data": {
            "text/plain": [
              "[-6, -9, -12]"
            ]
          },
          "execution_count": 145,
          "metadata": {},
          "output_type": "execute_result"
        }
      ],
      "source": [
        "# scalar multiplication on a vector\n",
        "v = [2,3,4]\n",
        "s = -3\n",
        "# [-6,-9,-12]\n",
        "\n",
        "[s*i for i in v]"
      ]
    },
    {
      "cell_type": "code",
      "execution_count": null,
      "metadata": {
        "colab": {
          "base_uri": "https://localhost:8080/"
        },
        "id": "KawkjMHD43QN",
        "outputId": "f43fa5f9-60e8-4dec-d52a-3a406897d1fa"
      },
      "outputs": [
        {
          "data": {
            "text/plain": [
              "[1, 4, 9, 16, 25]"
            ]
          },
          "execution_count": 146,
          "metadata": {},
          "output_type": "execute_result"
        }
      ],
      "source": [
        "# Add squares\n",
        "L = [1,2,3,4,5]\n",
        "\n",
        "[i**2 for i in L]\n"
      ]
    },
    {
      "cell_type": "code",
      "execution_count": null,
      "metadata": {
        "colab": {
          "base_uri": "https://localhost:8080/"
        },
        "id": "Bt4-DLOV45bY",
        "outputId": "40678c7c-2b4b-4cc7-cc67-538d165647c8"
      },
      "outputs": [
        {
          "data": {
            "text/plain": [
              "[5, 10, 15, 20, 25, 30, 35, 40, 45, 50]"
            ]
          },
          "execution_count": 147,
          "metadata": {},
          "output_type": "execute_result"
        }
      ],
      "source": [
        "# Print all numbers divisible by 5 in the range of 1 to 50\n",
        "\n",
        "[i for i in range(1,51) if i%5 == 0]"
      ]
    },
    {
      "cell_type": "code",
      "execution_count": null,
      "metadata": {
        "colab": {
          "base_uri": "https://localhost:8080/"
        },
        "id": "7nQ5xhV45OyO",
        "outputId": "878631ca-bc81-45b5-877c-5aa12e1dcd78"
      },
      "outputs": [
        {
          "data": {
            "text/plain": [
              "['python', 'php']"
            ]
          },
          "execution_count": 149,
          "metadata": {},
          "output_type": "execute_result"
        }
      ],
      "source": [
        "# find languages which start with letter p\n",
        "languages = ['java','python','php','c','javascript']\n",
        "\n",
        "[language for language in languages if language.startswith('p')]"
      ]
    },
    {
      "cell_type": "code",
      "execution_count": null,
      "metadata": {
        "colab": {
          "base_uri": "https://localhost:8080/"
        },
        "id": "RL6UEQnA67pb",
        "outputId": "73e2d972-9bda-442d-cfd6-0ef777ed655f"
      },
      "outputs": [
        {
          "data": {
            "text/plain": [
              "['apple']"
            ]
          },
          "execution_count": 150,
          "metadata": {},
          "output_type": "execute_result"
        }
      ],
      "source": [
        "# Nested if with List Comprehension\n",
        "basket = ['apple','guava','cherry','banana']\n",
        "my_fruits = ['apple','kiwi','grapes','banana']\n",
        "\n",
        "# add new list from my_fruits and items if the fruit exists in basket and also starts with 'a'\n",
        "\n",
        "[fruit for fruit in my_fruits if fruit in basket if fruit.startswith('a')]"
      ]
    },
    {
      "cell_type": "code",
      "execution_count": null,
      "metadata": {
        "colab": {
          "base_uri": "https://localhost:8080/"
        },
        "id": "AIbcgNY26d8_",
        "outputId": "9832aa96-82fa-4770-bcae-679852075df7"
      },
      "outputs": [
        {
          "data": {
            "text/plain": [
              "[[1, 2, 3], [2, 4, 6], [3, 6, 9]]"
            ]
          },
          "execution_count": 29,
          "metadata": {},
          "output_type": "execute_result"
        }
      ],
      "source": [
        "# Print a (3,3) matrix using list comprehension -> Nested List comprehension\n",
        "[[i*j for i in range(1,4)] for j in range(1,4)]"
      ]
    },
    {
      "cell_type": "code",
      "execution_count": null,
      "metadata": {
        "colab": {
          "base_uri": "https://localhost:8080/"
        },
        "id": "0NZzZB955pkh",
        "outputId": "a0563d4b-ba06-4a5b-dda0-bf1e6b332807"
      },
      "outputs": [
        {
          "data": {
            "text/plain": [
              "[5, 6, 7, 8, 10, 12, 14, 16, 15, 18, 21, 24, 20, 24, 28, 32]"
            ]
          },
          "execution_count": 151,
          "metadata": {},
          "output_type": "execute_result"
        }
      ],
      "source": [
        "# cartesian products -> List comprehension on 2 lists together\n",
        "L1 = [1,2,3,4]\n",
        "L2 = [5,6,7,8]\n",
        "\n",
        "[i*j for i in L1 for j in L2]"
      ]
    },
    {
      "cell_type": "markdown",
      "metadata": {
        "id": "av42MB70aHu2"
      },
      "source": [
        "## 2 ways to traverse a list\n",
        "\n",
        "- itemwise\n",
        "- indexwise"
      ]
    },
    {
      "cell_type": "code",
      "execution_count": null,
      "metadata": {
        "colab": {
          "base_uri": "https://localhost:8080/"
        },
        "id": "hHMxbOpcaOwt",
        "outputId": "3b1ca46c-7fa6-46e4-890a-1e6181417684"
      },
      "outputs": [
        {
          "name": "stdout",
          "output_type": "stream",
          "text": [
            "1\n",
            "2\n",
            "3\n",
            "4\n"
          ]
        }
      ],
      "source": [
        "# itemwise\n",
        "L = [1,2,3,4]\n",
        "\n",
        "for i in L:\n",
        "  print(i)"
      ]
    },
    {
      "cell_type": "code",
      "execution_count": null,
      "metadata": {
        "colab": {
          "base_uri": "https://localhost:8080/"
        },
        "id": "iITa2C766hGl",
        "outputId": "f9234933-2f4d-47c5-ab5f-b43ede4a274a"
      },
      "outputs": [
        {
          "name": "stdout",
          "output_type": "stream",
          "text": [
            "1\n",
            "2\n",
            "3\n",
            "4\n"
          ]
        }
      ],
      "source": [
        "# indexwise\n",
        "L = [1,2,3,4]\n",
        "\n",
        "for i in range(0,len(L)):\n",
        "  print(L[i])\n"
      ]
    },
    {
      "cell_type": "markdown",
      "metadata": {
        "id": "PYBoKZ0I31aN"
      },
      "source": [
        "## Zip\n",
        "\n",
        "The zip() function returns a zip object, which is an iterator of tuples where the first item in each passed iterator is paired together, and then the second item in each passed iterator are paired together.\n",
        "\n",
        "If the passed iterators have different lengths, the iterator with the least items decides the length of the new iterator."
      ]
    },
    {
      "cell_type": "code",
      "execution_count": null,
      "metadata": {
        "colab": {
          "base_uri": "https://localhost:8080/"
        },
        "id": "LyliWGur_Am0",
        "outputId": "594e26c6-3bd1-4f6c-fa42-3df25fb4b81f"
      },
      "outputs": [
        {
          "data": {
            "text/plain": [
              "[0, 0, 0, 0]"
            ]
          },
          "execution_count": 157,
          "metadata": {},
          "output_type": "execute_result"
        }
      ],
      "source": [
        "# Write a program to add items of 2 lists indexwise\n",
        "\n",
        "L1 = [1,2,3,4]\n",
        "L2 = [-1,-2,-3,-4]\n",
        "\n",
        "list(zip(L1,L2))\n",
        "\n",
        "[i+j for i,j in zip(L1,L2)]"
      ]
    },
    {
      "cell_type": "code",
      "execution_count": null,
      "metadata": {
        "colab": {
          "base_uri": "https://localhost:8080/"
        },
        "id": "5c94389h8PQ8",
        "outputId": "3833607d-5e09-4372-e415-ba3d00497cfb"
      },
      "outputs": [
        {
          "name": "stdout",
          "output_type": "stream",
          "text": [
            "[1, 2, <built-in function print>, <class 'type'>, <bound method Kernel.raw_input of <google.colab._kernel.Kernel object at 0x7f7a67452a90>>]\n"
          ]
        }
      ],
      "source": [
        "L = [1,2,print,type,input]\n",
        "\n",
        "print(L)"
      ]
    },
    {
      "cell_type": "markdown",
      "metadata": {
        "id": "bmQWcy0RC9Gm"
      },
      "source": [
        "## Disadvantages of Python Lists\n",
        "\n",
        "- Slow\n",
        "- Risky usage\n",
        "- eats up more memory"
      ]
    },
    {
      "cell_type": "code",
      "execution_count": null,
      "metadata": {
        "colab": {
          "base_uri": "https://localhost:8080/"
        },
        "id": "K2mS0qgv9A_P",
        "outputId": "6f56e615-c586-4cdb-edc5-41b05ea129d5"
      },
      "outputs": [
        {
          "name": "stdout",
          "output_type": "stream",
          "text": [
            "[1, 2, 3]\n",
            "[1, 2, 3]\n",
            "[1, 2, 3, 4]\n",
            "[1, 2, 3]\n"
          ]
        }
      ],
      "source": [
        "a = [1,2,3]\n",
        "b = a.copy()\n",
        "\n",
        "print(a)\n",
        "print(b)\n",
        "\n",
        "a.append(4)\n",
        "print(a)\n",
        "print(b)\n",
        "\n",
        "# lists are mutable"
      ]
    },
    {
      "cell_type": "markdown",
      "metadata": {
        "id": "zhi7DF6JZLvq"
      },
      "source": [
        "## List Programs"
      ]
    },
    {
      "cell_type": "code",
      "execution_count": null,
      "metadata": {
        "id": "dNGiQCzMaSKV"
      },
      "outputs": [],
      "source": [
        "# Create 2 lists from a given list where\n",
        "# 1st list will contain all the odd numbers from the original list and\n",
        "# the 2nd one will contain all the even numbers\n",
        "\n",
        "L = [1,2,3,4,5,6]"
      ]
    },
    {
      "cell_type": "code",
      "execution_count": null,
      "metadata": {
        "id": "3NdKSX-7biO1"
      },
      "outputs": [],
      "source": [
        "# How to take list as input from user"
      ]
    },
    {
      "cell_type": "code",
      "execution_count": null,
      "metadata": {
        "id": "UtnSb5P3aayJ"
      },
      "outputs": [],
      "source": [
        "# Write a program to merge 2 list without using the + operator\n",
        "L1 = [1,2,3,4]\n",
        "L2 = [5,6,7,8]\n"
      ]
    },
    {
      "cell_type": "code",
      "execution_count": null,
      "metadata": {
        "id": "_vd7x_AJaeNY"
      },
      "outputs": [],
      "source": [
        "# Write a program to replace an item with a different item if found in the list\n",
        "L = [1,2,3,4,5,3]\n",
        "# replace 3 with 300"
      ]
    },
    {
      "cell_type": "code",
      "execution_count": null,
      "metadata": {
        "id": "93oKWuVFaiDV"
      },
      "outputs": [],
      "source": [
        "# Write a program that can convert a 2D list to 1D list"
      ]
    },
    {
      "cell_type": "code",
      "execution_count": null,
      "metadata": {
        "id": "8z0CO9GMat6y"
      },
      "outputs": [],
      "source": [
        "# Write a program to remove duplicate items from a list\n",
        "\n",
        "L = [1,2,1,2,3,4,5,3,4]"
      ]
    },
    {
      "cell_type": "code",
      "execution_count": 1,
      "metadata": {
        "id": "zCQlyJ-VbFMG"
      },
      "outputs": [
        {
          "name": "stdout",
          "output_type": "stream",
          "text": [
            "\\ \n"
          ]
        }
      ],
      "source": [
        "# Write a program to check if a list is in ascending order or not\n",
        "print(r\"\\ \")"
      ]
    },
    {
      "cell_type": "code",
      "execution_count": 3,
      "metadata": {},
      "outputs": [
        {
          "name": "stdout",
          "output_type": "stream",
          "text": [
            "Match found!\n"
          ]
        }
      ],
      "source": [
        "import re\n",
        "s1 = \"Michael Jackson is the best\"\n",
        "\n",
        "# Define the pattern to search for\n",
        "pattern = r\"Jackson\"\n",
        "\n",
        "# Use the search() function to search for the pattern in the string\n",
        "result = re.search(pattern, s1)\n",
        "\n",
        "# Check if a match was found\n",
        "if result:\n",
        "    print(\"Match found!\")\n",
        "else:\n",
        "    print(\"Match not found.\")\n"
      ]
    }
  ],
  "metadata": {
    "colab": {
      "provenance": []
    },
    "kernelspec": {
      "display_name": "Python 3",
      "name": "python3"
    },
    "language_info": {
      "codemirror_mode": {
        "name": "ipython",
        "version": 3
      },
      "file_extension": ".py",
      "mimetype": "text/x-python",
      "name": "python",
      "nbconvert_exporter": "python",
      "pygments_lexer": "ipython3",
      "version": "3.12.8"
    }
  },
  "nbformat": 4,
  "nbformat_minor": 0
}
